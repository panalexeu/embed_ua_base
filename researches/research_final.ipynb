{
 "cells": [
  {
   "cell_type": "code",
   "execution_count": 1,
   "metadata": {
    "execution": {
     "iopub.execute_input": "2025-04-13T12:05:40.585116Z",
     "iopub.status.busy": "2025-04-13T12:05:40.584755Z",
     "iopub.status.idle": "2025-04-13T12:07:08.645900Z",
     "shell.execute_reply": "2025-04-13T12:07:08.644940Z",
     "shell.execute_reply.started": "2025-04-13T12:05:40.585096Z"
    }
   },
   "outputs": [
    {
     "name": "stdout",
     "output_type": "stream",
     "text": [
      "\u001b[2K   \u001b[90m━━━━━━━━━━━━━━━━━━━━━━━━━━━━━━━━━━━━━━━━\u001b[0m \u001b[32m363.4/363.4 MB\u001b[0m \u001b[31m4.3 MB/s\u001b[0m eta \u001b[36m0:00:00\u001b[0m0:00:01\u001b[0m00:01\u001b[0m\n",
      "\u001b[2K   \u001b[90m━━━━━━━━━━━━━━━━━━━━━━━━━━━━━━━━━━━━━━━━\u001b[0m \u001b[32m664.8/664.8 MB\u001b[0m \u001b[31m1.6 MB/s\u001b[0m eta \u001b[36m0:00:00\u001b[0m0:00:01\u001b[0m00:01\u001b[0m\n",
      "\u001b[2K   \u001b[90m━━━━━━━━━━━━━━━━━━━━━━━━━━━━━━━━━━━━━━━━\u001b[0m \u001b[32m211.5/211.5 MB\u001b[0m \u001b[31m2.9 MB/s\u001b[0m eta \u001b[36m0:00:00\u001b[0m0:00:01\u001b[0m00:01\u001b[0m\n",
      "\u001b[2K   \u001b[90m━━━━━━━━━━━━━━━━━━━━━━━━━━━━━━━━━━━━━━━━\u001b[0m \u001b[32m56.3/56.3 MB\u001b[0m \u001b[31m30.8 MB/s\u001b[0m eta \u001b[36m0:00:00\u001b[0m:00:01\u001b[0m00:01\u001b[0m\n",
      "\u001b[2K   \u001b[90m━━━━━━━━━━━━━━━━━━━━━━━━━━━━━━━━━━━━━━━━\u001b[0m \u001b[32m127.9/127.9 MB\u001b[0m \u001b[31m13.5 MB/s\u001b[0m eta \u001b[36m0:00:00\u001b[0m:00:01\u001b[0m00:01\u001b[0m\n",
      "\u001b[2K   \u001b[90m━━━━━━━━━━━━━━━━━━━━━━━━━━━━━━━━━━━━━━━━\u001b[0m \u001b[32m207.5/207.5 MB\u001b[0m \u001b[31m8.3 MB/s\u001b[0m eta \u001b[36m0:00:00\u001b[0m0:00:01\u001b[0m00:01\u001b[0m\n",
      "\u001b[2K   \u001b[90m━━━━━━━━━━━━━━━━━━━━━━━━━━━━━━━━━━━━━━━━\u001b[0m \u001b[32m21.1/21.1 MB\u001b[0m \u001b[31m81.1 MB/s\u001b[0m eta \u001b[36m0:00:00\u001b[0m:00:01\u001b[0m00:01\u001b[0m\n",
      "\u001b[?25h\u001b[31mERROR: pip's dependency resolver does not currently take into account all the packages that are installed. This behaviour is the source of the following dependency conflicts.\n",
      "pylibcugraph-cu12 24.12.0 requires pylibraft-cu12==24.12.*, but you have pylibraft-cu12 25.2.0 which is incompatible.\n",
      "pylibcugraph-cu12 24.12.0 requires rmm-cu12==24.12.*, but you have rmm-cu12 25.2.0 which is incompatible.\u001b[0m\u001b[31m\n",
      "\u001b[2K   \u001b[90m━━━━━━━━━━━━━━━━━━━━━━━━━━━━━━━━━━━━━━━━\u001b[0m \u001b[32m183.9/183.9 kB\u001b[0m \u001b[31m7.2 MB/s\u001b[0m eta \u001b[36m0:00:00\u001b[0m\n",
      "\u001b[?25h\u001b[31mERROR: pip's dependency resolver does not currently take into account all the packages that are installed. This behaviour is the source of the following dependency conflicts.\n",
      "gcsfs 2024.10.0 requires fsspec==2024.10.0, but you have fsspec 2024.12.0 which is incompatible.\n",
      "bigframes 1.36.0 requires rich<14,>=12.4.4, but you have rich 14.0.0 which is incompatible.\u001b[0m\u001b[31m\n",
      "\u001b[0m"
     ]
    }
   ],
   "source": [
    "!pip install -q sentence-transformers\n",
    "!pip install -q transformers\n",
    "!pip install -q datasets \n",
    "!pip install -q pandas \n",
    "!pip install -q accelerate "
   ]
  },
  {
   "cell_type": "code",
   "execution_count": 2,
   "metadata": {
    "execution": {
     "iopub.execute_input": "2025-04-13T12:07:08.647166Z",
     "iopub.status.busy": "2025-04-13T12:07:08.646919Z",
     "iopub.status.idle": "2025-04-13T12:07:22.579261Z",
     "shell.execute_reply": "2025-04-13T12:07:22.578497Z",
     "shell.execute_reply.started": "2025-04-13T12:07:08.647142Z"
    }
   },
   "outputs": [],
   "source": [
    "!pip uninstall -qy wandb"
   ]
  },
  {
   "cell_type": "code",
   "execution_count": 3,
   "metadata": {
    "execution": {
     "iopub.execute_input": "2025-04-13T12:07:22.581334Z",
     "iopub.status.busy": "2025-04-13T12:07:22.581108Z",
     "iopub.status.idle": "2025-04-13T12:07:38.249743Z",
     "shell.execute_reply": "2025-04-13T12:07:38.248905Z",
     "shell.execute_reply.started": "2025-04-13T12:07:22.581315Z"
    }
   },
   "outputs": [
    {
     "data": {
      "application/vnd.jupyter.widget-view+json": {
       "model_id": "5e46a72737114d859f0eca8c34935b97",
       "version_major": 2,
       "version_minor": 0
      },
      "text/plain": [
       "README.md:   0%|          | 0.00/25.0k [00:00<?, ?B/s]"
      ]
     },
     "metadata": {},
     "output_type": "display_data"
    },
    {
     "name": "stderr",
     "output_type": "stream",
     "text": [
      "Xet Storage is enabled for this repo, but the 'hf_xet' package is not installed. Falling back to regular HTTP download. For better performance, install the package with: `pip install huggingface_hub[hf_xet]` or `pip install hf_xet`\n"
     ]
    },
    {
     "data": {
      "application/vnd.jupyter.widget-view+json": {
       "model_id": "be7959ac5c2542a7917745d1969adb4a",
       "version_major": 2,
       "version_minor": 0
      },
      "text/plain": [
       "dev-00000-of-00001.parquet:   0%|          | 0.00/148k [00:00<?, ?B/s]"
      ]
     },
     "metadata": {},
     "output_type": "display_data"
    },
    {
     "name": "stderr",
     "output_type": "stream",
     "text": [
      "Xet Storage is enabled for this repo, but the 'hf_xet' package is not installed. Falling back to regular HTTP download. For better performance, install the package with: `pip install huggingface_hub[hf_xet]` or `pip install hf_xet`\n"
     ]
    },
    {
     "data": {
      "application/vnd.jupyter.widget-view+json": {
       "model_id": "af07e6cf2e3946a5b8d4c04f61fff52e",
       "version_major": 2,
       "version_minor": 0
      },
      "text/plain": [
       "train-00000-of-00001.parquet:   0%|          | 0.00/30.1M [00:00<?, ?B/s]"
      ]
     },
     "metadata": {},
     "output_type": "display_data"
    },
    {
     "data": {
      "application/vnd.jupyter.widget-view+json": {
       "model_id": "b8346105293040ebbd7afa3e08db3364",
       "version_major": 2,
       "version_minor": 0
      },
      "text/plain": [
       "Generating dev split:   0%|          | 0/993 [00:00<?, ? examples/s]"
      ]
     },
     "metadata": {},
     "output_type": "display_data"
    },
    {
     "data": {
      "application/vnd.jupyter.widget-view+json": {
       "model_id": "bd1ae99bd50b4881a78f6442038cf98e",
       "version_major": 2,
       "version_minor": 0
      },
      "text/plain": [
       "Generating train split:   0%|          | 0/201883 [00:00<?, ? examples/s]"
      ]
     },
     "metadata": {},
     "output_type": "display_data"
    },
    {
     "data": {
      "application/vnd.jupyter.widget-view+json": {
       "model_id": "d74e4278b2fb431db46129871c715f2d",
       "version_major": 2,
       "version_minor": 0
      },
      "text/plain": [
       "README.md:   0%|          | 0.00/19.6k [00:00<?, ?B/s]"
      ]
     },
     "metadata": {},
     "output_type": "display_data"
    },
    {
     "name": "stderr",
     "output_type": "stream",
     "text": [
      "Xet Storage is enabled for this repo, but the 'hf_xet' package is not installed. Falling back to regular HTTP download. For better performance, install the package with: `pip install huggingface_hub[hf_xet]` or `pip install hf_xet`\n"
     ]
    },
    {
     "data": {
      "application/vnd.jupyter.widget-view+json": {
       "model_id": "8a6d77666a7a4e38aea9544e3e5ad090",
       "version_major": 2,
       "version_minor": 0
      },
      "text/plain": [
       "dev-00000-of-00001.parquet:   0%|          | 0.00/115k [00:00<?, ?B/s]"
      ]
     },
     "metadata": {},
     "output_type": "display_data"
    },
    {
     "name": "stderr",
     "output_type": "stream",
     "text": [
      "Xet Storage is enabled for this repo, but the 'hf_xet' package is not installed. Falling back to regular HTTP download. For better performance, install the package with: `pip install huggingface_hub[hf_xet]` or `pip install hf_xet`\n"
     ]
    },
    {
     "data": {
      "application/vnd.jupyter.widget-view+json": {
       "model_id": "082529c684a543efbd04ec7b9552859b",
       "version_major": 2,
       "version_minor": 0
      },
      "text/plain": [
       "train-00000-of-00001.parquet:   0%|          | 0.00/27.8M [00:00<?, ?B/s]"
      ]
     },
     "metadata": {},
     "output_type": "display_data"
    },
    {
     "data": {
      "application/vnd.jupyter.widget-view+json": {
       "model_id": "8cddc80a3a0e4a9b94062493b2bfdbbf",
       "version_major": 2,
       "version_minor": 0
      },
      "text/plain": [
       "Generating dev split:   0%|          | 0/1000 [00:00<?, ? examples/s]"
      ]
     },
     "metadata": {},
     "output_type": "display_data"
    },
    {
     "data": {
      "application/vnd.jupyter.widget-view+json": {
       "model_id": "a2061dcb3e5e4c03b40296be140bab9b",
       "version_major": 2,
       "version_minor": 0
      },
      "text/plain": [
       "Generating train split:   0%|          | 0/132253 [00:00<?, ? examples/s]"
      ]
     },
     "metadata": {},
     "output_type": "display_data"
    },
    {
     "data": {
      "application/vnd.jupyter.widget-view+json": {
       "model_id": "f8e627e8ffd84427a1aa167778fbc11a",
       "version_major": 2,
       "version_minor": 0
      },
      "text/plain": [
       "README.md:   0%|          | 0.00/21.1k [00:00<?, ?B/s]"
      ]
     },
     "metadata": {},
     "output_type": "display_data"
    },
    {
     "name": "stderr",
     "output_type": "stream",
     "text": [
      "Xet Storage is enabled for this repo, but the 'hf_xet' package is not installed. Falling back to regular HTTP download. For better performance, install the package with: `pip install huggingface_hub[hf_xet]` or `pip install hf_xet`\n"
     ]
    },
    {
     "data": {
      "application/vnd.jupyter.widget-view+json": {
       "model_id": "cdc9f5f07d7440fcaf9ff36437dc755a",
       "version_major": 2,
       "version_minor": 0
      },
      "text/plain": [
       "dev-00000-of-00001.parquet:   0%|          | 0.00/77.2k [00:00<?, ?B/s]"
      ]
     },
     "metadata": {},
     "output_type": "display_data"
    },
    {
     "name": "stderr",
     "output_type": "stream",
     "text": [
      "Xet Storage is enabled for this repo, but the 'hf_xet' package is not installed. Falling back to regular HTTP download. For better performance, install the package with: `pip install huggingface_hub[hf_xet]` or `pip install hf_xet`\n"
     ]
    },
    {
     "data": {
      "application/vnd.jupyter.widget-view+json": {
       "model_id": "353c6387e7a44580963e7c541df3f86f",
       "version_major": 2,
       "version_minor": 0
      },
      "text/plain": [
       "train-00000-of-00001.parquet:   0%|          | 0.00/7.38M [00:00<?, ?B/s]"
      ]
     },
     "metadata": {},
     "output_type": "display_data"
    },
    {
     "data": {
      "application/vnd.jupyter.widget-view+json": {
       "model_id": "4ae7be08148a4d3485ca95af77c9e523",
       "version_major": 2,
       "version_minor": 0
      },
      "text/plain": [
       "Generating dev split:   0%|          | 0/1845 [00:00<?, ? examples/s]"
      ]
     },
     "metadata": {},
     "output_type": "display_data"
    },
    {
     "data": {
      "application/vnd.jupyter.widget-view+json": {
       "model_id": "649d0493e03f4adca08dcdc2e7332ae8",
       "version_major": 2,
       "version_minor": 0
      },
      "text/plain": [
       "Generating train split:   0%|          | 0/189846 [00:00<?, ? examples/s]"
      ]
     },
     "metadata": {},
     "output_type": "display_data"
    },
    {
     "data": {
      "text/plain": [
       "Dataset({\n",
       "    features: ['english', 'non_english'],\n",
       "    num_rows: 523982\n",
       "})"
      ]
     },
     "execution_count": 3,
     "metadata": {},
     "output_type": "execute_result"
    }
   ],
   "source": [
    "from datasets import load_dataset, concatenate_datasets\n",
    "\n",
    "talks = load_dataset('sentence-transformers/parallel-sentences-talks', 'en-uk')\n",
    "wikimatrix = load_dataset('sentence-transformers/parallel-sentences-wikimatrix', 'en-uk')\n",
    "tatoeba = load_dataset('sentence-transformers/parallel-sentences-tatoeba', 'en-uk')\n",
    "\n",
    "mega_train = concatenate_datasets([talks['train'], wikimatrix['train'], tatoeba['train']])\n",
    "mega_train = mega_train.shuffle()\n",
    "mega_train"
   ]
  },
  {
   "cell_type": "code",
   "execution_count": 4,
   "metadata": {
    "execution": {
     "iopub.execute_input": "2025-04-13T12:07:38.251136Z",
     "iopub.status.busy": "2025-04-13T12:07:38.250611Z",
     "iopub.status.idle": "2025-04-13T12:07:41.730046Z",
     "shell.execute_reply": "2025-04-13T12:07:41.729478Z",
     "shell.execute_reply.started": "2025-04-13T12:07:38.251109Z"
    }
   },
   "outputs": [],
   "source": [
    "mega_train.set_format(type='pandas')\n",
    "mega_train_df = mega_train[:]"
   ]
  },
  {
   "cell_type": "code",
   "execution_count": 5,
   "metadata": {
    "execution": {
     "iopub.execute_input": "2025-04-13T12:07:41.730965Z",
     "iopub.status.busy": "2025-04-13T12:07:41.730786Z",
     "iopub.status.idle": "2025-04-13T12:07:41.877086Z",
     "shell.execute_reply": "2025-04-13T12:07:41.876412Z",
     "shell.execute_reply.started": "2025-04-13T12:07:41.730951Z"
    }
   },
   "outputs": [
    {
     "name": "stdout",
     "output_type": "stream",
     "text": [
      "<class 'pandas.core.frame.DataFrame'>\n",
      "RangeIndex: 523982 entries, 0 to 523981\n",
      "Data columns (total 2 columns):\n",
      " #   Column       Non-Null Count   Dtype \n",
      "---  ------       --------------   ----- \n",
      " 0   english      523982 non-null  object\n",
      " 1   non_english  523982 non-null  object\n",
      "dtypes: object(2)\n",
      "memory usage: 8.0+ MB\n"
     ]
    }
   ],
   "source": [
    "mega_train_df.info()"
   ]
  },
  {
   "cell_type": "code",
   "execution_count": 6,
   "metadata": {
    "execution": {
     "iopub.execute_input": "2025-04-13T12:07:41.878167Z",
     "iopub.status.busy": "2025-04-13T12:07:41.877881Z",
     "iopub.status.idle": "2025-04-13T12:07:41.899045Z",
     "shell.execute_reply": "2025-04-13T12:07:41.898410Z",
     "shell.execute_reply.started": "2025-04-13T12:07:41.878146Z"
    }
   },
   "outputs": [
    {
     "data": {
      "text/html": [
       "<div>\n",
       "<style scoped>\n",
       "    .dataframe tbody tr th:only-of-type {\n",
       "        vertical-align: middle;\n",
       "    }\n",
       "\n",
       "    .dataframe tbody tr th {\n",
       "        vertical-align: top;\n",
       "    }\n",
       "\n",
       "    .dataframe thead th {\n",
       "        text-align: right;\n",
       "    }\n",
       "</style>\n",
       "<table border=\"1\" class=\"dataframe\">\n",
       "  <thead>\n",
       "    <tr style=\"text-align: right;\">\n",
       "      <th></th>\n",
       "      <th>english</th>\n",
       "      <th>non_english</th>\n",
       "    </tr>\n",
       "  </thead>\n",
       "  <tbody>\n",
       "    <tr>\n",
       "      <th>0</th>\n",
       "      <td>Her real name is Lydia (リディア, Ridia), but she ...</td>\n",
       "      <td>Справжнє ім'я — Лідія, але її помилково сприйн...</td>\n",
       "    </tr>\n",
       "    <tr>\n",
       "      <th>1</th>\n",
       "      <td>(Applause) So he didn't just learn water.</td>\n",
       "      <td>(Аплодисменти) Він не тільки вивчив слово \"вода\".</td>\n",
       "    </tr>\n",
       "    <tr>\n",
       "      <th>2</th>\n",
       "      <td>It is tightly integrated with SAM, the Storage...</td>\n",
       "      <td>Вона тісно інтегрована з SAM (Storage and Arch...</td>\n",
       "    </tr>\n",
       "    <tr>\n",
       "      <th>3</th>\n",
       "      <td>Tom said that he'd wait and see.</td>\n",
       "      <td>Том сказав, що він почекає й вирішить.</td>\n",
       "    </tr>\n",
       "    <tr>\n",
       "      <th>4</th>\n",
       "      <td>Maybe I am finally fixed, maybe I just don't c...</td>\n",
       "      <td>Можливо, я нарешті зцілений, можливо, мені ста...</td>\n",
       "    </tr>\n",
       "  </tbody>\n",
       "</table>\n",
       "</div>"
      ],
      "text/plain": [
       "                                             english  \\\n",
       "0  Her real name is Lydia (リディア, Ridia), but she ...   \n",
       "1          (Applause) So he didn't just learn water.   \n",
       "2  It is tightly integrated with SAM, the Storage...   \n",
       "3                   Tom said that he'd wait and see.   \n",
       "4  Maybe I am finally fixed, maybe I just don't c...   \n",
       "\n",
       "                                         non_english  \n",
       "0  Справжнє ім'я — Лідія, але її помилково сприйн...  \n",
       "1  (Аплодисменти) Він не тільки вивчив слово \"вода\".  \n",
       "2  Вона тісно інтегрована з SAM (Storage and Arch...  \n",
       "3             Том сказав, що він почекає й вирішить.  \n",
       "4  Можливо, я нарешті зцілений, можливо, мені ста...  "
      ]
     },
     "execution_count": 6,
     "metadata": {},
     "output_type": "execute_result"
    }
   ],
   "source": [
    "mega_train_df.head()"
   ]
  },
  {
   "cell_type": "code",
   "execution_count": 7,
   "metadata": {
    "execution": {
     "iopub.execute_input": "2025-04-13T12:07:41.900375Z",
     "iopub.status.busy": "2025-04-13T12:07:41.900060Z",
     "iopub.status.idle": "2025-04-13T12:07:41.904659Z",
     "shell.execute_reply": "2025-04-13T12:07:41.903830Z",
     "shell.execute_reply.started": "2025-04-13T12:07:41.900355Z"
    }
   },
   "outputs": [],
   "source": [
    "# reset df format\n",
    "mega_train.reset_format()"
   ]
  },
  {
   "cell_type": "code",
   "execution_count": 8,
   "metadata": {
    "execution": {
     "iopub.execute_input": "2025-04-13T12:07:41.905672Z",
     "iopub.status.busy": "2025-04-13T12:07:41.905442Z",
     "iopub.status.idle": "2025-04-13T12:07:41.926879Z",
     "shell.execute_reply": "2025-04-13T12:07:41.926157Z",
     "shell.execute_reply.started": "2025-04-13T12:07:41.905649Z"
    }
   },
   "outputs": [
    {
     "data": {
      "text/plain": [
       "Dataset({\n",
       "    features: ['english', 'non_english'],\n",
       "    num_rows: 3838\n",
       "})"
      ]
     },
     "execution_count": 8,
     "metadata": {},
     "output_type": "execute_result"
    }
   ],
   "source": [
    "mega_eval = concatenate_datasets([talks['dev'], wikimatrix['dev'], tatoeba['dev']])\n",
    "mega_eval = mega_eval.shuffle()\n",
    "mega_eval "
   ]
  },
  {
   "cell_type": "code",
   "execution_count": 9,
   "metadata": {
    "execution": {
     "iopub.execute_input": "2025-04-13T12:07:41.929632Z",
     "iopub.status.busy": "2025-04-13T12:07:41.929434Z",
     "iopub.status.idle": "2025-04-13T12:07:41.949961Z",
     "shell.execute_reply": "2025-04-13T12:07:41.949274Z",
     "shell.execute_reply.started": "2025-04-13T12:07:41.929617Z"
    }
   },
   "outputs": [],
   "source": [
    "mega_eval.set_format(type='pandas')\n",
    "mega_eval_df = mega_eval[:]"
   ]
  },
  {
   "cell_type": "code",
   "execution_count": 10,
   "metadata": {
    "execution": {
     "iopub.execute_input": "2025-04-13T12:07:41.950986Z",
     "iopub.status.busy": "2025-04-13T12:07:41.950717Z",
     "iopub.status.idle": "2025-04-13T12:07:41.959139Z",
     "shell.execute_reply": "2025-04-13T12:07:41.958547Z",
     "shell.execute_reply.started": "2025-04-13T12:07:41.950966Z"
    }
   },
   "outputs": [
    {
     "name": "stdout",
     "output_type": "stream",
     "text": [
      "<class 'pandas.core.frame.DataFrame'>\n",
      "RangeIndex: 3838 entries, 0 to 3837\n",
      "Data columns (total 2 columns):\n",
      " #   Column       Non-Null Count  Dtype \n",
      "---  ------       --------------  ----- \n",
      " 0   english      3838 non-null   object\n",
      " 1   non_english  3838 non-null   object\n",
      "dtypes: object(2)\n",
      "memory usage: 60.1+ KB\n"
     ]
    }
   ],
   "source": [
    "mega_eval_df.info()"
   ]
  },
  {
   "cell_type": "code",
   "execution_count": 11,
   "metadata": {
    "execution": {
     "iopub.execute_input": "2025-04-13T12:07:41.959952Z",
     "iopub.status.busy": "2025-04-13T12:07:41.959776Z",
     "iopub.status.idle": "2025-04-13T12:07:41.976715Z",
     "shell.execute_reply": "2025-04-13T12:07:41.976095Z",
     "shell.execute_reply.started": "2025-04-13T12:07:41.959938Z"
    }
   },
   "outputs": [
    {
     "data": {
      "text/html": [
       "<div>\n",
       "<style scoped>\n",
       "    .dataframe tbody tr th:only-of-type {\n",
       "        vertical-align: middle;\n",
       "    }\n",
       "\n",
       "    .dataframe tbody tr th {\n",
       "        vertical-align: top;\n",
       "    }\n",
       "\n",
       "    .dataframe thead th {\n",
       "        text-align: right;\n",
       "    }\n",
       "</style>\n",
       "<table border=\"1\" class=\"dataframe\">\n",
       "  <thead>\n",
       "    <tr style=\"text-align: right;\">\n",
       "      <th></th>\n",
       "      <th>english</th>\n",
       "      <th>non_english</th>\n",
       "    </tr>\n",
       "  </thead>\n",
       "  <tbody>\n",
       "    <tr>\n",
       "      <th>0</th>\n",
       "      <td>I have lost my wallet.</td>\n",
       "      <td>Я загубив гаманець.</td>\n",
       "    </tr>\n",
       "    <tr>\n",
       "      <th>1</th>\n",
       "      <td>It's a pharmaceutical product.</td>\n",
       "      <td>Це фармацевтичний продукт.</td>\n",
       "    </tr>\n",
       "    <tr>\n",
       "      <th>2</th>\n",
       "      <td>We've all heard of the Casual Friday thing.</td>\n",
       "      <td>Всі ми чули про «джинсову п’ятницю» (вільна фо...</td>\n",
       "    </tr>\n",
       "    <tr>\n",
       "      <th>3</th>\n",
       "      <td>You wanted to tell me about freedom?</td>\n",
       "      <td>Ти хотів розказати мені про свободу?</td>\n",
       "    </tr>\n",
       "    <tr>\n",
       "      <th>4</th>\n",
       "      <td>Please don't cry.</td>\n",
       "      <td>Будь ласка, не плач.</td>\n",
       "    </tr>\n",
       "  </tbody>\n",
       "</table>\n",
       "</div>"
      ],
      "text/plain": [
       "                                       english  \\\n",
       "0                       I have lost my wallet.   \n",
       "1               It's a pharmaceutical product.   \n",
       "2  We've all heard of the Casual Friday thing.   \n",
       "3         You wanted to tell me about freedom?   \n",
       "4                            Please don't cry.   \n",
       "\n",
       "                                         non_english  \n",
       "0                                Я загубив гаманець.  \n",
       "1                         Це фармацевтичний продукт.  \n",
       "2  Всі ми чули про «джинсову п’ятницю» (вільна фо...  \n",
       "3               Ти хотів розказати мені про свободу?  \n",
       "4                               Будь ласка, не плач.  "
      ]
     },
     "execution_count": 11,
     "metadata": {},
     "output_type": "execute_result"
    }
   ],
   "source": [
    "mega_eval_df.head()"
   ]
  },
  {
   "cell_type": "code",
   "execution_count": 12,
   "metadata": {
    "execution": {
     "iopub.execute_input": "2025-04-13T12:07:41.977510Z",
     "iopub.status.busy": "2025-04-13T12:07:41.977352Z",
     "iopub.status.idle": "2025-04-13T12:07:41.989747Z",
     "shell.execute_reply": "2025-04-13T12:07:41.989120Z",
     "shell.execute_reply.started": "2025-04-13T12:07:41.977497Z"
    }
   },
   "outputs": [],
   "source": [
    "mega_eval.reset_format()"
   ]
  },
  {
   "cell_type": "markdown",
   "metadata": {},
   "source": [
    "### Load teacher and student model "
   ]
  },
  {
   "cell_type": "code",
   "execution_count": 13,
   "metadata": {
    "execution": {
     "iopub.execute_input": "2025-04-13T12:07:41.990658Z",
     "iopub.status.busy": "2025-04-13T12:07:41.990357Z",
     "iopub.status.idle": "2025-04-13T12:08:11.839830Z",
     "shell.execute_reply": "2025-04-13T12:08:11.839137Z",
     "shell.execute_reply.started": "2025-04-13T12:07:41.990637Z"
    }
   },
   "outputs": [
    {
     "name": "stderr",
     "output_type": "stream",
     "text": [
      "2025-04-13 12:07:53.941847: E external/local_xla/xla/stream_executor/cuda/cuda_fft.cc:477] Unable to register cuFFT factory: Attempting to register factory for plugin cuFFT when one has already been registered\n",
      "WARNING: All log messages before absl::InitializeLog() is called are written to STDERR\n",
      "E0000 00:00:1744546074.157585      31 cuda_dnn.cc:8310] Unable to register cuDNN factory: Attempting to register factory for plugin cuDNN when one has already been registered\n",
      "E0000 00:00:1744546074.219693      31 cuda_blas.cc:1418] Unable to register cuBLAS factory: Attempting to register factory for plugin cuBLAS when one has already been registered\n"
     ]
    },
    {
     "data": {
      "application/vnd.jupyter.widget-view+json": {
       "model_id": "1898add3a82144f78d2a69329b9d4b7f",
       "version_major": 2,
       "version_minor": 0
      },
      "text/plain": [
       "config.json:   0%|          | 0.00/571 [00:00<?, ?B/s]"
      ]
     },
     "metadata": {},
     "output_type": "display_data"
    },
    {
     "name": "stderr",
     "output_type": "stream",
     "text": [
      "Xet Storage is enabled for this repo, but the 'hf_xet' package is not installed. Falling back to regular HTTP download. For better performance, install the package with: `pip install huggingface_hub[hf_xet]` or `pip install hf_xet`\n"
     ]
    },
    {
     "data": {
      "application/vnd.jupyter.widget-view+json": {
       "model_id": "2a5274f114f44d6295c96dc1b52115aa",
       "version_major": 2,
       "version_minor": 0
      },
      "text/plain": [
       "model.safetensors:   0%|          | 0.00/438M [00:00<?, ?B/s]"
      ]
     },
     "metadata": {},
     "output_type": "display_data"
    },
    {
     "data": {
      "application/vnd.jupyter.widget-view+json": {
       "model_id": "108cbd586aba49aab1cbcc10039221f5",
       "version_major": 2,
       "version_minor": 0
      },
      "text/plain": [
       "tokenizer_config.json:   0%|          | 0.00/363 [00:00<?, ?B/s]"
      ]
     },
     "metadata": {},
     "output_type": "display_data"
    },
    {
     "data": {
      "application/vnd.jupyter.widget-view+json": {
       "model_id": "e03b403e7819456186496671c24349dd",
       "version_major": 2,
       "version_minor": 0
      },
      "text/plain": [
       "vocab.txt:   0%|          | 0.00/232k [00:00<?, ?B/s]"
      ]
     },
     "metadata": {},
     "output_type": "display_data"
    },
    {
     "data": {
      "application/vnd.jupyter.widget-view+json": {
       "model_id": "634f442075f64b9e8a32f64d4a2609e2",
       "version_major": 2,
       "version_minor": 0
      },
      "text/plain": [
       "tokenizer.json:   0%|          | 0.00/466k [00:00<?, ?B/s]"
      ]
     },
     "metadata": {},
     "output_type": "display_data"
    },
    {
     "data": {
      "application/vnd.jupyter.widget-view+json": {
       "model_id": "2b81072ecd6d40b7964a9ccf71c3af3d",
       "version_major": 2,
       "version_minor": 0
      },
      "text/plain": [
       "special_tokens_map.json:   0%|          | 0.00/239 [00:00<?, ?B/s]"
      ]
     },
     "metadata": {},
     "output_type": "display_data"
    },
    {
     "data": {
      "text/plain": [
       "SentenceTransformer(\n",
       "  (0): Transformer({'max_seq_length': 512, 'do_lower_case': False}) with Transformer model: MPNetModel \n",
       "  (1): Pooling({'word_embedding_dimension': 768, 'pooling_mode_cls_token': False, 'pooling_mode_mean_tokens': True, 'pooling_mode_max_tokens': False, 'pooling_mode_mean_sqrt_len_tokens': False, 'pooling_mode_weightedmean_tokens': False, 'pooling_mode_lasttoken': False, 'include_prompt': True})\n",
       ")"
      ]
     },
     "execution_count": 13,
     "metadata": {},
     "output_type": "execute_result"
    }
   ],
   "source": [
    "import torch\n",
    "from sentence_transformers import SentenceTransformer\n",
    "from sentence_transformers.models import Transformer, Pooling \n",
    "\n",
    "teacher_model_id = 'sentence-transformers/multi-qa-mpnet-base-dot-v1'\n",
    "transformer_module = Transformer(teacher_model_id, model_args=dict(torch_dtype=torch.float32))\n",
    "pooling_module = Pooling(\n",
    "    word_embedding_dimension=transformer_module.get_word_embedding_dimension(),\n",
    "    pooling_mode_cls_token=False,  # initiall True is here \n",
    "    pooling_mode_mean_tokens=True\n",
    ")\n",
    "teacher_model = SentenceTransformer(modules=[transformer_module, pooling_module])\n",
    "teacher_model.to('cuda')\n",
    "teacher_model "
   ]
  },
  {
   "cell_type": "code",
   "execution_count": 14,
   "metadata": {
    "execution": {
     "iopub.execute_input": "2025-04-13T12:08:11.841574Z",
     "iopub.status.busy": "2025-04-13T12:08:11.840606Z",
     "iopub.status.idle": "2025-04-13T12:08:11.846402Z",
     "shell.execute_reply": "2025-04-13T12:08:11.845639Z",
     "shell.execute_reply.started": "2025-04-13T12:08:11.841555Z"
    }
   },
   "outputs": [
    {
     "data": {
      "text/plain": [
       "torch.float32"
      ]
     },
     "execution_count": 14,
     "metadata": {},
     "output_type": "execute_result"
    }
   ],
   "source": [
    "teacher_model[0].auto_model.dtype "
   ]
  },
  {
   "cell_type": "code",
   "execution_count": 15,
   "metadata": {
    "execution": {
     "iopub.execute_input": "2025-04-13T12:08:11.847419Z",
     "iopub.status.busy": "2025-04-13T12:08:11.847097Z",
     "iopub.status.idle": "2025-04-13T12:08:19.668100Z",
     "shell.execute_reply": "2025-04-13T12:08:19.667277Z",
     "shell.execute_reply.started": "2025-04-13T12:08:11.847391Z"
    }
   },
   "outputs": [
    {
     "data": {
      "application/vnd.jupyter.widget-view+json": {
       "model_id": "ab9741d4b1374a589daaf9dd0b768eaa",
       "version_major": 2,
       "version_minor": 0
      },
      "text/plain": [
       "config.json:   0%|          | 0.00/615 [00:00<?, ?B/s]"
      ]
     },
     "metadata": {},
     "output_type": "display_data"
    },
    {
     "name": "stderr",
     "output_type": "stream",
     "text": [
      "Xet Storage is enabled for this repo, but the 'hf_xet' package is not installed. Falling back to regular HTTP download. For better performance, install the package with: `pip install huggingface_hub[hf_xet]` or `pip install hf_xet`\n"
     ]
    },
    {
     "data": {
      "application/vnd.jupyter.widget-view+json": {
       "model_id": "076e9f673e0545ff84e23ec2fcabfb65",
       "version_major": 2,
       "version_minor": 0
      },
      "text/plain": [
       "model.safetensors:   0%|          | 0.00/1.12G [00:00<?, ?B/s]"
      ]
     },
     "metadata": {},
     "output_type": "display_data"
    },
    {
     "data": {
      "application/vnd.jupyter.widget-view+json": {
       "model_id": "517cd7a043934f87b2206738fbdf2347",
       "version_major": 2,
       "version_minor": 0
      },
      "text/plain": [
       "tokenizer_config.json:   0%|          | 0.00/25.0 [00:00<?, ?B/s]"
      ]
     },
     "metadata": {},
     "output_type": "display_data"
    },
    {
     "data": {
      "application/vnd.jupyter.widget-view+json": {
       "model_id": "3b51e35f951c4d069bf54e0dac1c487d",
       "version_major": 2,
       "version_minor": 0
      },
      "text/plain": [
       "sentencepiece.bpe.model:   0%|          | 0.00/5.07M [00:00<?, ?B/s]"
      ]
     },
     "metadata": {},
     "output_type": "display_data"
    },
    {
     "data": {
      "application/vnd.jupyter.widget-view+json": {
       "model_id": "98ae3cbf05784fd98636712092dca611",
       "version_major": 2,
       "version_minor": 0
      },
      "text/plain": [
       "tokenizer.json:   0%|          | 0.00/9.10M [00:00<?, ?B/s]"
      ]
     },
     "metadata": {},
     "output_type": "display_data"
    },
    {
     "data": {
      "text/plain": [
       "SentenceTransformer(\n",
       "  (0): Transformer({'max_seq_length': 512, 'do_lower_case': False}) with Transformer model: XLMRobertaModel \n",
       "  (1): Pooling({'word_embedding_dimension': 768, 'pooling_mode_cls_token': False, 'pooling_mode_mean_tokens': True, 'pooling_mode_max_tokens': False, 'pooling_mode_mean_sqrt_len_tokens': False, 'pooling_mode_weightedmean_tokens': False, 'pooling_mode_lasttoken': False, 'include_prompt': True})\n",
       ")"
      ]
     },
     "execution_count": 15,
     "metadata": {},
     "output_type": "execute_result"
    }
   ],
   "source": [
    "import torch \n",
    "from sentence_transformers import SentenceTransformer\n",
    "from sentence_transformers.models import Transformer, Pooling \n",
    "\n",
    "student_model_id = 'FacebookAI/xlm-roberta-base'\n",
    "transformer_module = Transformer(student_model_id, model_args=dict(torch_dtype=torch.float32))\n",
    "pooling_module = Pooling(\n",
    "    word_embedding_dimension=transformer_module.get_word_embedding_dimension(),\n",
    "    pooling_mode_cls_token=False,\n",
    "    pooling_mode_mean_tokens=True\n",
    ")\n",
    "student_model = SentenceTransformer(modules=[transformer_module, pooling_module])\n",
    "student_model.to('cuda')\n",
    "student_model"
   ]
  },
  {
   "cell_type": "code",
   "execution_count": 16,
   "metadata": {
    "execution": {
     "iopub.execute_input": "2025-04-13T12:08:19.669744Z",
     "iopub.status.busy": "2025-04-13T12:08:19.669359Z",
     "iopub.status.idle": "2025-04-13T12:08:19.675313Z",
     "shell.execute_reply": "2025-04-13T12:08:19.674499Z",
     "shell.execute_reply.started": "2025-04-13T12:08:19.669715Z"
    }
   },
   "outputs": [
    {
     "data": {
      "text/plain": [
       "torch.float32"
      ]
     },
     "execution_count": 16,
     "metadata": {},
     "output_type": "execute_result"
    }
   ],
   "source": [
    "student_model[0].auto_model.dtype "
   ]
  },
  {
   "cell_type": "code",
   "execution_count": 17,
   "metadata": {
    "execution": {
     "iopub.execute_input": "2025-04-13T12:08:19.676839Z",
     "iopub.status.busy": "2025-04-13T12:08:19.676567Z",
     "iopub.status.idle": "2025-04-13T12:08:19.791865Z",
     "shell.execute_reply": "2025-04-13T12:08:19.790682Z",
     "shell.execute_reply.started": "2025-04-13T12:08:19.676817Z"
    }
   },
   "outputs": [],
   "source": [
    "# assert that transformer config matched for student and teacher model\n",
    "assert student_model[0].get_config_dict() == teacher_model[0].get_config_dict()"
   ]
  },
  {
   "cell_type": "markdown",
   "metadata": {},
   "source": [
    "### Dtaset Preprocessing"
   ]
  },
  {
   "cell_type": "code",
   "execution_count": 18,
   "metadata": {
    "execution": {
     "iopub.execute_input": "2025-04-13T12:08:19.793527Z",
     "iopub.status.busy": "2025-04-13T12:08:19.793123Z",
     "iopub.status.idle": "2025-04-13T12:08:19.857636Z",
     "shell.execute_reply": "2025-04-13T12:08:19.856725Z",
     "shell.execute_reply.started": "2025-04-13T12:08:19.793507Z"
    }
   },
   "outputs": [],
   "source": [
    "def prepare_dataset(batch):\n",
    "    return {\n",
    "        'english': batch['english'],\n",
    "        'non_english': batch['non_english'],\n",
    "        'label': teacher_model.encode(batch['english'], padding=True, truncation=True)\n",
    "   } "
   ]
  },
  {
   "cell_type": "code",
   "execution_count": 19,
   "metadata": {
    "execution": {
     "iopub.execute_input": "2025-04-13T12:08:19.859182Z",
     "iopub.status.busy": "2025-04-13T12:08:19.858738Z",
     "iopub.status.idle": "2025-04-13T12:17:09.993076Z",
     "shell.execute_reply": "2025-04-13T12:17:09.992438Z",
     "shell.execute_reply.started": "2025-04-13T12:08:19.859150Z"
    }
   },
   "outputs": [
    {
     "data": {
      "application/vnd.jupyter.widget-view+json": {
       "model_id": "472e839355a841b8813a165c64b177a6",
       "version_major": 2,
       "version_minor": 0
      },
      "text/plain": [
       "Map:   0%|          | 0/523982 [00:00<?, ? examples/s]"
      ]
     },
     "metadata": {},
     "output_type": "display_data"
    },
    {
     "data": {
      "application/vnd.jupyter.widget-view+json": {
       "model_id": "350a218d09344eb79bbdc1b32ec70e28",
       "version_major": 2,
       "version_minor": 0
      },
      "text/plain": [
       "Batches:   0%|          | 0/1000 [00:00<?, ?it/s]"
      ]
     },
     "metadata": {},
     "output_type": "display_data"
    },
    {
     "data": {
      "application/vnd.jupyter.widget-view+json": {
       "model_id": "be84aeb9d2764b7cb51cc8ffcb8df82c",
       "version_major": 2,
       "version_minor": 0
      },
      "text/plain": [
       "Batches:   0%|          | 0/1000 [00:00<?, ?it/s]"
      ]
     },
     "metadata": {},
     "output_type": "display_data"
    },
    {
     "data": {
      "application/vnd.jupyter.widget-view+json": {
       "model_id": "c63b1047008341f5af363c9dd8ababc1",
       "version_major": 2,
       "version_minor": 0
      },
      "text/plain": [
       "Batches:   0%|          | 0/1000 [00:00<?, ?it/s]"
      ]
     },
     "metadata": {},
     "output_type": "display_data"
    },
    {
     "data": {
      "application/vnd.jupyter.widget-view+json": {
       "model_id": "da0121a9c57446878f4cb0d72fd07798",
       "version_major": 2,
       "version_minor": 0
      },
      "text/plain": [
       "Batches:   0%|          | 0/1000 [00:00<?, ?it/s]"
      ]
     },
     "metadata": {},
     "output_type": "display_data"
    },
    {
     "data": {
      "application/vnd.jupyter.widget-view+json": {
       "model_id": "84488a58dc814a6c92be4c97b4343833",
       "version_major": 2,
       "version_minor": 0
      },
      "text/plain": [
       "Batches:   0%|          | 0/1000 [00:00<?, ?it/s]"
      ]
     },
     "metadata": {},
     "output_type": "display_data"
    },
    {
     "data": {
      "application/vnd.jupyter.widget-view+json": {
       "model_id": "115dbdd24bf648d3bf9d3e8db4abd3e8",
       "version_major": 2,
       "version_minor": 0
      },
      "text/plain": [
       "Batches:   0%|          | 0/1000 [00:00<?, ?it/s]"
      ]
     },
     "metadata": {},
     "output_type": "display_data"
    },
    {
     "data": {
      "application/vnd.jupyter.widget-view+json": {
       "model_id": "ad6022dab581449e9bd81cde9259e19a",
       "version_major": 2,
       "version_minor": 0
      },
      "text/plain": [
       "Batches:   0%|          | 0/1000 [00:00<?, ?it/s]"
      ]
     },
     "metadata": {},
     "output_type": "display_data"
    },
    {
     "data": {
      "application/vnd.jupyter.widget-view+json": {
       "model_id": "d4a6a595ffc24e44a9f8d601c568570d",
       "version_major": 2,
       "version_minor": 0
      },
      "text/plain": [
       "Batches:   0%|          | 0/1000 [00:00<?, ?it/s]"
      ]
     },
     "metadata": {},
     "output_type": "display_data"
    },
    {
     "data": {
      "application/vnd.jupyter.widget-view+json": {
       "model_id": "4016b81650334d4b9bd39fef2c42170d",
       "version_major": 2,
       "version_minor": 0
      },
      "text/plain": [
       "Batches:   0%|          | 0/1000 [00:00<?, ?it/s]"
      ]
     },
     "metadata": {},
     "output_type": "display_data"
    },
    {
     "data": {
      "application/vnd.jupyter.widget-view+json": {
       "model_id": "db036ba6a7ce4df6a535957908b58e88",
       "version_major": 2,
       "version_minor": 0
      },
      "text/plain": [
       "Batches:   0%|          | 0/1000 [00:00<?, ?it/s]"
      ]
     },
     "metadata": {},
     "output_type": "display_data"
    },
    {
     "data": {
      "application/vnd.jupyter.widget-view+json": {
       "model_id": "9a02ef4e6f9546049c240900e41978e3",
       "version_major": 2,
       "version_minor": 0
      },
      "text/plain": [
       "Batches:   0%|          | 0/1000 [00:00<?, ?it/s]"
      ]
     },
     "metadata": {},
     "output_type": "display_data"
    },
    {
     "data": {
      "application/vnd.jupyter.widget-view+json": {
       "model_id": "cfcbae597da94f76b0bffb51ab0f7318",
       "version_major": 2,
       "version_minor": 0
      },
      "text/plain": [
       "Batches:   0%|          | 0/1000 [00:00<?, ?it/s]"
      ]
     },
     "metadata": {},
     "output_type": "display_data"
    },
    {
     "data": {
      "application/vnd.jupyter.widget-view+json": {
       "model_id": "fd12b3b132a74959955cd54f582064fd",
       "version_major": 2,
       "version_minor": 0
      },
      "text/plain": [
       "Batches:   0%|          | 0/1000 [00:00<?, ?it/s]"
      ]
     },
     "metadata": {},
     "output_type": "display_data"
    },
    {
     "data": {
      "application/vnd.jupyter.widget-view+json": {
       "model_id": "2ae6571361354882872744420e06e1c0",
       "version_major": 2,
       "version_minor": 0
      },
      "text/plain": [
       "Batches:   0%|          | 0/1000 [00:00<?, ?it/s]"
      ]
     },
     "metadata": {},
     "output_type": "display_data"
    },
    {
     "data": {
      "application/vnd.jupyter.widget-view+json": {
       "model_id": "809a0d664e1c4ebabb62806be83c4ae1",
       "version_major": 2,
       "version_minor": 0
      },
      "text/plain": [
       "Batches:   0%|          | 0/1000 [00:00<?, ?it/s]"
      ]
     },
     "metadata": {},
     "output_type": "display_data"
    },
    {
     "data": {
      "application/vnd.jupyter.widget-view+json": {
       "model_id": "ff58023330a44ee69d8fbcef5bc38e60",
       "version_major": 2,
       "version_minor": 0
      },
      "text/plain": [
       "Batches:   0%|          | 0/1000 [00:00<?, ?it/s]"
      ]
     },
     "metadata": {},
     "output_type": "display_data"
    },
    {
     "data": {
      "application/vnd.jupyter.widget-view+json": {
       "model_id": "4191ed2bcf314cc5ba28323d934b8944",
       "version_major": 2,
       "version_minor": 0
      },
      "text/plain": [
       "Batches:   0%|          | 0/375 [00:00<?, ?it/s]"
      ]
     },
     "metadata": {},
     "output_type": "display_data"
    }
   ],
   "source": [
    "train_dataset_labeled = mega_train.map(prepare_dataset, batched=True, batch_size=32000)"
   ]
  },
  {
   "cell_type": "code",
   "execution_count": 20,
   "metadata": {
    "execution": {
     "iopub.execute_input": "2025-04-13T12:17:09.995952Z",
     "iopub.status.busy": "2025-04-13T12:17:09.995717Z",
     "iopub.status.idle": "2025-04-13T12:17:10.000886Z",
     "shell.execute_reply": "2025-04-13T12:17:10.000156Z",
     "shell.execute_reply.started": "2025-04-13T12:17:09.995927Z"
    }
   },
   "outputs": [
    {
     "data": {
      "text/plain": [
       "Dataset({\n",
       "    features: ['english', 'non_english', 'label'],\n",
       "    num_rows: 523982\n",
       "})"
      ]
     },
     "execution_count": 20,
     "metadata": {},
     "output_type": "execute_result"
    }
   ],
   "source": [
    "train_dataset_labeled"
   ]
  },
  {
   "cell_type": "code",
   "execution_count": 21,
   "metadata": {
    "execution": {
     "iopub.execute_input": "2025-04-13T12:17:10.001870Z",
     "iopub.status.busy": "2025-04-13T12:17:10.001626Z",
     "iopub.status.idle": "2025-04-13T12:17:25.960155Z",
     "shell.execute_reply": "2025-04-13T12:17:25.959563Z",
     "shell.execute_reply.started": "2025-04-13T12:17:10.001849Z"
    }
   },
   "outputs": [
    {
     "data": {
      "application/vnd.jupyter.widget-view+json": {
       "model_id": "b10d162482e54d50aa7ca4e38fc985b1",
       "version_major": 2,
       "version_minor": 0
      },
      "text/plain": [
       "Map:   0%|          | 0/3838 [00:00<?, ? examples/s]"
      ]
     },
     "metadata": {},
     "output_type": "display_data"
    },
    {
     "data": {
      "application/vnd.jupyter.widget-view+json": {
       "model_id": "626b3dd3d18c4c7d866becfe78efb433",
       "version_major": 2,
       "version_minor": 0
      },
      "text/plain": [
       "Batches:   0%|          | 0/120 [00:00<?, ?it/s]"
      ]
     },
     "metadata": {},
     "output_type": "display_data"
    }
   ],
   "source": [
    "eval_dataset = mega_eval.map(prepare_dataset, batched=True, batch_size=None)"
   ]
  },
  {
   "cell_type": "code",
   "execution_count": 22,
   "metadata": {
    "execution": {
     "iopub.execute_input": "2025-04-13T12:17:25.962604Z",
     "iopub.status.busy": "2025-04-13T12:17:25.962182Z",
     "iopub.status.idle": "2025-04-13T12:17:25.967264Z",
     "shell.execute_reply": "2025-04-13T12:17:25.966513Z",
     "shell.execute_reply.started": "2025-04-13T12:17:25.962585Z"
    }
   },
   "outputs": [
    {
     "data": {
      "text/plain": [
       "Dataset({\n",
       "    features: ['english', 'non_english', 'label'],\n",
       "    num_rows: 3838\n",
       "})"
      ]
     },
     "execution_count": 22,
     "metadata": {},
     "output_type": "execute_result"
    }
   ],
   "source": [
    "eval_dataset"
   ]
  },
  {
   "cell_type": "markdown",
   "metadata": {},
   "source": [
    "### Defining loss function and evaluators"
   ]
  },
  {
   "cell_type": "code",
   "execution_count": 23,
   "metadata": {
    "execution": {
     "iopub.execute_input": "2025-04-13T12:17:25.968257Z",
     "iopub.status.busy": "2025-04-13T12:17:25.968047Z",
     "iopub.status.idle": "2025-04-13T12:17:25.996901Z",
     "shell.execute_reply": "2025-04-13T12:17:25.995905Z",
     "shell.execute_reply.started": "2025-04-13T12:17:25.968224Z"
    }
   },
   "outputs": [],
   "source": [
    "import torch\n",
    "from sentence_transformers.losses import MSELoss\n",
    "\n",
    "# Computes loss between computed sentence embeddings by student ('english' and 'non_english') and target computed by teacher ('label') \n",
    "mse_loss = MSELoss(model=student_model)"
   ]
  },
  {
   "cell_type": "code",
   "execution_count": 24,
   "metadata": {
    "execution": {
     "iopub.execute_input": "2025-04-13T12:17:25.997988Z",
     "iopub.status.busy": "2025-04-13T12:17:25.997717Z",
     "iopub.status.idle": "2025-04-13T12:17:32.484277Z",
     "shell.execute_reply": "2025-04-13T12:17:32.483737Z",
     "shell.execute_reply.started": "2025-04-13T12:17:25.997963Z"
    }
   },
   "outputs": [
    {
     "data": {
      "application/vnd.jupyter.widget-view+json": {
       "model_id": "1a87b443c1f346ac88a4c8604a6a528c",
       "version_major": 2,
       "version_minor": 0
      },
      "text/plain": [
       "README.md:   0%|          | 0.00/1.06k [00:00<?, ?B/s]"
      ]
     },
     "metadata": {},
     "output_type": "display_data"
    },
    {
     "data": {
      "application/vnd.jupyter.widget-view+json": {
       "model_id": "82dd3cd4ad0c4712b5b500cb4b5f2f52",
       "version_major": 2,
       "version_minor": 0
      },
      "text/plain": [
       "en-en.jsonl.gz:   0%|          | 0.00/8.86k [00:00<?, ?B/s]"
      ]
     },
     "metadata": {},
     "output_type": "display_data"
    },
    {
     "data": {
      "application/vnd.jupyter.widget-view+json": {
       "model_id": "b4ef033ab6724ae5a6d0fdf2b9cb4d76",
       "version_major": 2,
       "version_minor": 0
      },
      "text/plain": [
       "Generating test split:   0%|          | 0/250 [00:00<?, ? examples/s]"
      ]
     },
     "metadata": {},
     "output_type": "display_data"
    },
    {
     "data": {
      "application/vnd.jupyter.widget-view+json": {
       "model_id": "bdc8fe38b8974be2852a3d4515d3debd",
       "version_major": 2,
       "version_minor": 0
      },
      "text/plain": [
       "Generating train split: 0 examples [00:00, ? examples/s]"
      ]
     },
     "metadata": {},
     "output_type": "display_data"
    },
    {
     "data": {
      "application/vnd.jupyter.widget-view+json": {
       "model_id": "fb548e99c7d6479f8566f6603fa50e69",
       "version_major": 2,
       "version_minor": 0
      },
      "text/plain": [
       "Generating train split: 0 examples [00:00, ? examples/s]"
      ]
     },
     "metadata": {},
     "output_type": "display_data"
    }
   ],
   "source": [
    "from sentence_transformers.evaluation import MSEEvaluator, EmbeddingSimilarityEvaluator, SequentialEvaluator \n",
    "\n",
    "\n",
    "# From documentation: The MSE is computed between ||teacher.encode(source_sentences) - student.encode(target_sentences)||.\n",
    "mse_eval = MSEEvaluator(\n",
    "    source_sentences=eval_dataset['english'],\n",
    "    target_sentences=eval_dataset['non_english'],\n",
    "    name='mse-en-ua',\n",
    "    teacher_model=teacher_model,\n",
    "    batch_size=16\n",
    ")\n",
    "\n",
    "# STS Benchmark (Semantic Textual Similarity Benchmark)\n",
    "en_en_dataset = load_dataset('mteb/sts17-crosslingual-sts', 'en-en', split='test')\n",
    "en_ua_dataset = load_dataset('csv', data_files='/kaggle/input/sts-17-ua/sts17-en-ua-gpt-4o.csv', split='train') # when loading from csv by default train split is assigned\n",
    "ua_ua_dataset = load_dataset('csv', data_files='/kaggle/input/sts-17-ua/sts17-ua-ua-gpt-4o.csv', split='train')  # when loading from csv by default train split is assigned\n",
    "\n",
    "# From documentation: Evaluate a model based on the similarity of the embeddings by calculating the Spearman and Pearson rank correlation in comparison to the gold standard labels. \n",
    "en_en_eval = EmbeddingSimilarityEvaluator(\n",
    "    sentences1=en_en_dataset['sentence1'],\n",
    "    sentences2=en_en_dataset['sentence2'],\n",
    "    scores=[score / 5.0 for score in en_en_dataset['score']],  # normalizing to score from to 1\n",
    "    show_progress_bar=False,\n",
    "    name='sts17-en-en',\n",
    "    batch_size=16\n",
    ")\n",
    "\n",
    "en_ua_eval = EmbeddingSimilarityEvaluator(\n",
    "    sentences1=en_ua_dataset['sentence1'],\n",
    "    sentences2=en_ua_dataset['sentence2'],\n",
    "    scores=[score / 5.0 for score in en_ua_dataset['score']],\n",
    "    show_progress_bar=False,\n",
    "    name='sts17-en-ua',\n",
    "    batch_size=16\n",
    ")\n",
    "\n",
    "ua_ua_eval = EmbeddingSimilarityEvaluator(\n",
    "    sentences1=ua_ua_dataset['sentence1'],\n",
    "    sentences2=ua_ua_dataset['sentence2'],\n",
    "    scores=[score / 5.0 for score in ua_ua_dataset['score']],\n",
    "    show_progress_bar=False,\n",
    "    name='sts17-ua-ua',\n",
    "    batch_size=16\n",
    ")\n",
    "\n",
    "# Composing evaluators in one chain! \n",
    "evaluator = SequentialEvaluator([mse_eval, en_en_eval, en_ua_eval, ua_ua_eval]) "
   ]
  },
  {
   "cell_type": "code",
   "execution_count": 25,
   "metadata": {
    "execution": {
     "iopub.execute_input": "2025-04-13T12:17:32.485135Z",
     "iopub.status.busy": "2025-04-13T12:17:32.484929Z",
     "iopub.status.idle": "2025-04-13T12:17:32.517282Z",
     "shell.execute_reply": "2025-04-13T12:17:32.516741Z",
     "shell.execute_reply.started": "2025-04-13T12:17:32.485119Z"
    }
   },
   "outputs": [],
   "source": [
    "from sentence_transformers import SentenceTransformerTrainingArguments\n",
    "\n",
    "train_args = SentenceTransformerTrainingArguments(\n",
    "    output_dir='./xlm-roberta-ua-distilled',\n",
    "    fp16=False,\n",
    "    num_train_epochs=4,\n",
    "    learning_rate=5e-5,\n",
    "    per_device_train_batch_size=16,\n",
    "    per_device_eval_batch_size=16,\n",
    "    gradient_accumulation_steps=3,  # simulate batch of accum_steps * per_device_train_batch_size = 3 * 16 = 48\n",
    "    warmup_ratio=0.1,\n",
    "    \n",
    "    eval_steps=1024, \n",
    "    eval_strategy='steps',\n",
    "    \n",
    "    save_steps=1024, \n",
    "    save_strategy='steps',\n",
    "    save_total_limit=2,\n",
    "    \n",
    "    logging_steps=1024\n",
    ")"
   ]
  },
  {
   "cell_type": "markdown",
   "metadata": {},
   "source": [
    "### Training!"
   ]
  },
  {
   "cell_type": "code",
   "execution_count": 26,
   "metadata": {
    "execution": {
     "iopub.execute_input": "2025-04-13T12:17:32.518107Z",
     "iopub.status.busy": "2025-04-13T12:17:32.517911Z",
     "iopub.status.idle": "2025-04-13T12:17:35.183505Z",
     "shell.execute_reply": "2025-04-13T12:17:35.182747Z",
     "shell.execute_reply.started": "2025-04-13T12:17:32.518091Z"
    }
   },
   "outputs": [
    {
     "data": {
      "application/vnd.jupyter.widget-view+json": {
       "model_id": "",
       "version_major": 2,
       "version_minor": 0
      },
      "text/plain": [
       "Computing widget examples:   0%|          | 0/1 [00:00<?, ?example/s]"
      ]
     },
     "metadata": {},
     "output_type": "display_data"
    }
   ],
   "source": [
    "from sentence_transformers import SentenceTransformerTrainer\n",
    "\n",
    "trainer = SentenceTransformerTrainer(\n",
    "    model=student_model,\n",
    "    args=train_args,\n",
    "    train_dataset=train_dataset_labeled,\n",
    "    eval_dataset=eval_dataset,\n",
    "    loss=mse_loss,\n",
    "    evaluator=evaluator \n",
    ")"
   ]
  },
  {
   "cell_type": "code",
   "execution_count": 27,
   "metadata": {
    "execution": {
     "iopub.execute_input": "2025-04-13T12:17:35.186759Z",
     "iopub.status.busy": "2025-04-13T12:17:35.186357Z",
     "iopub.status.idle": "2025-04-13T20:34:59.238223Z",
     "shell.execute_reply": "2025-04-13T20:34:59.237305Z",
     "shell.execute_reply.started": "2025-04-13T12:17:35.186741Z"
    }
   },
   "outputs": [
    {
     "data": {
      "text/html": [
       "\n",
       "    <div>\n",
       "      \n",
       "      <progress value='43664' max='43664' style='width:300px; height:20px; vertical-align: middle;'></progress>\n",
       "      [43664/43664 8:17:21, Epoch 3/4]\n",
       "    </div>\n",
       "    <table border=\"1\" class=\"dataframe\">\n",
       "  <thead>\n",
       " <tr style=\"text-align: left;\">\n",
       "      <th>Step</th>\n",
       "      <th>Training Loss</th>\n",
       "      <th>Validation Loss</th>\n",
       "      <th>Mse-en-ua Negative Mse</th>\n",
       "      <th>Sts17-en-en Pearson Cosine</th>\n",
       "      <th>Sts17-en-en Spearman Cosine</th>\n",
       "      <th>Sts17-en-ua Pearson Cosine</th>\n",
       "      <th>Sts17-en-ua Spearman Cosine</th>\n",
       "      <th>Sts17-ua-ua Pearson Cosine</th>\n",
       "      <th>Sts17-ua-ua Spearman Cosine</th>\n",
       "      <th>Sequential Score</th>\n",
       "    </tr>\n",
       "  </thead>\n",
       "  <tbody>\n",
       "    <tr>\n",
       "      <td>1024</td>\n",
       "      <td>0.328100</td>\n",
       "      <td>0.029718</td>\n",
       "      <td>-2.959170</td>\n",
       "      <td>0.181141</td>\n",
       "      <td>0.232496</td>\n",
       "      <td>0.128094</td>\n",
       "      <td>0.154688</td>\n",
       "      <td>0.150451</td>\n",
       "      <td>0.226489</td>\n",
       "      <td>0.226489</td>\n",
       "    </tr>\n",
       "    <tr>\n",
       "      <td>2048</td>\n",
       "      <td>0.113600</td>\n",
       "      <td>0.204209</td>\n",
       "      <td>-21.669276</td>\n",
       "      <td>0.006631</td>\n",
       "      <td>0.055340</td>\n",
       "      <td>0.070726</td>\n",
       "      <td>0.042919</td>\n",
       "      <td>0.199824</td>\n",
       "      <td>0.244206</td>\n",
       "      <td>0.244206</td>\n",
       "    </tr>\n",
       "    <tr>\n",
       "      <td>3072</td>\n",
       "      <td>0.100800</td>\n",
       "      <td>0.027258</td>\n",
       "      <td>-2.746147</td>\n",
       "      <td>0.200949</td>\n",
       "      <td>0.266629</td>\n",
       "      <td>0.093361</td>\n",
       "      <td>0.075772</td>\n",
       "      <td>0.209707</td>\n",
       "      <td>0.261321</td>\n",
       "      <td>0.261321</td>\n",
       "    </tr>\n",
       "    <tr>\n",
       "      <td>4096</td>\n",
       "      <td>0.084300</td>\n",
       "      <td>0.024348</td>\n",
       "      <td>-2.462274</td>\n",
       "      <td>0.143295</td>\n",
       "      <td>0.254136</td>\n",
       "      <td>0.009012</td>\n",
       "      <td>0.001158</td>\n",
       "      <td>0.334547</td>\n",
       "      <td>0.367957</td>\n",
       "      <td>0.367957</td>\n",
       "    </tr>\n",
       "    <tr>\n",
       "      <td>5120</td>\n",
       "      <td>0.075600</td>\n",
       "      <td>0.021600</td>\n",
       "      <td>-2.209467</td>\n",
       "      <td>0.354435</td>\n",
       "      <td>0.393262</td>\n",
       "      <td>0.221301</td>\n",
       "      <td>0.253500</td>\n",
       "      <td>0.364041</td>\n",
       "      <td>0.434220</td>\n",
       "      <td>0.434220</td>\n",
       "    </tr>\n",
       "    <tr>\n",
       "      <td>6144</td>\n",
       "      <td>0.066100</td>\n",
       "      <td>0.018674</td>\n",
       "      <td>-1.953918</td>\n",
       "      <td>0.515341</td>\n",
       "      <td>0.573923</td>\n",
       "      <td>0.427968</td>\n",
       "      <td>0.422165</td>\n",
       "      <td>0.490268</td>\n",
       "      <td>0.505644</td>\n",
       "      <td>0.505644</td>\n",
       "    </tr>\n",
       "    <tr>\n",
       "      <td>7168</td>\n",
       "      <td>0.057900</td>\n",
       "      <td>0.016444</td>\n",
       "      <td>-1.751325</td>\n",
       "      <td>0.565875</td>\n",
       "      <td>0.618363</td>\n",
       "      <td>0.484408</td>\n",
       "      <td>0.489667</td>\n",
       "      <td>0.547859</td>\n",
       "      <td>0.582624</td>\n",
       "      <td>0.582624</td>\n",
       "    </tr>\n",
       "    <tr>\n",
       "      <td>8192</td>\n",
       "      <td>0.052600</td>\n",
       "      <td>0.015283</td>\n",
       "      <td>-1.654613</td>\n",
       "      <td>0.563253</td>\n",
       "      <td>0.621936</td>\n",
       "      <td>0.459593</td>\n",
       "      <td>0.456844</td>\n",
       "      <td>0.550040</td>\n",
       "      <td>0.584229</td>\n",
       "      <td>0.584229</td>\n",
       "    </tr>\n",
       "    <tr>\n",
       "      <td>9216</td>\n",
       "      <td>0.048800</td>\n",
       "      <td>0.014158</td>\n",
       "      <td>-1.552453</td>\n",
       "      <td>0.568453</td>\n",
       "      <td>0.615990</td>\n",
       "      <td>0.478887</td>\n",
       "      <td>0.501189</td>\n",
       "      <td>0.543509</td>\n",
       "      <td>0.588382</td>\n",
       "      <td>0.588382</td>\n",
       "    </tr>\n",
       "    <tr>\n",
       "      <td>10240</td>\n",
       "      <td>0.046000</td>\n",
       "      <td>0.013501</td>\n",
       "      <td>-1.495738</td>\n",
       "      <td>0.584101</td>\n",
       "      <td>0.636096</td>\n",
       "      <td>0.488604</td>\n",
       "      <td>0.504579</td>\n",
       "      <td>0.553593</td>\n",
       "      <td>0.596919</td>\n",
       "      <td>0.596919</td>\n",
       "    </tr>\n",
       "    <tr>\n",
       "      <td>11264</td>\n",
       "      <td>0.043700</td>\n",
       "      <td>0.013000</td>\n",
       "      <td>-1.450640</td>\n",
       "      <td>0.588446</td>\n",
       "      <td>0.645279</td>\n",
       "      <td>0.494060</td>\n",
       "      <td>0.509326</td>\n",
       "      <td>0.559759</td>\n",
       "      <td>0.593868</td>\n",
       "      <td>0.593868</td>\n",
       "    </tr>\n",
       "    <tr>\n",
       "      <td>12288</td>\n",
       "      <td>0.041900</td>\n",
       "      <td>0.012476</td>\n",
       "      <td>-1.404924</td>\n",
       "      <td>0.594434</td>\n",
       "      <td>0.640295</td>\n",
       "      <td>0.496425</td>\n",
       "      <td>0.505422</td>\n",
       "      <td>0.571513</td>\n",
       "      <td>0.601954</td>\n",
       "      <td>0.601954</td>\n",
       "    </tr>\n",
       "    <tr>\n",
       "      <td>13312</td>\n",
       "      <td>0.040400</td>\n",
       "      <td>0.012178</td>\n",
       "      <td>-1.379371</td>\n",
       "      <td>0.614736</td>\n",
       "      <td>0.665432</td>\n",
       "      <td>0.521558</td>\n",
       "      <td>0.544231</td>\n",
       "      <td>0.582230</td>\n",
       "      <td>0.618241</td>\n",
       "      <td>0.618241</td>\n",
       "    </tr>\n",
       "    <tr>\n",
       "      <td>14336</td>\n",
       "      <td>0.039400</td>\n",
       "      <td>0.011797</td>\n",
       "      <td>-1.343375</td>\n",
       "      <td>0.627164</td>\n",
       "      <td>0.680047</td>\n",
       "      <td>0.550251</td>\n",
       "      <td>0.578991</td>\n",
       "      <td>0.594108</td>\n",
       "      <td>0.629149</td>\n",
       "      <td>0.629149</td>\n",
       "    </tr>\n",
       "    <tr>\n",
       "      <td>15360</td>\n",
       "      <td>0.038300</td>\n",
       "      <td>0.011517</td>\n",
       "      <td>-1.318428</td>\n",
       "      <td>0.632766</td>\n",
       "      <td>0.683649</td>\n",
       "      <td>0.555853</td>\n",
       "      <td>0.580481</td>\n",
       "      <td>0.597564</td>\n",
       "      <td>0.630112</td>\n",
       "      <td>0.630112</td>\n",
       "    </tr>\n",
       "    <tr>\n",
       "      <td>16384</td>\n",
       "      <td>0.037500</td>\n",
       "      <td>0.011364</td>\n",
       "      <td>-1.306724</td>\n",
       "      <td>0.621755</td>\n",
       "      <td>0.674201</td>\n",
       "      <td>0.530871</td>\n",
       "      <td>0.555492</td>\n",
       "      <td>0.578160</td>\n",
       "      <td>0.605482</td>\n",
       "      <td>0.605482</td>\n",
       "    </tr>\n",
       "    <tr>\n",
       "      <td>17408</td>\n",
       "      <td>0.036800</td>\n",
       "      <td>0.011126</td>\n",
       "      <td>-1.286428</td>\n",
       "      <td>0.642297</td>\n",
       "      <td>0.690917</td>\n",
       "      <td>0.552568</td>\n",
       "      <td>0.576452</td>\n",
       "      <td>0.596039</td>\n",
       "      <td>0.625632</td>\n",
       "      <td>0.625632</td>\n",
       "    </tr>\n",
       "    <tr>\n",
       "      <td>18432</td>\n",
       "      <td>0.036000</td>\n",
       "      <td>0.010898</td>\n",
       "      <td>-1.263252</td>\n",
       "      <td>0.636473</td>\n",
       "      <td>0.687500</td>\n",
       "      <td>0.556233</td>\n",
       "      <td>0.580114</td>\n",
       "      <td>0.587732</td>\n",
       "      <td>0.617785</td>\n",
       "      <td>0.617785</td>\n",
       "    </tr>\n",
       "    <tr>\n",
       "      <td>19456</td>\n",
       "      <td>0.035300</td>\n",
       "      <td>0.010738</td>\n",
       "      <td>-1.248995</td>\n",
       "      <td>0.651560</td>\n",
       "      <td>0.705952</td>\n",
       "      <td>0.571071</td>\n",
       "      <td>0.595890</td>\n",
       "      <td>0.605924</td>\n",
       "      <td>0.632161</td>\n",
       "      <td>0.632161</td>\n",
       "    </tr>\n",
       "    <tr>\n",
       "      <td>20480</td>\n",
       "      <td>0.035000</td>\n",
       "      <td>0.010604</td>\n",
       "      <td>-1.235731</td>\n",
       "      <td>0.655170</td>\n",
       "      <td>0.712738</td>\n",
       "      <td>0.579373</td>\n",
       "      <td>0.604725</td>\n",
       "      <td>0.609736</td>\n",
       "      <td>0.638918</td>\n",
       "      <td>0.638918</td>\n",
       "    </tr>\n",
       "    <tr>\n",
       "      <td>21504</td>\n",
       "      <td>0.034400</td>\n",
       "      <td>0.010488</td>\n",
       "      <td>-1.226516</td>\n",
       "      <td>0.679022</td>\n",
       "      <td>0.726452</td>\n",
       "      <td>0.602753</td>\n",
       "      <td>0.623309</td>\n",
       "      <td>0.620033</td>\n",
       "      <td>0.645925</td>\n",
       "      <td>0.645925</td>\n",
       "    </tr>\n",
       "    <tr>\n",
       "      <td>22528</td>\n",
       "      <td>0.033500</td>\n",
       "      <td>0.010312</td>\n",
       "      <td>-1.210830</td>\n",
       "      <td>0.661901</td>\n",
       "      <td>0.718394</td>\n",
       "      <td>0.586867</td>\n",
       "      <td>0.615064</td>\n",
       "      <td>0.611520</td>\n",
       "      <td>0.643832</td>\n",
       "      <td>0.643832</td>\n",
       "    </tr>\n",
       "    <tr>\n",
       "      <td>23552</td>\n",
       "      <td>0.032700</td>\n",
       "      <td>0.010290</td>\n",
       "      <td>-1.210138</td>\n",
       "      <td>0.664029</td>\n",
       "      <td>0.712189</td>\n",
       "      <td>0.583614</td>\n",
       "      <td>0.607413</td>\n",
       "      <td>0.610449</td>\n",
       "      <td>0.642742</td>\n",
       "      <td>0.642742</td>\n",
       "    </tr>\n",
       "    <tr>\n",
       "      <td>24576</td>\n",
       "      <td>0.032400</td>\n",
       "      <td>0.010152</td>\n",
       "      <td>-1.197187</td>\n",
       "      <td>0.675180</td>\n",
       "      <td>0.723155</td>\n",
       "      <td>0.596605</td>\n",
       "      <td>0.617359</td>\n",
       "      <td>0.617872</td>\n",
       "      <td>0.644732</td>\n",
       "      <td>0.644732</td>\n",
       "    </tr>\n",
       "    <tr>\n",
       "      <td>25600</td>\n",
       "      <td>0.032200</td>\n",
       "      <td>0.009998</td>\n",
       "      <td>-1.181282</td>\n",
       "      <td>0.672553</td>\n",
       "      <td>0.721732</td>\n",
       "      <td>0.590351</td>\n",
       "      <td>0.616598</td>\n",
       "      <td>0.612949</td>\n",
       "      <td>0.645682</td>\n",
       "      <td>0.645682</td>\n",
       "    </tr>\n",
       "    <tr>\n",
       "      <td>26624</td>\n",
       "      <td>0.032000</td>\n",
       "      <td>0.009916</td>\n",
       "      <td>-1.174489</td>\n",
       "      <td>0.676968</td>\n",
       "      <td>0.730774</td>\n",
       "      <td>0.597129</td>\n",
       "      <td>0.627248</td>\n",
       "      <td>0.618294</td>\n",
       "      <td>0.653360</td>\n",
       "      <td>0.653360</td>\n",
       "    </tr>\n",
       "    <tr>\n",
       "      <td>27648</td>\n",
       "      <td>0.031600</td>\n",
       "      <td>0.009836</td>\n",
       "      <td>-1.167254</td>\n",
       "      <td>0.670573</td>\n",
       "      <td>0.728921</td>\n",
       "      <td>0.583451</td>\n",
       "      <td>0.612452</td>\n",
       "      <td>0.606446</td>\n",
       "      <td>0.644056</td>\n",
       "      <td>0.644056</td>\n",
       "    </tr>\n",
       "    <tr>\n",
       "      <td>28672</td>\n",
       "      <td>0.031400</td>\n",
       "      <td>0.009775</td>\n",
       "      <td>-1.162211</td>\n",
       "      <td>0.665942</td>\n",
       "      <td>0.722187</td>\n",
       "      <td>0.584668</td>\n",
       "      <td>0.610458</td>\n",
       "      <td>0.606166</td>\n",
       "      <td>0.636544</td>\n",
       "      <td>0.636544</td>\n",
       "    </tr>\n",
       "    <tr>\n",
       "      <td>29696</td>\n",
       "      <td>0.031200</td>\n",
       "      <td>0.009739</td>\n",
       "      <td>-1.159342</td>\n",
       "      <td>0.664575</td>\n",
       "      <td>0.717537</td>\n",
       "      <td>0.585272</td>\n",
       "      <td>0.612070</td>\n",
       "      <td>0.606613</td>\n",
       "      <td>0.634838</td>\n",
       "      <td>0.634838</td>\n",
       "    </tr>\n",
       "    <tr>\n",
       "      <td>30720</td>\n",
       "      <td>0.030800</td>\n",
       "      <td>0.009608</td>\n",
       "      <td>-1.145655</td>\n",
       "      <td>0.665661</td>\n",
       "      <td>0.720449</td>\n",
       "      <td>0.578297</td>\n",
       "      <td>0.604404</td>\n",
       "      <td>0.605089</td>\n",
       "      <td>0.637652</td>\n",
       "      <td>0.637652</td>\n",
       "    </tr>\n",
       "    <tr>\n",
       "      <td>31744</td>\n",
       "      <td>0.030700</td>\n",
       "      <td>0.009548</td>\n",
       "      <td>-1.141053</td>\n",
       "      <td>0.669421</td>\n",
       "      <td>0.723013</td>\n",
       "      <td>0.585592</td>\n",
       "      <td>0.617496</td>\n",
       "      <td>0.604918</td>\n",
       "      <td>0.635281</td>\n",
       "      <td>0.635281</td>\n",
       "    </tr>\n",
       "    <tr>\n",
       "      <td>32768</td>\n",
       "      <td>0.030500</td>\n",
       "      <td>0.009535</td>\n",
       "      <td>-1.141413</td>\n",
       "      <td>0.654881</td>\n",
       "      <td>0.712986</td>\n",
       "      <td>0.571480</td>\n",
       "      <td>0.605234</td>\n",
       "      <td>0.596568</td>\n",
       "      <td>0.634026</td>\n",
       "      <td>0.634026</td>\n",
       "    </tr>\n",
       "    <tr>\n",
       "      <td>33792</td>\n",
       "      <td>0.029600</td>\n",
       "      <td>0.009473</td>\n",
       "      <td>-1.136022</td>\n",
       "      <td>0.672167</td>\n",
       "      <td>0.723410</td>\n",
       "      <td>0.586434</td>\n",
       "      <td>0.616005</td>\n",
       "      <td>0.610256</td>\n",
       "      <td>0.641067</td>\n",
       "      <td>0.641067</td>\n",
       "    </tr>\n",
       "    <tr>\n",
       "      <td>34816</td>\n",
       "      <td>0.029500</td>\n",
       "      <td>0.009431</td>\n",
       "      <td>-1.131734</td>\n",
       "      <td>0.672672</td>\n",
       "      <td>0.722027</td>\n",
       "      <td>0.584464</td>\n",
       "      <td>0.613096</td>\n",
       "      <td>0.606951</td>\n",
       "      <td>0.639608</td>\n",
       "      <td>0.639608</td>\n",
       "    </tr>\n",
       "    <tr>\n",
       "      <td>35840</td>\n",
       "      <td>0.029400</td>\n",
       "      <td>0.009404</td>\n",
       "      <td>-1.130603</td>\n",
       "      <td>0.677077</td>\n",
       "      <td>0.731461</td>\n",
       "      <td>0.592916</td>\n",
       "      <td>0.616692</td>\n",
       "      <td>0.619213</td>\n",
       "      <td>0.650484</td>\n",
       "      <td>0.650484</td>\n",
       "    </tr>\n",
       "    <tr>\n",
       "      <td>36864</td>\n",
       "      <td>0.029300</td>\n",
       "      <td>0.009361</td>\n",
       "      <td>-1.126310</td>\n",
       "      <td>0.671380</td>\n",
       "      <td>0.721943</td>\n",
       "      <td>0.586051</td>\n",
       "      <td>0.608866</td>\n",
       "      <td>0.615178</td>\n",
       "      <td>0.645034</td>\n",
       "      <td>0.645034</td>\n",
       "    </tr>\n",
       "    <tr>\n",
       "      <td>37888</td>\n",
       "      <td>0.029200</td>\n",
       "      <td>0.009323</td>\n",
       "      <td>-1.122514</td>\n",
       "      <td>0.672949</td>\n",
       "      <td>0.723558</td>\n",
       "      <td>0.589907</td>\n",
       "      <td>0.614101</td>\n",
       "      <td>0.613716</td>\n",
       "      <td>0.645091</td>\n",
       "      <td>0.645091</td>\n",
       "    </tr>\n",
       "    <tr>\n",
       "      <td>38912</td>\n",
       "      <td>0.029100</td>\n",
       "      <td>0.009291</td>\n",
       "      <td>-1.120370</td>\n",
       "      <td>0.681165</td>\n",
       "      <td>0.733143</td>\n",
       "      <td>0.594752</td>\n",
       "      <td>0.617912</td>\n",
       "      <td>0.615966</td>\n",
       "      <td>0.645986</td>\n",
       "      <td>0.645986</td>\n",
       "    </tr>\n",
       "    <tr>\n",
       "      <td>39936</td>\n",
       "      <td>0.029000</td>\n",
       "      <td>0.009244</td>\n",
       "      <td>-1.114716</td>\n",
       "      <td>0.674140</td>\n",
       "      <td>0.722610</td>\n",
       "      <td>0.587611</td>\n",
       "      <td>0.612697</td>\n",
       "      <td>0.611015</td>\n",
       "      <td>0.640563</td>\n",
       "      <td>0.640563</td>\n",
       "    </tr>\n",
       "    <tr>\n",
       "      <td>40960</td>\n",
       "      <td>0.029000</td>\n",
       "      <td>0.009214</td>\n",
       "      <td>-1.111761</td>\n",
       "      <td>0.675767</td>\n",
       "      <td>0.724537</td>\n",
       "      <td>0.591629</td>\n",
       "      <td>0.618419</td>\n",
       "      <td>0.613591</td>\n",
       "      <td>0.642515</td>\n",
       "      <td>0.642515</td>\n",
       "    </tr>\n",
       "    <tr>\n",
       "      <td>41984</td>\n",
       "      <td>0.028900</td>\n",
       "      <td>0.009195</td>\n",
       "      <td>-1.110197</td>\n",
       "      <td>0.675428</td>\n",
       "      <td>0.727935</td>\n",
       "      <td>0.590308</td>\n",
       "      <td>0.617931</td>\n",
       "      <td>0.615309</td>\n",
       "      <td>0.646467</td>\n",
       "      <td>0.646467</td>\n",
       "    </tr>\n",
       "    <tr>\n",
       "      <td>43008</td>\n",
       "      <td>0.028800</td>\n",
       "      <td>0.009189</td>\n",
       "      <td>-1.109880</td>\n",
       "      <td>0.677444</td>\n",
       "      <td>0.729805</td>\n",
       "      <td>0.592105</td>\n",
       "      <td>0.619087</td>\n",
       "      <td>0.615583</td>\n",
       "      <td>0.643783</td>\n",
       "      <td>0.643783</td>\n",
       "    </tr>\n",
       "  </tbody>\n",
       "</table><p>"
      ],
      "text/plain": [
       "<IPython.core.display.HTML object>"
      ]
     },
     "metadata": {},
     "output_type": "display_data"
    },
    {
     "data": {
      "text/plain": [
       "TrainOutput(global_step=43664, training_loss=0.048113468891100464, metrics={'train_runtime': 29843.2807, 'train_samples_per_second': 70.231, 'train_steps_per_second': 1.463, 'total_flos': 0.0, 'train_loss': 0.048113468891100464, 'epoch': 3.999694647164799})"
      ]
     },
     "execution_count": 27,
     "metadata": {},
     "output_type": "execute_result"
    }
   ],
   "source": [
    "import logging\n",
    "logging.basicConfig(level=logging.DEBUG)\n",
    "\n",
    "trainer.train()"
   ]
  },
  {
   "cell_type": "code",
   "execution_count": 28,
   "metadata": {
    "execution": {
     "iopub.execute_input": "2025-04-13T20:34:59.239506Z",
     "iopub.status.busy": "2025-04-13T20:34:59.239198Z",
     "iopub.status.idle": "2025-04-13T20:35:18.224223Z",
     "shell.execute_reply": "2025-04-13T20:35:18.223499Z",
     "shell.execute_reply.started": "2025-04-13T20:34:59.239481Z"
    }
   },
   "outputs": [
    {
     "data": {
      "text/html": [
       "\n",
       "    <div>\n",
       "      \n",
       "      <progress value='240' max='240' style='width:300px; height:20px; vertical-align: middle;'></progress>\n",
       "      [240/240 00:13]\n",
       "    </div>\n",
       "    "
      ],
      "text/plain": [
       "<IPython.core.display.HTML object>"
      ]
     },
     "metadata": {},
     "output_type": "display_data"
    },
    {
     "data": {
      "text/plain": [
       "{'eval_loss': 0.00917844008654356,\n",
       " 'eval_mse-en-ua_negative_mse': -1.1089269071817398,\n",
       " 'eval_sts17-en-en_pearson_cosine': 0.6784819487397877,\n",
       " 'eval_sts17-en-en_spearman_cosine': 0.7308493185913256,\n",
       " 'eval_sts17-en-ua_pearson_cosine': 0.592555339963418,\n",
       " 'eval_sts17-en-ua_spearman_cosine': 0.6197606373137193,\n",
       " 'eval_sts17-ua-ua_pearson_cosine': 0.6158998595292998,\n",
       " 'eval_sts17-ua-ua_spearman_cosine': 0.6445750755380512,\n",
       " 'eval_sequential_score': 0.6445750755380512,\n",
       " 'eval_runtime': 18.9678,\n",
       " 'eval_samples_per_second': 202.343,\n",
       " 'eval_steps_per_second': 12.653,\n",
       " 'epoch': 3.999694647164799}"
      ]
     },
     "execution_count": 28,
     "metadata": {},
     "output_type": "execute_result"
    }
   ],
   "source": [
    "trainer.evaluate()"
   ]
  },
  {
   "cell_type": "markdown",
   "metadata": {},
   "source": [
    "### Saving"
   ]
  },
  {
   "cell_type": "code",
   "execution_count": 29,
   "metadata": {
    "execution": {
     "iopub.execute_input": "2025-04-13T20:35:18.225365Z",
     "iopub.status.busy": "2025-04-13T20:35:18.225025Z",
     "iopub.status.idle": "2025-04-13T20:35:21.977714Z",
     "shell.execute_reply": "2025-04-13T20:35:21.977169Z",
     "shell.execute_reply.started": "2025-04-13T20:35:18.225337Z"
    }
   },
   "outputs": [],
   "source": [
    "student_model.save('./xlm-roberta-ua-distilled/final')"
   ]
  },
  {
   "cell_type": "code",
   "execution_count": 31,
   "metadata": {
    "execution": {
     "iopub.execute_input": "2025-04-13T20:36:21.734438Z",
     "iopub.status.busy": "2025-04-13T20:36:21.733839Z",
     "iopub.status.idle": "2025-04-13T20:37:03.336044Z",
     "shell.execute_reply": "2025-04-13T20:37:03.335391Z",
     "shell.execute_reply.started": "2025-04-13T20:36:21.734414Z"
    }
   },
   "outputs": [
    {
     "data": {
      "application/vnd.jupyter.widget-view+json": {
       "model_id": "56979561160f4495a5402021549c9bcb",
       "version_major": 2,
       "version_minor": 0
      },
      "text/plain": [
       "sentencepiece.bpe.model:   0%|          | 0.00/5.07M [00:00<?, ?B/s]"
      ]
     },
     "metadata": {},
     "output_type": "display_data"
    },
    {
     "data": {
      "application/vnd.jupyter.widget-view+json": {
       "model_id": "32e34552b3ee4ff485a22c5b4da98f16",
       "version_major": 2,
       "version_minor": 0
      },
      "text/plain": [
       "tokenizer.json:   0%|          | 0.00/17.1M [00:00<?, ?B/s]"
      ]
     },
     "metadata": {},
     "output_type": "display_data"
    },
    {
     "data": {
      "application/vnd.jupyter.widget-view+json": {
       "model_id": "cb787503ecbd4cec908f4010eabb8883",
       "version_major": 2,
       "version_minor": 0
      },
      "text/plain": [
       "model.safetensors:   0%|          | 0.00/1.11G [00:00<?, ?B/s]"
      ]
     },
     "metadata": {},
     "output_type": "display_data"
    },
    {
     "data": {
      "application/vnd.jupyter.widget-view+json": {
       "model_id": "c9c1f598aedd457f9a88f4ffe6e7182e",
       "version_major": 2,
       "version_minor": 0
      },
      "text/plain": [
       "Upload 3 LFS files:   0%|          | 0/3 [00:00<?, ?it/s]"
      ]
     },
     "metadata": {},
     "output_type": "display_data"
    },
    {
     "data": {
      "text/plain": [
       "'https://huggingface.co/panalexeu/xlm-roberta-ua-distilled-full/commit/dfb4cced02e6fb70c6bad5a676f997ce06158c9c'"
      ]
     },
     "execution_count": 31,
     "metadata": {},
     "output_type": "execute_result"
    }
   ],
   "source": [
    "import os \n",
    "\n",
    "os.environ['HF_TOKEN'] = ''\n",
    "student_model.push_to_hub('xlm-roberta-ua-distilled-full')"
   ]
  },
  {
   "cell_type": "code",
   "execution_count": 2,
   "metadata": {
    "execution": {
     "iopub.execute_input": "2025-04-14T08:55:14.168910Z",
     "iopub.status.busy": "2025-04-14T08:55:14.168065Z",
     "iopub.status.idle": "2025-04-14T08:55:19.170752Z",
     "shell.execute_reply": "2025-04-14T08:55:19.170142Z",
     "shell.execute_reply.started": "2025-04-14T08:55:14.168884Z"
    }
   },
   "outputs": [],
   "source": [
    "from sentence_transformers import SentenceTransformer\n",
    "\n",
    "model = SentenceTransformer('/kaggle/working/xlm-roberta-ua-distilled/final')"
   ]
  }
 ],
 "metadata": {
  "kaggle": {
   "accelerator": "gpu",
   "dataSources": [
    {
     "datasetId": 7107498,
     "sourceId": 11356899,
     "sourceType": "datasetVersion"
    }
   ],
   "dockerImageVersionId": 31011,
   "isGpuEnabled": true,
   "isInternetEnabled": true,
   "language": "python",
   "sourceType": "notebook"
  },
  "kernelspec": {
   "display_name": "Python 3 (ipykernel)",
   "language": "python",
   "name": "python3"
  },
  "language_info": {
   "codemirror_mode": {
    "name": "ipython",
    "version": 3
   },
   "file_extension": ".py",
   "mimetype": "text/x-python",
   "name": "python",
   "nbconvert_exporter": "python",
   "pygments_lexer": "ipython3",
   "version": "3.12.7"
  }
 },
 "nbformat": 4,
 "nbformat_minor": 4
}
