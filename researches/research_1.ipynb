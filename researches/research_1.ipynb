{
 "cells": [
  {
   "cell_type": "code",
   "execution_count": 1,
   "metadata": {
    "execution": {
     "iopub.execute_input": "2025-04-12T18:25:54.858471Z",
     "iopub.status.busy": "2025-04-12T18:25:54.857941Z",
     "iopub.status.idle": "2025-04-12T18:27:19.283104Z",
     "shell.execute_reply": "2025-04-12T18:27:19.282098Z",
     "shell.execute_reply.started": "2025-04-12T18:25:54.858446Z"
    }
   },
   "outputs": [
    {
     "name": "stdout",
     "output_type": "stream",
     "text": [
      "\u001b[2K   \u001b[90m━━━━━━━━━━━━━━━━━━━━━━━━━━━━━━━━━━━━━━━━\u001b[0m \u001b[32m363.4/363.4 MB\u001b[0m \u001b[31m4.1 MB/s\u001b[0m eta \u001b[36m0:00:00\u001b[0m0:00:01\u001b[0m00:01\u001b[0m\n",
      "\u001b[2K   \u001b[90m━━━━━━━━━━━━━━━━━━━━━━━━━━━━━━━━━━━━━━━━\u001b[0m \u001b[32m664.8/664.8 MB\u001b[0m \u001b[31m2.0 MB/s\u001b[0m eta \u001b[36m0:00:00\u001b[0m0:00:01\u001b[0m00:01\u001b[0m\n",
      "\u001b[2K   \u001b[90m━━━━━━━━━━━━━━━━━━━━━━━━━━━━━━━━━━━━━━━━\u001b[0m \u001b[32m211.5/211.5 MB\u001b[0m \u001b[31m5.1 MB/s\u001b[0m eta \u001b[36m0:00:00\u001b[0m0:00:01\u001b[0m00:01\u001b[0m\n",
      "\u001b[2K   \u001b[90m━━━━━━━━━━━━━━━━━━━━━━━━━━━━━━━━━━━━━━━━\u001b[0m \u001b[32m56.3/56.3 MB\u001b[0m \u001b[31m4.9 MB/s\u001b[0m eta \u001b[36m0:00:00\u001b[0m0:00:01\u001b[0m00:01\u001b[0m\n",
      "\u001b[2K   \u001b[90m━━━━━━━━━━━━━━━━━━━━━━━━━━━━━━━━━━━━━━━━\u001b[0m \u001b[32m127.9/127.9 MB\u001b[0m \u001b[31m13.4 MB/s\u001b[0m eta \u001b[36m0:00:00\u001b[0m:00:01\u001b[0m00:01\u001b[0m\n",
      "\u001b[2K   \u001b[90m━━━━━━━━━━━━━━━━━━━━━━━━━━━━━━━━━━━━━━━━\u001b[0m \u001b[32m207.5/207.5 MB\u001b[0m \u001b[31m8.2 MB/s\u001b[0m eta \u001b[36m0:00:00\u001b[0m0:00:01\u001b[0m00:01\u001b[0m\n",
      "\u001b[2K   \u001b[90m━━━━━━━━━━━━━━━━━━━━━━━━━━━━━━━━━━━━━━━━\u001b[0m \u001b[32m21.1/21.1 MB\u001b[0m \u001b[31m77.6 MB/s\u001b[0m eta \u001b[36m0:00:00\u001b[0m:00:01\u001b[0m00:01\u001b[0m\n",
      "\u001b[?25h\u001b[31mERROR: pip's dependency resolver does not currently take into account all the packages that are installed. This behaviour is the source of the following dependency conflicts.\n",
      "pylibcugraph-cu12 24.12.0 requires pylibraft-cu12==24.12.*, but you have pylibraft-cu12 25.2.0 which is incompatible.\n",
      "pylibcugraph-cu12 24.12.0 requires rmm-cu12==24.12.*, but you have rmm-cu12 25.2.0 which is incompatible.\u001b[0m\u001b[31m\n",
      "\u001b[2K   \u001b[90m━━━━━━━━━━━━━━━━━━━━━━━━━━━━━━━━━━━━━━━━\u001b[0m \u001b[32m183.9/183.9 kB\u001b[0m \u001b[31m7.1 MB/s\u001b[0m eta \u001b[36m0:00:00\u001b[0m\n",
      "\u001b[?25h\u001b[31mERROR: pip's dependency resolver does not currently take into account all the packages that are installed. This behaviour is the source of the following dependency conflicts.\n",
      "gcsfs 2024.10.0 requires fsspec==2024.10.0, but you have fsspec 2024.12.0 which is incompatible.\n",
      "bigframes 1.36.0 requires rich<14,>=12.4.4, but you have rich 14.0.0 which is incompatible.\u001b[0m\u001b[31m\n",
      "\u001b[0m"
     ]
    }
   ],
   "source": [
    "!pip install -q sentence-transformers\n",
    "!pip install -q transformers\n",
    "!pip install -q datasets \n",
    "!pip install -q pandas \n",
    "!pip install -q accelerate "
   ]
  },
  {
   "cell_type": "code",
   "execution_count": 2,
   "metadata": {
    "execution": {
     "iopub.execute_input": "2025-04-12T18:27:19.285347Z",
     "iopub.status.busy": "2025-04-12T18:27:19.284733Z",
     "iopub.status.idle": "2025-04-12T18:27:32.615919Z",
     "shell.execute_reply": "2025-04-12T18:27:32.615108Z",
     "shell.execute_reply.started": "2025-04-12T18:27:19.285313Z"
    }
   },
   "outputs": [],
   "source": [
    "!pip uninstall -qy wandb"
   ]
  },
  {
   "cell_type": "code",
   "execution_count": 3,
   "metadata": {
    "execution": {
     "iopub.execute_input": "2025-04-12T18:27:32.617282Z",
     "iopub.status.busy": "2025-04-12T18:27:32.616991Z",
     "iopub.status.idle": "2025-04-12T18:27:43.750940Z",
     "shell.execute_reply": "2025-04-12T18:27:43.750365Z",
     "shell.execute_reply.started": "2025-04-12T18:27:32.617251Z"
    }
   },
   "outputs": [
    {
     "data": {
      "application/vnd.jupyter.widget-view+json": {
       "model_id": "eb19ce0bd95543979c409f23f3c29e9f",
       "version_major": 2,
       "version_minor": 0
      },
      "text/plain": [
       "README.md:   0%|          | 0.00/25.0k [00:00<?, ?B/s]"
      ]
     },
     "metadata": {},
     "output_type": "display_data"
    },
    {
     "name": "stderr",
     "output_type": "stream",
     "text": [
      "Xet Storage is enabled for this repo, but the 'hf_xet' package is not installed. Falling back to regular HTTP download. For better performance, install the package with: `pip install huggingface_hub[hf_xet]` or `pip install hf_xet`\n"
     ]
    },
    {
     "data": {
      "application/vnd.jupyter.widget-view+json": {
       "model_id": "18fd044f9ea344baaff0f24058d8e74a",
       "version_major": 2,
       "version_minor": 0
      },
      "text/plain": [
       "dev-00000-of-00001.parquet:   0%|          | 0.00/148k [00:00<?, ?B/s]"
      ]
     },
     "metadata": {},
     "output_type": "display_data"
    },
    {
     "name": "stderr",
     "output_type": "stream",
     "text": [
      "Xet Storage is enabled for this repo, but the 'hf_xet' package is not installed. Falling back to regular HTTP download. For better performance, install the package with: `pip install huggingface_hub[hf_xet]` or `pip install hf_xet`\n"
     ]
    },
    {
     "data": {
      "application/vnd.jupyter.widget-view+json": {
       "model_id": "c62249678f2e44869dee54a7fe2ff00d",
       "version_major": 2,
       "version_minor": 0
      },
      "text/plain": [
       "train-00000-of-00001.parquet:   0%|          | 0.00/30.1M [00:00<?, ?B/s]"
      ]
     },
     "metadata": {},
     "output_type": "display_data"
    },
    {
     "data": {
      "application/vnd.jupyter.widget-view+json": {
       "model_id": "95b01cfc6c824e64a6b822ac052a174f",
       "version_major": 2,
       "version_minor": 0
      },
      "text/plain": [
       "Generating dev split:   0%|          | 0/993 [00:00<?, ? examples/s]"
      ]
     },
     "metadata": {},
     "output_type": "display_data"
    },
    {
     "data": {
      "application/vnd.jupyter.widget-view+json": {
       "model_id": "901d33fd103d49d492e88c6f5a380307",
       "version_major": 2,
       "version_minor": 0
      },
      "text/plain": [
       "Generating train split:   0%|          | 0/201883 [00:00<?, ? examples/s]"
      ]
     },
     "metadata": {},
     "output_type": "display_data"
    },
    {
     "data": {
      "application/vnd.jupyter.widget-view+json": {
       "model_id": "4fe355c8d8c3474799098b52336f0762",
       "version_major": 2,
       "version_minor": 0
      },
      "text/plain": [
       "README.md:   0%|          | 0.00/19.6k [00:00<?, ?B/s]"
      ]
     },
     "metadata": {},
     "output_type": "display_data"
    },
    {
     "name": "stderr",
     "output_type": "stream",
     "text": [
      "Xet Storage is enabled for this repo, but the 'hf_xet' package is not installed. Falling back to regular HTTP download. For better performance, install the package with: `pip install huggingface_hub[hf_xet]` or `pip install hf_xet`\n"
     ]
    },
    {
     "data": {
      "application/vnd.jupyter.widget-view+json": {
       "model_id": "fec41f40cb4244fe90348bac251b9adc",
       "version_major": 2,
       "version_minor": 0
      },
      "text/plain": [
       "dev-00000-of-00001.parquet:   0%|          | 0.00/115k [00:00<?, ?B/s]"
      ]
     },
     "metadata": {},
     "output_type": "display_data"
    },
    {
     "name": "stderr",
     "output_type": "stream",
     "text": [
      "Xet Storage is enabled for this repo, but the 'hf_xet' package is not installed. Falling back to regular HTTP download. For better performance, install the package with: `pip install huggingface_hub[hf_xet]` or `pip install hf_xet`\n"
     ]
    },
    {
     "data": {
      "application/vnd.jupyter.widget-view+json": {
       "model_id": "e969d2e7fd0a4cdc8a82f68bea2cfe9f",
       "version_major": 2,
       "version_minor": 0
      },
      "text/plain": [
       "train-00000-of-00001.parquet:   0%|          | 0.00/27.8M [00:00<?, ?B/s]"
      ]
     },
     "metadata": {},
     "output_type": "display_data"
    },
    {
     "data": {
      "application/vnd.jupyter.widget-view+json": {
       "model_id": "f8c3e62e216e4426b1a91fdae45df9cf",
       "version_major": 2,
       "version_minor": 0
      },
      "text/plain": [
       "Generating dev split:   0%|          | 0/1000 [00:00<?, ? examples/s]"
      ]
     },
     "metadata": {},
     "output_type": "display_data"
    },
    {
     "data": {
      "application/vnd.jupyter.widget-view+json": {
       "model_id": "885d00b4669b4e2c9e4c4b4df5051266",
       "version_major": 2,
       "version_minor": 0
      },
      "text/plain": [
       "Generating train split:   0%|          | 0/132253 [00:00<?, ? examples/s]"
      ]
     },
     "metadata": {},
     "output_type": "display_data"
    },
    {
     "data": {
      "application/vnd.jupyter.widget-view+json": {
       "model_id": "9c18f7d568884b93888e2f6f20bd29f0",
       "version_major": 2,
       "version_minor": 0
      },
      "text/plain": [
       "README.md:   0%|          | 0.00/21.1k [00:00<?, ?B/s]"
      ]
     },
     "metadata": {},
     "output_type": "display_data"
    },
    {
     "name": "stderr",
     "output_type": "stream",
     "text": [
      "Xet Storage is enabled for this repo, but the 'hf_xet' package is not installed. Falling back to regular HTTP download. For better performance, install the package with: `pip install huggingface_hub[hf_xet]` or `pip install hf_xet`\n"
     ]
    },
    {
     "data": {
      "application/vnd.jupyter.widget-view+json": {
       "model_id": "a3a8ceab63644cf08a375261570c17f9",
       "version_major": 2,
       "version_minor": 0
      },
      "text/plain": [
       "dev-00000-of-00001.parquet:   0%|          | 0.00/77.2k [00:00<?, ?B/s]"
      ]
     },
     "metadata": {},
     "output_type": "display_data"
    },
    {
     "name": "stderr",
     "output_type": "stream",
     "text": [
      "Xet Storage is enabled for this repo, but the 'hf_xet' package is not installed. Falling back to regular HTTP download. For better performance, install the package with: `pip install huggingface_hub[hf_xet]` or `pip install hf_xet`\n"
     ]
    },
    {
     "data": {
      "application/vnd.jupyter.widget-view+json": {
       "model_id": "edae15b212754001b209d40f3fcb7695",
       "version_major": 2,
       "version_minor": 0
      },
      "text/plain": [
       "train-00000-of-00001.parquet:   0%|          | 0.00/7.38M [00:00<?, ?B/s]"
      ]
     },
     "metadata": {},
     "output_type": "display_data"
    },
    {
     "data": {
      "application/vnd.jupyter.widget-view+json": {
       "model_id": "a14083df3279425688bb39b602ce46cb",
       "version_major": 2,
       "version_minor": 0
      },
      "text/plain": [
       "Generating dev split:   0%|          | 0/1845 [00:00<?, ? examples/s]"
      ]
     },
     "metadata": {},
     "output_type": "display_data"
    },
    {
     "data": {
      "application/vnd.jupyter.widget-view+json": {
       "model_id": "56ecc4afc6e64fd4a30d1fbae672cb3a",
       "version_major": 2,
       "version_minor": 0
      },
      "text/plain": [
       "Generating train split:   0%|          | 0/189846 [00:00<?, ? examples/s]"
      ]
     },
     "metadata": {},
     "output_type": "display_data"
    },
    {
     "data": {
      "text/plain": [
       "Dataset({\n",
       "    features: ['english', 'non_english'],\n",
       "    num_rows: 523982\n",
       "})"
      ]
     },
     "execution_count": 3,
     "metadata": {},
     "output_type": "execute_result"
    }
   ],
   "source": [
    "from datasets import load_dataset, concatenate_datasets\n",
    "\n",
    "talks = load_dataset('sentence-transformers/parallel-sentences-talks', 'en-uk')\n",
    "wikimatrix = load_dataset('sentence-transformers/parallel-sentences-wikimatrix', 'en-uk')\n",
    "tatoeba = load_dataset('sentence-transformers/parallel-sentences-tatoeba', 'en-uk')\n",
    "\n",
    "mega_train = concatenate_datasets([talks['train'], wikimatrix['train'], tatoeba['train']])\n",
    "mega_train = mega_train.shuffle()\n",
    "mega_train"
   ]
  },
  {
   "cell_type": "code",
   "execution_count": 4,
   "metadata": {
    "execution": {
     "iopub.execute_input": "2025-04-12T18:27:43.752772Z",
     "iopub.status.busy": "2025-04-12T18:27:43.752335Z",
     "iopub.status.idle": "2025-04-12T18:27:47.205280Z",
     "shell.execute_reply": "2025-04-12T18:27:47.204739Z",
     "shell.execute_reply.started": "2025-04-12T18:27:43.752753Z"
    }
   },
   "outputs": [],
   "source": [
    "mega_train.set_format(type='pandas')\n",
    "mega_train_df = mega_train[:]"
   ]
  },
  {
   "cell_type": "code",
   "execution_count": 5,
   "metadata": {
    "execution": {
     "iopub.execute_input": "2025-04-12T18:27:47.206370Z",
     "iopub.status.busy": "2025-04-12T18:27:47.206095Z",
     "iopub.status.idle": "2025-04-12T18:27:47.337508Z",
     "shell.execute_reply": "2025-04-12T18:27:47.336755Z",
     "shell.execute_reply.started": "2025-04-12T18:27:47.206349Z"
    }
   },
   "outputs": [
    {
     "name": "stdout",
     "output_type": "stream",
     "text": [
      "<class 'pandas.core.frame.DataFrame'>\n",
      "RangeIndex: 523982 entries, 0 to 523981\n",
      "Data columns (total 2 columns):\n",
      " #   Column       Non-Null Count   Dtype \n",
      "---  ------       --------------   ----- \n",
      " 0   english      523982 non-null  object\n",
      " 1   non_english  523982 non-null  object\n",
      "dtypes: object(2)\n",
      "memory usage: 8.0+ MB\n"
     ]
    }
   ],
   "source": [
    "mega_train_df.info()"
   ]
  },
  {
   "cell_type": "code",
   "execution_count": 6,
   "metadata": {
    "execution": {
     "iopub.execute_input": "2025-04-12T18:27:47.338471Z",
     "iopub.status.busy": "2025-04-12T18:27:47.338227Z",
     "iopub.status.idle": "2025-04-12T18:27:47.353648Z",
     "shell.execute_reply": "2025-04-12T18:27:47.352947Z",
     "shell.execute_reply.started": "2025-04-12T18:27:47.338449Z"
    }
   },
   "outputs": [
    {
     "data": {
      "text/html": [
       "<div>\n",
       "<style scoped>\n",
       "    .dataframe tbody tr th:only-of-type {\n",
       "        vertical-align: middle;\n",
       "    }\n",
       "\n",
       "    .dataframe tbody tr th {\n",
       "        vertical-align: top;\n",
       "    }\n",
       "\n",
       "    .dataframe thead th {\n",
       "        text-align: right;\n",
       "    }\n",
       "</style>\n",
       "<table border=\"1\" class=\"dataframe\">\n",
       "  <thead>\n",
       "    <tr style=\"text-align: right;\">\n",
       "      <th></th>\n",
       "      <th>english</th>\n",
       "      <th>non_english</th>\n",
       "    </tr>\n",
       "  </thead>\n",
       "  <tbody>\n",
       "    <tr>\n",
       "      <th>0</th>\n",
       "      <td>And I'm afraid this is not going to be good en...</td>\n",
       "      <td>Та мені здається, що цього вже не досить, і ми...</td>\n",
       "    </tr>\n",
       "    <tr>\n",
       "      <th>1</th>\n",
       "      <td>Currently, I'm working at the Fortune Society,...</td>\n",
       "      <td>Наразі я працюю  в Fortune Society, у програмі...</td>\n",
       "    </tr>\n",
       "    <tr>\n",
       "      <th>2</th>\n",
       "      <td>It was most likely painted in the winter of 18...</td>\n",
       "      <td>Картина ймовірно була створена зимою 1885-86 р...</td>\n",
       "    </tr>\n",
       "    <tr>\n",
       "      <th>3</th>\n",
       "      <td>We go through initiation rites.</td>\n",
       "      <td>Усі проходимо через ритуали посвячення.</td>\n",
       "    </tr>\n",
       "    <tr>\n",
       "      <th>4</th>\n",
       "      <td>And we also worked around the clock doing shif...</td>\n",
       "      <td>Ми знову працювали цілодобово, позмінно, день ...</td>\n",
       "    </tr>\n",
       "  </tbody>\n",
       "</table>\n",
       "</div>"
      ],
      "text/plain": [
       "                                             english  \\\n",
       "0  And I'm afraid this is not going to be good en...   \n",
       "1  Currently, I'm working at the Fortune Society,...   \n",
       "2  It was most likely painted in the winter of 18...   \n",
       "3                    We go through initiation rites.   \n",
       "4  And we also worked around the clock doing shif...   \n",
       "\n",
       "                                         non_english  \n",
       "0  Та мені здається, що цього вже не досить, і ми...  \n",
       "1  Наразі я працюю  в Fortune Society, у програмі...  \n",
       "2  Картина ймовірно була створена зимою 1885-86 р...  \n",
       "3            Усі проходимо через ритуали посвячення.  \n",
       "4  Ми знову працювали цілодобово, позмінно, день ...  "
      ]
     },
     "execution_count": 6,
     "metadata": {},
     "output_type": "execute_result"
    }
   ],
   "source": [
    "mega_train_df.head()"
   ]
  },
  {
   "cell_type": "code",
   "execution_count": 7,
   "metadata": {
    "execution": {
     "iopub.execute_input": "2025-04-12T18:27:47.354515Z",
     "iopub.status.busy": "2025-04-12T18:27:47.354258Z",
     "iopub.status.idle": "2025-04-12T18:27:47.358869Z",
     "shell.execute_reply": "2025-04-12T18:27:47.358198Z",
     "shell.execute_reply.started": "2025-04-12T18:27:47.354490Z"
    }
   },
   "outputs": [],
   "source": [
    "# reset df format\n",
    "mega_train.reset_format()"
   ]
  },
  {
   "cell_type": "code",
   "execution_count": 8,
   "metadata": {
    "execution": {
     "iopub.execute_input": "2025-04-12T18:27:47.359904Z",
     "iopub.status.busy": "2025-04-12T18:27:47.359590Z",
     "iopub.status.idle": "2025-04-12T18:27:47.381021Z",
     "shell.execute_reply": "2025-04-12T18:27:47.380476Z",
     "shell.execute_reply.started": "2025-04-12T18:27:47.359871Z"
    }
   },
   "outputs": [
    {
     "data": {
      "text/plain": [
       "Dataset({\n",
       "    features: ['english', 'non_english'],\n",
       "    num_rows: 3838\n",
       "})"
      ]
     },
     "execution_count": 8,
     "metadata": {},
     "output_type": "execute_result"
    }
   ],
   "source": [
    "mega_eval = concatenate_datasets([talks['dev'], wikimatrix['dev'], tatoeba['dev']])\n",
    "mega_eval = mega_eval.shuffle()\n",
    "mega_eval "
   ]
  },
  {
   "cell_type": "code",
   "execution_count": 9,
   "metadata": {
    "execution": {
     "iopub.execute_input": "2025-04-12T18:27:47.382437Z",
     "iopub.status.busy": "2025-04-12T18:27:47.381737Z",
     "iopub.status.idle": "2025-04-12T18:27:47.402135Z",
     "shell.execute_reply": "2025-04-12T18:27:47.401458Z",
     "shell.execute_reply.started": "2025-04-12T18:27:47.382388Z"
    }
   },
   "outputs": [],
   "source": [
    "mega_eval.set_format(type='pandas')\n",
    "mega_eval_df = mega_eval[:]"
   ]
  },
  {
   "cell_type": "code",
   "execution_count": 10,
   "metadata": {
    "execution": {
     "iopub.execute_input": "2025-04-12T18:27:47.404362Z",
     "iopub.status.busy": "2025-04-12T18:27:47.404191Z",
     "iopub.status.idle": "2025-04-12T18:27:47.412248Z",
     "shell.execute_reply": "2025-04-12T18:27:47.411597Z",
     "shell.execute_reply.started": "2025-04-12T18:27:47.404349Z"
    }
   },
   "outputs": [
    {
     "name": "stdout",
     "output_type": "stream",
     "text": [
      "<class 'pandas.core.frame.DataFrame'>\n",
      "RangeIndex: 3838 entries, 0 to 3837\n",
      "Data columns (total 2 columns):\n",
      " #   Column       Non-Null Count  Dtype \n",
      "---  ------       --------------  ----- \n",
      " 0   english      3838 non-null   object\n",
      " 1   non_english  3838 non-null   object\n",
      "dtypes: object(2)\n",
      "memory usage: 60.1+ KB\n"
     ]
    }
   ],
   "source": [
    "mega_eval_df.info()"
   ]
  },
  {
   "cell_type": "code",
   "execution_count": 11,
   "metadata": {
    "execution": {
     "iopub.execute_input": "2025-04-12T18:27:47.413098Z",
     "iopub.status.busy": "2025-04-12T18:27:47.412902Z",
     "iopub.status.idle": "2025-04-12T18:27:47.429276Z",
     "shell.execute_reply": "2025-04-12T18:27:47.428730Z",
     "shell.execute_reply.started": "2025-04-12T18:27:47.413084Z"
    }
   },
   "outputs": [
    {
     "data": {
      "text/html": [
       "<div>\n",
       "<style scoped>\n",
       "    .dataframe tbody tr th:only-of-type {\n",
       "        vertical-align: middle;\n",
       "    }\n",
       "\n",
       "    .dataframe tbody tr th {\n",
       "        vertical-align: top;\n",
       "    }\n",
       "\n",
       "    .dataframe thead th {\n",
       "        text-align: right;\n",
       "    }\n",
       "</style>\n",
       "<table border=\"1\" class=\"dataframe\">\n",
       "  <thead>\n",
       "    <tr style=\"text-align: right;\">\n",
       "      <th></th>\n",
       "      <th>english</th>\n",
       "      <th>non_english</th>\n",
       "    </tr>\n",
       "  </thead>\n",
       "  <tbody>\n",
       "    <tr>\n",
       "      <th>0</th>\n",
       "      <td>B. To the Israeli Government a) halt all acts ...</td>\n",
       "      <td>B/  — До ізраїльського уряду a)  — припинити в...</td>\n",
       "    </tr>\n",
       "    <tr>\n",
       "      <th>1</th>\n",
       "      <td>You are nothing but a student.</td>\n",
       "      <td>Ти лише студент.</td>\n",
       "    </tr>\n",
       "    <tr>\n",
       "      <th>2</th>\n",
       "      <td>He also has a blog at The Atlantic, where he d...</td>\n",
       "      <td>Він також вів свій блог The Atlantic, де він о...</td>\n",
       "    </tr>\n",
       "    <tr>\n",
       "      <th>3</th>\n",
       "      <td>You changed a lot.</td>\n",
       "      <td>Ти сильно змінилася.</td>\n",
       "    </tr>\n",
       "    <tr>\n",
       "      <th>4</th>\n",
       "      <td>People in the world are always advocating for ...</td>\n",
       "      <td>Люди в усьому світі завжди борються за більшу ...</td>\n",
       "    </tr>\n",
       "  </tbody>\n",
       "</table>\n",
       "</div>"
      ],
      "text/plain": [
       "                                             english  \\\n",
       "0  B. To the Israeli Government a) halt all acts ...   \n",
       "1                     You are nothing but a student.   \n",
       "2  He also has a blog at The Atlantic, where he d...   \n",
       "3                                 You changed a lot.   \n",
       "4  People in the world are always advocating for ...   \n",
       "\n",
       "                                         non_english  \n",
       "0  B/  — До ізраїльського уряду a)  — припинити в...  \n",
       "1                                   Ти лише студент.  \n",
       "2  Він також вів свій блог The Atlantic, де він о...  \n",
       "3                               Ти сильно змінилася.  \n",
       "4  Люди в усьому світі завжди борються за більшу ...  "
      ]
     },
     "execution_count": 11,
     "metadata": {},
     "output_type": "execute_result"
    }
   ],
   "source": [
    "mega_eval_df.head()"
   ]
  },
  {
   "cell_type": "code",
   "execution_count": 12,
   "metadata": {
    "execution": {
     "iopub.execute_input": "2025-04-12T18:27:47.430339Z",
     "iopub.status.busy": "2025-04-12T18:27:47.430102Z",
     "iopub.status.idle": "2025-04-12T18:27:47.441099Z",
     "shell.execute_reply": "2025-04-12T18:27:47.440433Z",
     "shell.execute_reply.started": "2025-04-12T18:27:47.430318Z"
    }
   },
   "outputs": [],
   "source": [
    "mega_eval.reset_format()"
   ]
  },
  {
   "cell_type": "markdown",
   "metadata": {},
   "source": [
    "### Load teacher and student model "
   ]
  },
  {
   "cell_type": "code",
   "execution_count": 13,
   "metadata": {
    "execution": {
     "iopub.execute_input": "2025-04-12T18:27:47.442268Z",
     "iopub.status.busy": "2025-04-12T18:27:47.442035Z",
     "iopub.status.idle": "2025-04-12T18:28:14.828740Z",
     "shell.execute_reply": "2025-04-12T18:28:14.828199Z",
     "shell.execute_reply.started": "2025-04-12T18:27:47.442248Z"
    }
   },
   "outputs": [
    {
     "name": "stderr",
     "output_type": "stream",
     "text": [
      "2025-04-12 18:27:58.464508: E external/local_xla/xla/stream_executor/cuda/cuda_fft.cc:477] Unable to register cuFFT factory: Attempting to register factory for plugin cuFFT when one has already been registered\n",
      "WARNING: All log messages before absl::InitializeLog() is called are written to STDERR\n",
      "E0000 00:00:1744482478.644483      31 cuda_dnn.cc:8310] Unable to register cuDNN factory: Attempting to register factory for plugin cuDNN when one has already been registered\n",
      "E0000 00:00:1744482478.695932      31 cuda_blas.cc:1418] Unable to register cuBLAS factory: Attempting to register factory for plugin cuBLAS when one has already been registered\n"
     ]
    },
    {
     "data": {
      "application/vnd.jupyter.widget-view+json": {
       "model_id": "4920bbfb9a6242dca7aaea20dcc9ee7f",
       "version_major": 2,
       "version_minor": 0
      },
      "text/plain": [
       "config.json:   0%|          | 0.00/571 [00:00<?, ?B/s]"
      ]
     },
     "metadata": {},
     "output_type": "display_data"
    },
    {
     "name": "stderr",
     "output_type": "stream",
     "text": [
      "Xet Storage is enabled for this repo, but the 'hf_xet' package is not installed. Falling back to regular HTTP download. For better performance, install the package with: `pip install huggingface_hub[hf_xet]` or `pip install hf_xet`\n"
     ]
    },
    {
     "data": {
      "application/vnd.jupyter.widget-view+json": {
       "model_id": "2811929b7ff8415f8edabdb9271b55cc",
       "version_major": 2,
       "version_minor": 0
      },
      "text/plain": [
       "model.safetensors:   0%|          | 0.00/438M [00:00<?, ?B/s]"
      ]
     },
     "metadata": {},
     "output_type": "display_data"
    },
    {
     "data": {
      "application/vnd.jupyter.widget-view+json": {
       "model_id": "209d8d6cdc924e9fb342c14cddfe9172",
       "version_major": 2,
       "version_minor": 0
      },
      "text/plain": [
       "tokenizer_config.json:   0%|          | 0.00/363 [00:00<?, ?B/s]"
      ]
     },
     "metadata": {},
     "output_type": "display_data"
    },
    {
     "data": {
      "application/vnd.jupyter.widget-view+json": {
       "model_id": "39fcbe7787bf4fdc95a1eda85d9f995a",
       "version_major": 2,
       "version_minor": 0
      },
      "text/plain": [
       "vocab.txt:   0%|          | 0.00/232k [00:00<?, ?B/s]"
      ]
     },
     "metadata": {},
     "output_type": "display_data"
    },
    {
     "data": {
      "application/vnd.jupyter.widget-view+json": {
       "model_id": "f689f07b32204f47a8ebdc451fdcdc37",
       "version_major": 2,
       "version_minor": 0
      },
      "text/plain": [
       "tokenizer.json:   0%|          | 0.00/466k [00:00<?, ?B/s]"
      ]
     },
     "metadata": {},
     "output_type": "display_data"
    },
    {
     "data": {
      "application/vnd.jupyter.widget-view+json": {
       "model_id": "04e7c395a0f640cab0d1551e99067cb6",
       "version_major": 2,
       "version_minor": 0
      },
      "text/plain": [
       "special_tokens_map.json:   0%|          | 0.00/239 [00:00<?, ?B/s]"
      ]
     },
     "metadata": {},
     "output_type": "display_data"
    },
    {
     "data": {
      "text/plain": [
       "SentenceTransformer(\n",
       "  (0): Transformer({'max_seq_length': 512, 'do_lower_case': False}) with Transformer model: MPNetModel \n",
       "  (1): Pooling({'word_embedding_dimension': 768, 'pooling_mode_cls_token': False, 'pooling_mode_mean_tokens': True, 'pooling_mode_max_tokens': False, 'pooling_mode_mean_sqrt_len_tokens': False, 'pooling_mode_weightedmean_tokens': False, 'pooling_mode_lasttoken': False, 'include_prompt': True})\n",
       ")"
      ]
     },
     "execution_count": 13,
     "metadata": {},
     "output_type": "execute_result"
    }
   ],
   "source": [
    "import torch\n",
    "from sentence_transformers import SentenceTransformer\n",
    "from sentence_transformers.models import Transformer, Pooling \n",
    "\n",
    "teacher_model_id = 'sentence-transformers/multi-qa-mpnet-base-dot-v1'\n",
    "transformer_module = Transformer(teacher_model_id, model_args=dict(torch_dtype=torch.float32))\n",
    "pooling_module = Pooling(\n",
    "    word_embedding_dimension=transformer_module.get_word_embedding_dimension(),\n",
    "    pooling_mode_cls_token=False,  # initiall True is here \n",
    "    pooling_mode_mean_tokens=True\n",
    ")\n",
    "teacher_model = SentenceTransformer(modules=[transformer_module, pooling_module])\n",
    "teacher_model.to('cuda')\n",
    "teacher_model "
   ]
  },
  {
   "cell_type": "code",
   "execution_count": 14,
   "metadata": {
    "execution": {
     "iopub.execute_input": "2025-04-12T18:28:14.830368Z",
     "iopub.status.busy": "2025-04-12T18:28:14.829603Z",
     "iopub.status.idle": "2025-04-12T18:28:14.834765Z",
     "shell.execute_reply": "2025-04-12T18:28:14.834225Z",
     "shell.execute_reply.started": "2025-04-12T18:28:14.830349Z"
    }
   },
   "outputs": [
    {
     "data": {
      "text/plain": [
       "torch.float32"
      ]
     },
     "execution_count": 14,
     "metadata": {},
     "output_type": "execute_result"
    }
   ],
   "source": [
    "teacher_model[0].auto_model.dtype "
   ]
  },
  {
   "cell_type": "code",
   "execution_count": 15,
   "metadata": {
    "execution": {
     "iopub.execute_input": "2025-04-12T18:28:14.835650Z",
     "iopub.status.busy": "2025-04-12T18:28:14.835369Z",
     "iopub.status.idle": "2025-04-12T18:28:22.333238Z",
     "shell.execute_reply": "2025-04-12T18:28:22.332534Z",
     "shell.execute_reply.started": "2025-04-12T18:28:14.835626Z"
    }
   },
   "outputs": [
    {
     "data": {
      "application/vnd.jupyter.widget-view+json": {
       "model_id": "44ce6e4c8eab4bb4b962d3491cb2e2d0",
       "version_major": 2,
       "version_minor": 0
      },
      "text/plain": [
       "config.json:   0%|          | 0.00/615 [00:00<?, ?B/s]"
      ]
     },
     "metadata": {},
     "output_type": "display_data"
    },
    {
     "name": "stderr",
     "output_type": "stream",
     "text": [
      "Xet Storage is enabled for this repo, but the 'hf_xet' package is not installed. Falling back to regular HTTP download. For better performance, install the package with: `pip install huggingface_hub[hf_xet]` or `pip install hf_xet`\n"
     ]
    },
    {
     "data": {
      "application/vnd.jupyter.widget-view+json": {
       "model_id": "dd0d0501711c4fbf8b691ce94de0c064",
       "version_major": 2,
       "version_minor": 0
      },
      "text/plain": [
       "model.safetensors:   0%|          | 0.00/1.12G [00:00<?, ?B/s]"
      ]
     },
     "metadata": {},
     "output_type": "display_data"
    },
    {
     "data": {
      "application/vnd.jupyter.widget-view+json": {
       "model_id": "532c4cadbd2d49379d36e6d8e9a0defe",
       "version_major": 2,
       "version_minor": 0
      },
      "text/plain": [
       "tokenizer_config.json:   0%|          | 0.00/25.0 [00:00<?, ?B/s]"
      ]
     },
     "metadata": {},
     "output_type": "display_data"
    },
    {
     "data": {
      "application/vnd.jupyter.widget-view+json": {
       "model_id": "516a65d2ad224a5dbbfd4d4fcb6082e6",
       "version_major": 2,
       "version_minor": 0
      },
      "text/plain": [
       "sentencepiece.bpe.model:   0%|          | 0.00/5.07M [00:00<?, ?B/s]"
      ]
     },
     "metadata": {},
     "output_type": "display_data"
    },
    {
     "data": {
      "application/vnd.jupyter.widget-view+json": {
       "model_id": "578a9c8b3e7b49d9949fc595bd32f9fd",
       "version_major": 2,
       "version_minor": 0
      },
      "text/plain": [
       "tokenizer.json:   0%|          | 0.00/9.10M [00:00<?, ?B/s]"
      ]
     },
     "metadata": {},
     "output_type": "display_data"
    },
    {
     "data": {
      "text/plain": [
       "SentenceTransformer(\n",
       "  (0): Transformer({'max_seq_length': 512, 'do_lower_case': False}) with Transformer model: XLMRobertaModel \n",
       "  (1): Pooling({'word_embedding_dimension': 768, 'pooling_mode_cls_token': False, 'pooling_mode_mean_tokens': True, 'pooling_mode_max_tokens': False, 'pooling_mode_mean_sqrt_len_tokens': False, 'pooling_mode_weightedmean_tokens': False, 'pooling_mode_lasttoken': False, 'include_prompt': True})\n",
       ")"
      ]
     },
     "execution_count": 15,
     "metadata": {},
     "output_type": "execute_result"
    }
   ],
   "source": [
    "import torch \n",
    "from sentence_transformers import SentenceTransformer\n",
    "from sentence_transformers.models import Transformer, Pooling \n",
    "\n",
    "student_model_id = 'FacebookAI/xlm-roberta-base'\n",
    "transformer_module = Transformer(student_model_id, model_args=dict(torch_dtype=torch.float32))\n",
    "pooling_module = Pooling(\n",
    "    word_embedding_dimension=transformer_module.get_word_embedding_dimension(),\n",
    "    pooling_mode_cls_token=False,\n",
    "    pooling_mode_mean_tokens=True\n",
    ")\n",
    "student_model = SentenceTransformer(modules=[transformer_module, pooling_module])\n",
    "student_model.to('cuda')\n",
    "student_model"
   ]
  },
  {
   "cell_type": "code",
   "execution_count": 16,
   "metadata": {
    "execution": {
     "iopub.execute_input": "2025-04-12T18:28:22.334424Z",
     "iopub.status.busy": "2025-04-12T18:28:22.334045Z",
     "iopub.status.idle": "2025-04-12T18:28:22.339606Z",
     "shell.execute_reply": "2025-04-12T18:28:22.338802Z",
     "shell.execute_reply.started": "2025-04-12T18:28:22.334381Z"
    }
   },
   "outputs": [
    {
     "data": {
      "text/plain": [
       "torch.float32"
      ]
     },
     "execution_count": 16,
     "metadata": {},
     "output_type": "execute_result"
    }
   ],
   "source": [
    "student_model[0].auto_model.dtype "
   ]
  },
  {
   "cell_type": "code",
   "execution_count": 17,
   "metadata": {
    "execution": {
     "iopub.execute_input": "2025-04-12T18:28:22.340673Z",
     "iopub.status.busy": "2025-04-12T18:28:22.340380Z",
     "iopub.status.idle": "2025-04-12T18:28:22.356164Z",
     "shell.execute_reply": "2025-04-12T18:28:22.355380Z",
     "shell.execute_reply.started": "2025-04-12T18:28:22.340656Z"
    }
   },
   "outputs": [],
   "source": [
    "# assert that transformer config matched for student and teacher model\n",
    "assert student_model[0].get_config_dict() == teacher_model[0].get_config_dict()"
   ]
  },
  {
   "cell_type": "markdown",
   "metadata": {},
   "source": [
    "### Dtaset Preprocessing"
   ]
  },
  {
   "cell_type": "code",
   "execution_count": 18,
   "metadata": {
    "execution": {
     "iopub.execute_input": "2025-04-12T18:28:22.357224Z",
     "iopub.status.busy": "2025-04-12T18:28:22.357008Z",
     "iopub.status.idle": "2025-04-12T18:28:22.369782Z",
     "shell.execute_reply": "2025-04-12T18:28:22.369058Z",
     "shell.execute_reply.started": "2025-04-12T18:28:22.357210Z"
    }
   },
   "outputs": [],
   "source": [
    "def prepare_dataset(batch):\n",
    "    return {\n",
    "        'english': batch['english'],\n",
    "        'non_english': batch['non_english'],\n",
    "        'label': teacher_model.encode(batch['english'], padding=True, truncation=True)\n",
    "   } "
   ]
  },
  {
   "cell_type": "code",
   "execution_count": 19,
   "metadata": {
    "execution": {
     "iopub.execute_input": "2025-04-12T18:28:22.370881Z",
     "iopub.status.busy": "2025-04-12T18:28:22.370630Z",
     "iopub.status.idle": "2025-04-12T18:37:04.730097Z",
     "shell.execute_reply": "2025-04-12T18:37:04.729455Z",
     "shell.execute_reply.started": "2025-04-12T18:28:22.370866Z"
    }
   },
   "outputs": [
    {
     "data": {
      "application/vnd.jupyter.widget-view+json": {
       "model_id": "0b48b38a52ac47ac81b417a4bc1255e6",
       "version_major": 2,
       "version_minor": 0
      },
      "text/plain": [
       "Map:   0%|          | 0/523982 [00:00<?, ? examples/s]"
      ]
     },
     "metadata": {},
     "output_type": "display_data"
    },
    {
     "data": {
      "application/vnd.jupyter.widget-view+json": {
       "model_id": "edec16906ace46f0a4322e54927e78b6",
       "version_major": 2,
       "version_minor": 0
      },
      "text/plain": [
       "Batches:   0%|          | 0/1000 [00:00<?, ?it/s]"
      ]
     },
     "metadata": {},
     "output_type": "display_data"
    },
    {
     "data": {
      "application/vnd.jupyter.widget-view+json": {
       "model_id": "4c7cd614401a4b97aae6bf2b192aa726",
       "version_major": 2,
       "version_minor": 0
      },
      "text/plain": [
       "Batches:   0%|          | 0/1000 [00:00<?, ?it/s]"
      ]
     },
     "metadata": {},
     "output_type": "display_data"
    },
    {
     "data": {
      "application/vnd.jupyter.widget-view+json": {
       "model_id": "de3bd05563d741b985070e009ba1b62b",
       "version_major": 2,
       "version_minor": 0
      },
      "text/plain": [
       "Batches:   0%|          | 0/1000 [00:00<?, ?it/s]"
      ]
     },
     "metadata": {},
     "output_type": "display_data"
    },
    {
     "data": {
      "application/vnd.jupyter.widget-view+json": {
       "model_id": "60bc5435ded94ff2bc4f11367129508c",
       "version_major": 2,
       "version_minor": 0
      },
      "text/plain": [
       "Batches:   0%|          | 0/1000 [00:00<?, ?it/s]"
      ]
     },
     "metadata": {},
     "output_type": "display_data"
    },
    {
     "data": {
      "application/vnd.jupyter.widget-view+json": {
       "model_id": "689160b20732499aab2eca9ebb2aa34c",
       "version_major": 2,
       "version_minor": 0
      },
      "text/plain": [
       "Batches:   0%|          | 0/1000 [00:00<?, ?it/s]"
      ]
     },
     "metadata": {},
     "output_type": "display_data"
    },
    {
     "data": {
      "application/vnd.jupyter.widget-view+json": {
       "model_id": "16e599e5a9884253990ac6e712ba1ee6",
       "version_major": 2,
       "version_minor": 0
      },
      "text/plain": [
       "Batches:   0%|          | 0/1000 [00:00<?, ?it/s]"
      ]
     },
     "metadata": {},
     "output_type": "display_data"
    },
    {
     "data": {
      "application/vnd.jupyter.widget-view+json": {
       "model_id": "b53cd74913254171a3ff53d487d1be6e",
       "version_major": 2,
       "version_minor": 0
      },
      "text/plain": [
       "Batches:   0%|          | 0/1000 [00:00<?, ?it/s]"
      ]
     },
     "metadata": {},
     "output_type": "display_data"
    },
    {
     "data": {
      "application/vnd.jupyter.widget-view+json": {
       "model_id": "b58030bf899a4969a39cbdd669acdb19",
       "version_major": 2,
       "version_minor": 0
      },
      "text/plain": [
       "Batches:   0%|          | 0/1000 [00:00<?, ?it/s]"
      ]
     },
     "metadata": {},
     "output_type": "display_data"
    },
    {
     "data": {
      "application/vnd.jupyter.widget-view+json": {
       "model_id": "42dff071e88540aa85df125e374ceb33",
       "version_major": 2,
       "version_minor": 0
      },
      "text/plain": [
       "Batches:   0%|          | 0/1000 [00:00<?, ?it/s]"
      ]
     },
     "metadata": {},
     "output_type": "display_data"
    },
    {
     "data": {
      "application/vnd.jupyter.widget-view+json": {
       "model_id": "33433df5871645c6b5dd4932a8353d8f",
       "version_major": 2,
       "version_minor": 0
      },
      "text/plain": [
       "Batches:   0%|          | 0/1000 [00:00<?, ?it/s]"
      ]
     },
     "metadata": {},
     "output_type": "display_data"
    },
    {
     "data": {
      "application/vnd.jupyter.widget-view+json": {
       "model_id": "8c98d09b1c4842ed9762deba55c4a724",
       "version_major": 2,
       "version_minor": 0
      },
      "text/plain": [
       "Batches:   0%|          | 0/1000 [00:00<?, ?it/s]"
      ]
     },
     "metadata": {},
     "output_type": "display_data"
    },
    {
     "data": {
      "application/vnd.jupyter.widget-view+json": {
       "model_id": "7cbba0f6990b40c0953aab6b4f644798",
       "version_major": 2,
       "version_minor": 0
      },
      "text/plain": [
       "Batches:   0%|          | 0/1000 [00:00<?, ?it/s]"
      ]
     },
     "metadata": {},
     "output_type": "display_data"
    },
    {
     "data": {
      "application/vnd.jupyter.widget-view+json": {
       "model_id": "4b70c95100b0400abfc37ec5f5e13aa3",
       "version_major": 2,
       "version_minor": 0
      },
      "text/plain": [
       "Batches:   0%|          | 0/1000 [00:00<?, ?it/s]"
      ]
     },
     "metadata": {},
     "output_type": "display_data"
    },
    {
     "data": {
      "application/vnd.jupyter.widget-view+json": {
       "model_id": "ab4e4b5cb649418db15cdd142239023a",
       "version_major": 2,
       "version_minor": 0
      },
      "text/plain": [
       "Batches:   0%|          | 0/1000 [00:00<?, ?it/s]"
      ]
     },
     "metadata": {},
     "output_type": "display_data"
    },
    {
     "data": {
      "application/vnd.jupyter.widget-view+json": {
       "model_id": "721c72e92faf4a9b90066f6d4e6b9b26",
       "version_major": 2,
       "version_minor": 0
      },
      "text/plain": [
       "Batches:   0%|          | 0/1000 [00:00<?, ?it/s]"
      ]
     },
     "metadata": {},
     "output_type": "display_data"
    },
    {
     "data": {
      "application/vnd.jupyter.widget-view+json": {
       "model_id": "4a5f8520a2694384a924773df74b27c4",
       "version_major": 2,
       "version_minor": 0
      },
      "text/plain": [
       "Batches:   0%|          | 0/1000 [00:00<?, ?it/s]"
      ]
     },
     "metadata": {},
     "output_type": "display_data"
    },
    {
     "data": {
      "application/vnd.jupyter.widget-view+json": {
       "model_id": "69c692508ce64d269d7010a95c4936a2",
       "version_major": 2,
       "version_minor": 0
      },
      "text/plain": [
       "Batches:   0%|          | 0/375 [00:00<?, ?it/s]"
      ]
     },
     "metadata": {},
     "output_type": "display_data"
    }
   ],
   "source": [
    "train_dataset_labeled = mega_train.map(prepare_dataset, batched=True, batch_size=32000)"
   ]
  },
  {
   "cell_type": "code",
   "execution_count": 20,
   "metadata": {
    "execution": {
     "iopub.execute_input": "2025-04-12T18:37:04.733232Z",
     "iopub.status.busy": "2025-04-12T18:37:04.733027Z",
     "iopub.status.idle": "2025-04-12T18:37:04.738066Z",
     "shell.execute_reply": "2025-04-12T18:37:04.737566Z",
     "shell.execute_reply.started": "2025-04-12T18:37:04.733216Z"
    }
   },
   "outputs": [
    {
     "data": {
      "text/plain": [
       "Dataset({\n",
       "    features: ['english', 'non_english', 'label'],\n",
       "    num_rows: 523982\n",
       "})"
      ]
     },
     "execution_count": 20,
     "metadata": {},
     "output_type": "execute_result"
    }
   ],
   "source": [
    "train_dataset_labeled"
   ]
  },
  {
   "cell_type": "code",
   "execution_count": 21,
   "metadata": {
    "execution": {
     "iopub.execute_input": "2025-04-12T18:37:04.738940Z",
     "iopub.status.busy": "2025-04-12T18:37:04.738722Z",
     "iopub.status.idle": "2025-04-12T18:37:20.097316Z",
     "shell.execute_reply": "2025-04-12T18:37:20.096621Z",
     "shell.execute_reply.started": "2025-04-12T18:37:04.738925Z"
    }
   },
   "outputs": [
    {
     "data": {
      "application/vnd.jupyter.widget-view+json": {
       "model_id": "d95f65da93ca499791644c839963346e",
       "version_major": 2,
       "version_minor": 0
      },
      "text/plain": [
       "Map:   0%|          | 0/3838 [00:00<?, ? examples/s]"
      ]
     },
     "metadata": {},
     "output_type": "display_data"
    },
    {
     "data": {
      "application/vnd.jupyter.widget-view+json": {
       "model_id": "5e2dc895d1d443f69f998dfa07e2a586",
       "version_major": 2,
       "version_minor": 0
      },
      "text/plain": [
       "Batches:   0%|          | 0/120 [00:00<?, ?it/s]"
      ]
     },
     "metadata": {},
     "output_type": "display_data"
    }
   ],
   "source": [
    "eval_dataset = mega_eval.map(prepare_dataset, batched=True, batch_size=None)"
   ]
  },
  {
   "cell_type": "code",
   "execution_count": 22,
   "metadata": {
    "execution": {
     "iopub.execute_input": "2025-04-12T18:37:20.099445Z",
     "iopub.status.busy": "2025-04-12T18:37:20.099205Z",
     "iopub.status.idle": "2025-04-12T18:37:20.104941Z",
     "shell.execute_reply": "2025-04-12T18:37:20.104186Z",
     "shell.execute_reply.started": "2025-04-12T18:37:20.099399Z"
    }
   },
   "outputs": [
    {
     "data": {
      "text/plain": [
       "Dataset({\n",
       "    features: ['english', 'non_english', 'label'],\n",
       "    num_rows: 3838\n",
       "})"
      ]
     },
     "execution_count": 22,
     "metadata": {},
     "output_type": "execute_result"
    }
   ],
   "source": [
    "eval_dataset"
   ]
  },
  {
   "cell_type": "markdown",
   "metadata": {},
   "source": [
    "### Defining loss function and evaluators"
   ]
  },
  {
   "cell_type": "code",
   "execution_count": 23,
   "metadata": {
    "execution": {
     "iopub.execute_input": "2025-04-12T18:37:20.105804Z",
     "iopub.status.busy": "2025-04-12T18:37:20.105632Z",
     "iopub.status.idle": "2025-04-12T18:37:20.133323Z",
     "shell.execute_reply": "2025-04-12T18:37:20.132630Z",
     "shell.execute_reply.started": "2025-04-12T18:37:20.105791Z"
    }
   },
   "outputs": [],
   "source": [
    "import torch\n",
    "from sentence_transformers.losses import MSELoss\n",
    "\n",
    "# Computes loss between computed sentence embeddings by student ('english' and 'non_english') and target computed by teacher ('label') \n",
    "mse_loss = MSELoss(model=student_model)"
   ]
  },
  {
   "cell_type": "code",
   "execution_count": 24,
   "metadata": {
    "execution": {
     "iopub.execute_input": "2025-04-12T18:37:20.134457Z",
     "iopub.status.busy": "2025-04-12T18:37:20.134203Z",
     "iopub.status.idle": "2025-04-12T18:37:28.071758Z",
     "shell.execute_reply": "2025-04-12T18:37:28.071232Z",
     "shell.execute_reply.started": "2025-04-12T18:37:20.134438Z"
    }
   },
   "outputs": [
    {
     "data": {
      "application/vnd.jupyter.widget-view+json": {
       "model_id": "a03eecc0316c430f883e54ca564809b6",
       "version_major": 2,
       "version_minor": 0
      },
      "text/plain": [
       "README.md:   0%|          | 0.00/1.06k [00:00<?, ?B/s]"
      ]
     },
     "metadata": {},
     "output_type": "display_data"
    },
    {
     "data": {
      "application/vnd.jupyter.widget-view+json": {
       "model_id": "fcb2f40330a94e68ac3a136ca57afaa3",
       "version_major": 2,
       "version_minor": 0
      },
      "text/plain": [
       "en-en.jsonl.gz:   0%|          | 0.00/8.86k [00:00<?, ?B/s]"
      ]
     },
     "metadata": {},
     "output_type": "display_data"
    },
    {
     "data": {
      "application/vnd.jupyter.widget-view+json": {
       "model_id": "2c35298330084f6da491078d3b8488dd",
       "version_major": 2,
       "version_minor": 0
      },
      "text/plain": [
       "Generating test split:   0%|          | 0/250 [00:00<?, ? examples/s]"
      ]
     },
     "metadata": {},
     "output_type": "display_data"
    },
    {
     "data": {
      "application/vnd.jupyter.widget-view+json": {
       "model_id": "4d68829d3d7842ad920fb179aeef36f2",
       "version_major": 2,
       "version_minor": 0
      },
      "text/plain": [
       "Generating train split: 0 examples [00:00, ? examples/s]"
      ]
     },
     "metadata": {},
     "output_type": "display_data"
    },
    {
     "data": {
      "application/vnd.jupyter.widget-view+json": {
       "model_id": "8398ab4fca5b443f9f66bba4bcb8a40a",
       "version_major": 2,
       "version_minor": 0
      },
      "text/plain": [
       "Generating train split: 0 examples [00:00, ? examples/s]"
      ]
     },
     "metadata": {},
     "output_type": "display_data"
    }
   ],
   "source": [
    "from sentence_transformers.evaluation import MSEEvaluator, EmbeddingSimilarityEvaluator, SequentialEvaluator \n",
    "\n",
    "\n",
    "# From documentation: The MSE is computed between ||teacher.encode(source_sentences) - student.encode(target_sentences)||.\n",
    "mse_eval = MSEEvaluator(\n",
    "    source_sentences=eval_dataset['english'],\n",
    "    target_sentences=eval_dataset['non_english'],\n",
    "    name='mse-en-ua',\n",
    "    teacher_model=teacher_model,\n",
    "    batch_size=16\n",
    ")\n",
    "\n",
    "# STS Benchmark (Semantic Textual Similarity Benchmark)\n",
    "en_en_dataset = load_dataset('mteb/sts17-crosslingual-sts', 'en-en', split='test')\n",
    "en_ua_dataset = load_dataset('csv', data_files='/kaggle/input/sts-17-ua/sts17-en-ua-gpt-4o.csv', split='train') # when loading from csv by default train split is assigned\n",
    "ua_ua_dataset = load_dataset('csv', data_files='/kaggle/input/sts-17-ua/sts17-ua-ua-gpt-4o.csv', split='train')  # when loading from csv by default train split is assigned\n",
    "\n",
    "# From documentation: Evaluate a model based on the similarity of the embeddings by calculating the Spearman and Pearson rank correlation in comparison to the gold standard labels. \n",
    "en_en_eval = EmbeddingSimilarityEvaluator(\n",
    "    sentences1=en_en_dataset['sentence1'],\n",
    "    sentences2=en_en_dataset['sentence2'],\n",
    "    scores=[score / 5.0 for score in en_en_dataset['score']],  # normalizing to score from to 1\n",
    "    show_progress_bar=False,\n",
    "    name='sts17-en-en',\n",
    "    batch_size=16\n",
    ")\n",
    "\n",
    "en_ua_eval = EmbeddingSimilarityEvaluator(\n",
    "    sentences1=en_ua_dataset['sentence1'],\n",
    "    sentences2=en_ua_dataset['sentence2'],\n",
    "    scores=[score / 5.0 for score in en_ua_dataset['score']],\n",
    "    show_progress_bar=False,\n",
    "    name='sts17-en-ua',\n",
    "    batch_size=16\n",
    ")\n",
    "\n",
    "ua_ua_eval = EmbeddingSimilarityEvaluator(\n",
    "    sentences1=ua_ua_dataset['sentence1'],\n",
    "    sentences2=ua_ua_dataset['sentence2'],\n",
    "    scores=[score / 5.0 for score in ua_ua_dataset['score']],\n",
    "    show_progress_bar=False,\n",
    "    name='sts17-ua-ua',\n",
    "    batch_size=16\n",
    ")\n",
    "\n",
    "# Composing evaluators in one chain! \n",
    "evaluator = SequentialEvaluator([mse_eval, en_en_eval, en_ua_eval, ua_ua_eval]) "
   ]
  },
  {
   "cell_type": "code",
   "execution_count": 25,
   "metadata": {
    "execution": {
     "iopub.execute_input": "2025-04-12T18:37:28.072611Z",
     "iopub.status.busy": "2025-04-12T18:37:28.072355Z",
     "iopub.status.idle": "2025-04-12T18:37:28.103356Z",
     "shell.execute_reply": "2025-04-12T18:37:28.102856Z",
     "shell.execute_reply.started": "2025-04-12T18:37:28.072594Z"
    }
   },
   "outputs": [],
   "source": [
    "from sentence_transformers import SentenceTransformerTrainingArguments\n",
    "\n",
    "train_args = SentenceTransformerTrainingArguments(\n",
    "    output_dir='./xlm-roberta-ua-distilled',\n",
    "    fp16=False,\n",
    "    num_train_epochs=8,\n",
    "    learning_rate=5e-5,\n",
    "    per_device_train_batch_size=16,\n",
    "    per_device_eval_batch_size=16,\n",
    "    gradient_accumulation_steps=3,  # simulate batch of accum_steps * per_device_train_batch_size = 3 * 16 = 48\n",
    "    warmup_ratio=0.1,\n",
    "    \n",
    "    eval_steps=1024, \n",
    "    eval_strategy='steps',\n",
    "    \n",
    "    save_steps=1024, \n",
    "    save_strategy='steps',\n",
    "    save_total_limit=2,\n",
    "    \n",
    "    logging_steps=1024\n",
    ")"
   ]
  },
  {
   "cell_type": "markdown",
   "metadata": {},
   "source": [
    "### Training!"
   ]
  },
  {
   "cell_type": "code",
   "execution_count": 26,
   "metadata": {
    "execution": {
     "iopub.execute_input": "2025-04-12T18:37:28.104190Z",
     "iopub.status.busy": "2025-04-12T18:37:28.103992Z",
     "iopub.status.idle": "2025-04-12T18:37:30.990953Z",
     "shell.execute_reply": "2025-04-12T18:37:30.990310Z",
     "shell.execute_reply.started": "2025-04-12T18:37:28.104174Z"
    }
   },
   "outputs": [
    {
     "data": {
      "application/vnd.jupyter.widget-view+json": {
       "model_id": "",
       "version_major": 2,
       "version_minor": 0
      },
      "text/plain": [
       "Computing widget examples:   0%|          | 0/1 [00:00<?, ?example/s]"
      ]
     },
     "metadata": {},
     "output_type": "display_data"
    }
   ],
   "source": [
    "from sentence_transformers import SentenceTransformerTrainer\n",
    "\n",
    "trainer = SentenceTransformerTrainer(\n",
    "    model=student_model,\n",
    "    args=train_args,\n",
    "    train_dataset=train_dataset_labeled,\n",
    "    eval_dataset=eval_dataset,\n",
    "    loss=mse_loss,\n",
    "    evaluator=evaluator \n",
    ")"
   ]
  },
  {
   "cell_type": "code",
   "execution_count": null,
   "metadata": {
    "execution": {
     "execution_failed": "2025-04-13T01:41:41.911Z",
     "iopub.execute_input": "2025-04-12T18:37:30.992019Z",
     "iopub.status.busy": "2025-04-12T18:37:30.991743Z"
    }
   },
   "outputs": [
    {
     "data": {
      "text/html": [
       "\n",
       "    <div>\n",
       "      \n",
       "      <progress value='33793' max='87328' style='width:300px; height:20px; vertical-align: middle;'></progress>\n",
       "      [33793/87328 6:22:12 < 10:05:31, 1.47 it/s, Epoch 3.10/8]\n",
       "    </div>\n",
       "    <table border=\"1\" class=\"dataframe\">\n",
       "  <thead>\n",
       " <tr style=\"text-align: left;\">\n",
       "      <th>Step</th>\n",
       "      <th>Training Loss</th>\n",
       "      <th>Validation Loss</th>\n",
       "      <th>Mse-en-ua Negative Mse</th>\n",
       "      <th>Sts17-en-en Pearson Cosine</th>\n",
       "      <th>Sts17-en-en Spearman Cosine</th>\n",
       "      <th>Sts17-en-ua Pearson Cosine</th>\n",
       "      <th>Sts17-en-ua Spearman Cosine</th>\n",
       "      <th>Sts17-ua-ua Pearson Cosine</th>\n",
       "      <th>Sts17-ua-ua Spearman Cosine</th>\n",
       "      <th>Sequential Score</th>\n",
       "    </tr>\n",
       "  </thead>\n",
       "  <tbody>\n",
       "    <tr>\n",
       "      <td>1024</td>\n",
       "      <td>0.411800</td>\n",
       "      <td>0.034051</td>\n",
       "      <td>-3.385474</td>\n",
       "      <td>0.176749</td>\n",
       "      <td>0.195639</td>\n",
       "      <td>0.005014</td>\n",
       "      <td>0.025203</td>\n",
       "      <td>0.105420</td>\n",
       "      <td>0.159856</td>\n",
       "      <td>0.159856</td>\n",
       "    </tr>\n",
       "    <tr>\n",
       "      <td>2048</td>\n",
       "      <td>0.119900</td>\n",
       "      <td>0.084875</td>\n",
       "      <td>-8.781262</td>\n",
       "      <td>0.095518</td>\n",
       "      <td>0.137660</td>\n",
       "      <td>0.009445</td>\n",
       "      <td>0.025135</td>\n",
       "      <td>0.026399</td>\n",
       "      <td>0.086940</td>\n",
       "      <td>0.086940</td>\n",
       "    </tr>\n",
       "    <tr>\n",
       "      <td>3072</td>\n",
       "      <td>0.124100</td>\n",
       "      <td>0.029196</td>\n",
       "      <td>-2.891679</td>\n",
       "      <td>0.076569</td>\n",
       "      <td>0.207738</td>\n",
       "      <td>-0.066112</td>\n",
       "      <td>-0.051273</td>\n",
       "      <td>0.113801</td>\n",
       "      <td>0.171884</td>\n",
       "      <td>0.171884</td>\n",
       "    </tr>\n",
       "    <tr>\n",
       "      <td>4096</td>\n",
       "      <td>0.113300</td>\n",
       "      <td>0.093343</td>\n",
       "      <td>-6.119310</td>\n",
       "      <td>0.094894</td>\n",
       "      <td>0.187945</td>\n",
       "      <td>0.083483</td>\n",
       "      <td>0.067947</td>\n",
       "      <td>-0.013301</td>\n",
       "      <td>0.060249</td>\n",
       "      <td>0.060249</td>\n",
       "    </tr>\n",
       "    <tr>\n",
       "      <td>5120</td>\n",
       "      <td>0.093000</td>\n",
       "      <td>0.025717</td>\n",
       "      <td>-2.570476</td>\n",
       "      <td>0.239886</td>\n",
       "      <td>0.282960</td>\n",
       "      <td>0.088428</td>\n",
       "      <td>0.069901</td>\n",
       "      <td>0.275863</td>\n",
       "      <td>0.306927</td>\n",
       "      <td>0.306927</td>\n",
       "    </tr>\n",
       "    <tr>\n",
       "      <td>6144</td>\n",
       "      <td>0.081500</td>\n",
       "      <td>0.023630</td>\n",
       "      <td>-2.390093</td>\n",
       "      <td>0.218568</td>\n",
       "      <td>0.329599</td>\n",
       "      <td>0.141268</td>\n",
       "      <td>0.159109</td>\n",
       "      <td>0.287599</td>\n",
       "      <td>0.370956</td>\n",
       "      <td>0.370956</td>\n",
       "    </tr>\n",
       "    <tr>\n",
       "      <td>7168</td>\n",
       "      <td>0.072900</td>\n",
       "      <td>0.020785</td>\n",
       "      <td>-2.145572</td>\n",
       "      <td>0.398476</td>\n",
       "      <td>0.488025</td>\n",
       "      <td>0.336054</td>\n",
       "      <td>0.370188</td>\n",
       "      <td>0.455517</td>\n",
       "      <td>0.510090</td>\n",
       "      <td>0.510090</td>\n",
       "    </tr>\n",
       "    <tr>\n",
       "      <td>8192</td>\n",
       "      <td>0.064200</td>\n",
       "      <td>0.018971</td>\n",
       "      <td>-2.024452</td>\n",
       "      <td>0.503217</td>\n",
       "      <td>0.547742</td>\n",
       "      <td>0.254507</td>\n",
       "      <td>0.270583</td>\n",
       "      <td>0.433877</td>\n",
       "      <td>0.459139</td>\n",
       "      <td>0.459139</td>\n",
       "    </tr>\n",
       "    <tr>\n",
       "      <td>9216</td>\n",
       "      <td>0.057600</td>\n",
       "      <td>0.016216</td>\n",
       "      <td>-1.734079</td>\n",
       "      <td>0.549493</td>\n",
       "      <td>0.595325</td>\n",
       "      <td>0.473619</td>\n",
       "      <td>0.472508</td>\n",
       "      <td>0.541896</td>\n",
       "      <td>0.562374</td>\n",
       "      <td>0.562374</td>\n",
       "    </tr>\n",
       "    <tr>\n",
       "      <td>10240</td>\n",
       "      <td>0.052200</td>\n",
       "      <td>0.015101</td>\n",
       "      <td>-1.643152</td>\n",
       "      <td>0.573260</td>\n",
       "      <td>0.628576</td>\n",
       "      <td>0.484024</td>\n",
       "      <td>0.488755</td>\n",
       "      <td>0.548163</td>\n",
       "      <td>0.568890</td>\n",
       "      <td>0.568890</td>\n",
       "    </tr>\n",
       "    <tr>\n",
       "      <td>11264</td>\n",
       "      <td>0.048000</td>\n",
       "      <td>0.014082</td>\n",
       "      <td>-1.551257</td>\n",
       "      <td>0.577326</td>\n",
       "      <td>0.646126</td>\n",
       "      <td>0.496335</td>\n",
       "      <td>0.511112</td>\n",
       "      <td>0.558298</td>\n",
       "      <td>0.587262</td>\n",
       "      <td>0.587262</td>\n",
       "    </tr>\n",
       "    <tr>\n",
       "      <td>12288</td>\n",
       "      <td>0.045400</td>\n",
       "      <td>0.013382</td>\n",
       "      <td>-1.485805</td>\n",
       "      <td>0.604481</td>\n",
       "      <td>0.642916</td>\n",
       "      <td>0.522702</td>\n",
       "      <td>0.533812</td>\n",
       "      <td>0.578725</td>\n",
       "      <td>0.604475</td>\n",
       "      <td>0.604475</td>\n",
       "    </tr>\n",
       "    <tr>\n",
       "      <td>13312</td>\n",
       "      <td>0.043200</td>\n",
       "      <td>0.012910</td>\n",
       "      <td>-1.440702</td>\n",
       "      <td>0.593565</td>\n",
       "      <td>0.645340</td>\n",
       "      <td>0.500351</td>\n",
       "      <td>0.514655</td>\n",
       "      <td>0.576444</td>\n",
       "      <td>0.607820</td>\n",
       "      <td>0.607820</td>\n",
       "    </tr>\n",
       "    <tr>\n",
       "      <td>14336</td>\n",
       "      <td>0.041700</td>\n",
       "      <td>0.012365</td>\n",
       "      <td>-1.395337</td>\n",
       "      <td>0.617397</td>\n",
       "      <td>0.668775</td>\n",
       "      <td>0.532425</td>\n",
       "      <td>0.545416</td>\n",
       "      <td>0.579612</td>\n",
       "      <td>0.613395</td>\n",
       "      <td>0.613395</td>\n",
       "    </tr>\n",
       "    <tr>\n",
       "      <td>15360</td>\n",
       "      <td>0.040200</td>\n",
       "      <td>0.012313</td>\n",
       "      <td>-1.387450</td>\n",
       "      <td>0.639959</td>\n",
       "      <td>0.682413</td>\n",
       "      <td>0.549495</td>\n",
       "      <td>0.573332</td>\n",
       "      <td>0.595231</td>\n",
       "      <td>0.628592</td>\n",
       "      <td>0.628592</td>\n",
       "    </tr>\n",
       "    <tr>\n",
       "      <td>16384</td>\n",
       "      <td>0.039100</td>\n",
       "      <td>0.011769</td>\n",
       "      <td>-1.342548</td>\n",
       "      <td>0.627590</td>\n",
       "      <td>0.674636</td>\n",
       "      <td>0.544881</td>\n",
       "      <td>0.565220</td>\n",
       "      <td>0.593528</td>\n",
       "      <td>0.624617</td>\n",
       "      <td>0.624617</td>\n",
       "    </tr>\n",
       "    <tr>\n",
       "      <td>17408</td>\n",
       "      <td>0.038000</td>\n",
       "      <td>0.011489</td>\n",
       "      <td>-1.315939</td>\n",
       "      <td>0.646121</td>\n",
       "      <td>0.692538</td>\n",
       "      <td>0.554994</td>\n",
       "      <td>0.578538</td>\n",
       "      <td>0.604943</td>\n",
       "      <td>0.635121</td>\n",
       "      <td>0.635121</td>\n",
       "    </tr>\n",
       "    <tr>\n",
       "      <td>18432</td>\n",
       "      <td>0.037300</td>\n",
       "      <td>0.011181</td>\n",
       "      <td>-1.288396</td>\n",
       "      <td>0.618692</td>\n",
       "      <td>0.668553</td>\n",
       "      <td>0.529043</td>\n",
       "      <td>0.547270</td>\n",
       "      <td>0.581769</td>\n",
       "      <td>0.613851</td>\n",
       "      <td>0.613851</td>\n",
       "    </tr>\n",
       "    <tr>\n",
       "      <td>19456</td>\n",
       "      <td>0.036400</td>\n",
       "      <td>0.010955</td>\n",
       "      <td>-1.266422</td>\n",
       "      <td>0.652074</td>\n",
       "      <td>0.698877</td>\n",
       "      <td>0.561698</td>\n",
       "      <td>0.574281</td>\n",
       "      <td>0.612355</td>\n",
       "      <td>0.644364</td>\n",
       "      <td>0.644364</td>\n",
       "    </tr>\n",
       "    <tr>\n",
       "      <td>20480</td>\n",
       "      <td>0.035800</td>\n",
       "      <td>0.010785</td>\n",
       "      <td>-1.252699</td>\n",
       "      <td>0.642127</td>\n",
       "      <td>0.692919</td>\n",
       "      <td>0.556219</td>\n",
       "      <td>0.575473</td>\n",
       "      <td>0.598410</td>\n",
       "      <td>0.629810</td>\n",
       "      <td>0.629810</td>\n",
       "    </tr>\n",
       "    <tr>\n",
       "      <td>21504</td>\n",
       "      <td>0.034900</td>\n",
       "      <td>0.010631</td>\n",
       "      <td>-1.240376</td>\n",
       "      <td>0.659065</td>\n",
       "      <td>0.699482</td>\n",
       "      <td>0.569917</td>\n",
       "      <td>0.592235</td>\n",
       "      <td>0.601240</td>\n",
       "      <td>0.635238</td>\n",
       "      <td>0.635238</td>\n",
       "    </tr>\n",
       "    <tr>\n",
       "      <td>22528</td>\n",
       "      <td>0.033900</td>\n",
       "      <td>0.010507</td>\n",
       "      <td>-1.230446</td>\n",
       "      <td>0.661504</td>\n",
       "      <td>0.705582</td>\n",
       "      <td>0.568648</td>\n",
       "      <td>0.593808</td>\n",
       "      <td>0.595170</td>\n",
       "      <td>0.634007</td>\n",
       "      <td>0.634007</td>\n",
       "    </tr>\n",
       "    <tr>\n",
       "      <td>23552</td>\n",
       "      <td>0.033200</td>\n",
       "      <td>0.010349</td>\n",
       "      <td>-1.214901</td>\n",
       "      <td>0.649686</td>\n",
       "      <td>0.694118</td>\n",
       "      <td>0.552083</td>\n",
       "      <td>0.573981</td>\n",
       "      <td>0.585107</td>\n",
       "      <td>0.620690</td>\n",
       "      <td>0.620690</td>\n",
       "    </tr>\n",
       "    <tr>\n",
       "      <td>24576</td>\n",
       "      <td>0.032700</td>\n",
       "      <td>0.010263</td>\n",
       "      <td>-1.209090</td>\n",
       "      <td>0.660980</td>\n",
       "      <td>0.706796</td>\n",
       "      <td>0.565362</td>\n",
       "      <td>0.585897</td>\n",
       "      <td>0.601443</td>\n",
       "      <td>0.637779</td>\n",
       "      <td>0.637779</td>\n",
       "    </tr>\n",
       "    <tr>\n",
       "      <td>25600</td>\n",
       "      <td>0.032400</td>\n",
       "      <td>0.010023</td>\n",
       "      <td>-1.184321</td>\n",
       "      <td>0.656822</td>\n",
       "      <td>0.707942</td>\n",
       "      <td>0.570337</td>\n",
       "      <td>0.595843</td>\n",
       "      <td>0.611483</td>\n",
       "      <td>0.648033</td>\n",
       "      <td>0.648033</td>\n",
       "    </tr>\n",
       "    <tr>\n",
       "      <td>26624</td>\n",
       "      <td>0.032000</td>\n",
       "      <td>0.010002</td>\n",
       "      <td>-1.183284</td>\n",
       "      <td>0.664151</td>\n",
       "      <td>0.709691</td>\n",
       "      <td>0.563938</td>\n",
       "      <td>0.590156</td>\n",
       "      <td>0.600920</td>\n",
       "      <td>0.640326</td>\n",
       "      <td>0.640326</td>\n",
       "    </tr>\n",
       "    <tr>\n",
       "      <td>27648</td>\n",
       "      <td>0.031700</td>\n",
       "      <td>0.009879</td>\n",
       "      <td>-1.173699</td>\n",
       "      <td>0.656965</td>\n",
       "      <td>0.696859</td>\n",
       "      <td>0.565099</td>\n",
       "      <td>0.588150</td>\n",
       "      <td>0.614365</td>\n",
       "      <td>0.648810</td>\n",
       "      <td>0.648810</td>\n",
       "    </tr>\n",
       "    <tr>\n",
       "      <td>28672</td>\n",
       "      <td>0.031300</td>\n",
       "      <td>0.009734</td>\n",
       "      <td>-1.159605</td>\n",
       "      <td>0.672722</td>\n",
       "      <td>0.721560</td>\n",
       "      <td>0.587169</td>\n",
       "      <td>0.610529</td>\n",
       "      <td>0.617461</td>\n",
       "      <td>0.656039</td>\n",
       "      <td>0.656039</td>\n",
       "    </tr>\n",
       "    <tr>\n",
       "      <td>29696</td>\n",
       "      <td>0.031100</td>\n",
       "      <td>0.009687</td>\n",
       "      <td>-1.154953</td>\n",
       "      <td>0.682465</td>\n",
       "      <td>0.730021</td>\n",
       "      <td>0.596257</td>\n",
       "      <td>0.625753</td>\n",
       "      <td>0.627369</td>\n",
       "      <td>0.663345</td>\n",
       "      <td>0.663345</td>\n",
       "    </tr>\n",
       "    <tr>\n",
       "      <td>30720</td>\n",
       "      <td>0.030800</td>\n",
       "      <td>0.009576</td>\n",
       "      <td>-1.145629</td>\n",
       "      <td>0.670984</td>\n",
       "      <td>0.714276</td>\n",
       "      <td>0.594009</td>\n",
       "      <td>0.616416</td>\n",
       "      <td>0.625340</td>\n",
       "      <td>0.652731</td>\n",
       "      <td>0.652731</td>\n",
       "    </tr>\n",
       "    <tr>\n",
       "      <td>31744</td>\n",
       "      <td>0.030500</td>\n",
       "      <td>0.009519</td>\n",
       "      <td>-1.139758</td>\n",
       "      <td>0.676276</td>\n",
       "      <td>0.717739</td>\n",
       "      <td>0.593605</td>\n",
       "      <td>0.614145</td>\n",
       "      <td>0.622141</td>\n",
       "      <td>0.656552</td>\n",
       "      <td>0.656552</td>\n",
       "    </tr>\n",
       "    <tr>\n",
       "      <td>32768</td>\n",
       "      <td>0.030300</td>\n",
       "      <td>0.009440</td>\n",
       "      <td>-1.132571</td>\n",
       "      <td>0.684363</td>\n",
       "      <td>0.733535</td>\n",
       "      <td>0.605495</td>\n",
       "      <td>0.636506</td>\n",
       "      <td>0.624155</td>\n",
       "      <td>0.660091</td>\n",
       "      <td>0.660091</td>\n",
       "    </tr>\n",
       "  </tbody>\n",
       "</table><p>\n",
       "    <div>\n",
       "      \n",
       "      <progress value='240' max='240' style='width:300px; height:20px; vertical-align: middle;'></progress>\n",
       "      [240/240 00:13]\n",
       "    </div>\n",
       "    "
      ],
      "text/plain": [
       "<IPython.core.display.HTML object>"
      ]
     },
     "metadata": {},
     "output_type": "display_data"
    }
   ],
   "source": [
    "import logging\n",
    "logging.basicConfig(level=logging.DEBUG)\n",
    "\n",
    "trainer.train()"
   ]
  },
  {
   "cell_type": "code",
   "execution_count": null,
   "metadata": {
    "execution": {
     "execution_failed": "2025-04-13T01:41:41.912Z"
    }
   },
   "outputs": [],
   "source": [
    "trainer.evaluate()"
   ]
  },
  {
   "cell_type": "markdown",
   "metadata": {},
   "source": [
    "### Saving"
   ]
  },
  {
   "cell_type": "code",
   "execution_count": null,
   "metadata": {
    "execution": {
     "execution_failed": "2025-04-13T01:41:41.913Z"
    }
   },
   "outputs": [],
   "source": [
    "student_model.save('./xlm-roberta-ua-distilled/final')"
   ]
  },
  {
   "cell_type": "code",
   "execution_count": null,
   "metadata": {
    "execution": {
     "execution_failed": "2025-04-13T01:41:41.913Z"
    }
   },
   "outputs": [],
   "source": [
    "import os \n",
    "\n",
    "os.environ['HF_TOKEN'] = '' if os.environ.get('HF_TOKEN') is None else os.environ.get('HF_TOKEN')\n",
    "student_model.push_to_hub('xlm-roberta-ua-distilled')"
   ]
  }
 ],
 "metadata": {
  "kaggle": {
   "accelerator": "gpu",
   "dataSources": [
    {
     "datasetId": 7107498,
     "sourceId": 11356899,
     "sourceType": "datasetVersion"
    }
   ],
   "dockerImageVersionId": 31011,
   "isGpuEnabled": true,
   "isInternetEnabled": true,
   "language": "python",
   "sourceType": "notebook"
  },
  "kernelspec": {
   "display_name": "Python 3 (ipykernel)",
   "language": "python",
   "name": "python3"
  },
  "language_info": {
   "codemirror_mode": {
    "name": "ipython",
    "version": 3
   },
   "file_extension": ".py",
   "mimetype": "text/x-python",
   "name": "python",
   "nbconvert_exporter": "python",
   "pygments_lexer": "ipython3",
   "version": "3.12.7"
  }
 },
 "nbformat": 4,
 "nbformat_minor": 4
}
