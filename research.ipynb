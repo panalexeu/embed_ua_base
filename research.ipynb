{
 "cells": [
  {
   "cell_type": "code",
   "execution_count": 1,
   "id": "527b35f8-2758-4a09-83df-a09d95c9c4f1",
   "metadata": {},
   "outputs": [],
   "source": [
    "!uv pip install -qU sentence-transformers\n",
    "!uv pip install -q transformers\n",
    "!uv pip install -q datasets \n",
    "!uv pip install -q ipywidgets\n",
    "!uv pip install -q pandas "
   ]
  },
  {
   "cell_type": "markdown",
   "id": "869c691e-e582-4caf-9bf4-66c32eb40783",
   "metadata": {},
   "source": [
    "### Research\n",
    "\n",
    "In the provided notebook, research will be conducted on the performance and methods for fine-tuning a local, open-source embedding model to achieve better performance in the Ukrainian language."
   ]
  },
  {
   "cell_type": "markdown",
   "id": "a65adf5a-76bd-4af7-8719-7c7fe0dcfaef",
   "metadata": {},
   "source": [
    "### Multilingual Distillation\n",
    "\n",
    "We will start by researching the approach proposed in the following [research paper](https://arxiv.org/pdf/2004.09813). "
   ]
  },
  {
   "cell_type": "markdown",
   "id": "3ae8be51-f893-4ad7-90c1-281d6b27ff4a",
   "metadata": {},
   "source": [
    "#### Teacher and student models"
   ]
  },
  {
   "cell_type": "code",
   "execution_count": 2,
   "id": "f8bf7c72-dc35-496a-97f2-bb8125085471",
   "metadata": {},
   "outputs": [
    {
     "data": {
      "text/plain": [
       "SentenceTransformer(\n",
       "  (0): Transformer({'max_seq_length': 512, 'do_lower_case': False}) with Transformer model: MPNetModel \n",
       "  (1): Pooling({'word_embedding_dimension': 768, 'pooling_mode_cls_token': True, 'pooling_mode_mean_tokens': False, 'pooling_mode_max_tokens': False, 'pooling_mode_mean_sqrt_len_tokens': False, 'pooling_mode_weightedmean_tokens': False, 'pooling_mode_lasttoken': False, 'include_prompt': True})\n",
       ")"
      ]
     },
     "execution_count": 2,
     "metadata": {},
     "output_type": "execute_result"
    }
   ],
   "source": [
    "from sentence_transformers import SentenceTransformer\n",
    "\n",
    "teacher_model_id = 'sentence-transformers/multi-qa-mpnet-base-dot-v1'\n",
    "teacher_model = SentenceTransformer(teacher_model_id)\n",
    "teacher_model.to('cuda')\n",
    "teacher_model "
   ]
  },
  {
   "cell_type": "code",
   "execution_count": 6,
   "id": "179a6de1-c4c2-4f1f-acfe-f7e2d0ec3241",
   "metadata": {},
   "outputs": [
    {
     "data": {
      "text/plain": [
       "SentenceTransformer(\n",
       "  (0): Transformer({'max_seq_length': 512, 'do_lower_case': False}) with Transformer model: XLMRobertaModel \n",
       "  (1): Pooling({'word_embedding_dimension': 768, 'pooling_mode_cls_token': True, 'pooling_mode_mean_tokens': False, 'pooling_mode_max_tokens': False, 'pooling_mode_mean_sqrt_len_tokens': False, 'pooling_mode_weightedmean_tokens': False, 'pooling_mode_lasttoken': False, 'include_prompt': True})\n",
       ")"
      ]
     },
     "execution_count": 6,
     "metadata": {},
     "output_type": "execute_result"
    }
   ],
   "source": [
    "from sentence_transformers import SentenceTransformer\n",
    "from sentence_transformers.models import Transformer, Pooling \n",
    "\n",
    "student_model_id = 'FacebookAI/xlm-roberta-base'\n",
    "transformer_module = Transformer(student_model_id)\n",
    "pooling_module = Pooling(\n",
    "    word_embedding_dimension=transformer_module.get_word_embedding_dimension(),\n",
    "    pooling_mode_cls_token=True,\n",
    "    pooling_mode_mean_tokens=False\n",
    ")\n",
    "student_model = SentenceTransformer(modules=[transformer_module, pooling_module])\n",
    "student_model.to('cuda')\n",
    "student_model"
   ]
  },
  {
   "cell_type": "code",
   "execution_count": 9,
   "id": "699032b0-2edb-440d-be13-948d16bb7db6",
   "metadata": {},
   "outputs": [],
   "source": [
    "# assert that transformer config matched for student and teacher model\n",
    "assert student_model[0].get_config_dict() == teacher_model[0].get_config_dict()"
   ]
  },
  {
   "cell_type": "code",
   "execution_count": 10,
   "id": "2c5abf0b-d0cd-4e4a-9555-76633d527396",
   "metadata": {},
   "outputs": [],
   "source": [
    "# assert that pooling config matches for student and teacher model\n",
    "assert student_model[1].get_config_dict() == teacher_model[1].get_config_dict()"
   ]
  },
  {
   "cell_type": "markdown",
   "id": "9ba06ab5-c15f-486f-a15c-ad43484c894e",
   "metadata": {},
   "source": [
    "#### Dataset"
   ]
  },
  {
   "cell_type": "code",
   "execution_count": 26,
   "id": "04f694e3-a7dc-4f4e-83eb-e6d31854021b",
   "metadata": {},
   "outputs": [
    {
     "data": {
      "text/plain": [
       "DatasetDict({\n",
       "    dev: Dataset({\n",
       "        features: ['english', 'non_english'],\n",
       "        num_rows: 993\n",
       "    })\n",
       "    train: Dataset({\n",
       "        features: ['english', 'non_english'],\n",
       "        num_rows: 201883\n",
       "    })\n",
       "})"
      ]
     },
     "execution_count": 26,
     "metadata": {},
     "output_type": "execute_result"
    }
   ],
   "source": [
    "from datasets import load_dataset\n",
    "\n",
    "dataset = load_dataset('sentence-transformers/parallel-sentences-talks', 'en-uk')\n",
    "dataset "
   ]
  },
  {
   "cell_type": "code",
   "execution_count": 27,
   "id": "e8767714-3dd8-4c20-a0e8-fccbdc42ee8f",
   "metadata": {},
   "outputs": [],
   "source": [
    "train_dataset = dataset['train']\n",
    "train_dataset.set_format(type='pandas')\n",
    "train_df = train_dataset[:]"
   ]
  },
  {
   "cell_type": "code",
   "execution_count": 28,
   "id": "75082a9f-c522-4f8c-92f5-f9ea7a85455a",
   "metadata": {},
   "outputs": [
    {
     "name": "stdout",
     "output_type": "stream",
     "text": [
      "<class 'pandas.core.frame.DataFrame'>\n",
      "RangeIndex: 201883 entries, 0 to 201882\n",
      "Data columns (total 2 columns):\n",
      " #   Column       Non-Null Count   Dtype \n",
      "---  ------       --------------   ----- \n",
      " 0   english      201883 non-null  object\n",
      " 1   non_english  201883 non-null  object\n",
      "dtypes: object(2)\n",
      "memory usage: 3.1+ MB\n"
     ]
    }
   ],
   "source": [
    "train_df.info()"
   ]
  },
  {
   "cell_type": "code",
   "execution_count": 29,
   "id": "394b0dcd-f591-4d40-a348-06a0b2727e0e",
   "metadata": {},
   "outputs": [
    {
     "data": {
      "text/html": [
       "<div>\n",
       "<style scoped>\n",
       "    .dataframe tbody tr th:only-of-type {\n",
       "        vertical-align: middle;\n",
       "    }\n",
       "\n",
       "    .dataframe tbody tr th {\n",
       "        vertical-align: top;\n",
       "    }\n",
       "\n",
       "    .dataframe thead th {\n",
       "        text-align: right;\n",
       "    }\n",
       "</style>\n",
       "<table border=\"1\" class=\"dataframe\">\n",
       "  <thead>\n",
       "    <tr style=\"text-align: right;\">\n",
       "      <th></th>\n",
       "      <th>english</th>\n",
       "      <th>non_english</th>\n",
       "    </tr>\n",
       "  </thead>\n",
       "  <tbody>\n",
       "    <tr>\n",
       "      <th>0</th>\n",
       "      <td>I want you to know that I believe kids will ea...</td>\n",
       "      <td>Я хочу, щоб ви знали, що я впевнений що діти б...</td>\n",
       "    </tr>\n",
       "    <tr>\n",
       "      <th>1</th>\n",
       "      <td>I want you to know that there are farmers' mar...</td>\n",
       "      <td>Я хочу, щоб ви знали, що є фермерські ринки як...</td>\n",
       "    </tr>\n",
       "    <tr>\n",
       "      <th>2</th>\n",
       "      <td>I want you to know that me, my brother and sis...</td>\n",
       "      <td>Я хочу, щоб ви знали, що я, мої брат та сестра...</td>\n",
       "    </tr>\n",
       "    <tr>\n",
       "      <th>3</th>\n",
       "      <td>I try to share this everywhere I go.</td>\n",
       "      <td>Я намагаюся поділитися цим всюди, куди б я не ...</td>\n",
       "    </tr>\n",
       "    <tr>\n",
       "      <th>4</th>\n",
       "      <td>Not too long ago, my uncle said that he offere...</td>\n",
       "      <td>Не так давно, мій дядько сказав, що він запроп...</td>\n",
       "    </tr>\n",
       "  </tbody>\n",
       "</table>\n",
       "</div>"
      ],
      "text/plain": [
       "                                             english  \\\n",
       "0  I want you to know that I believe kids will ea...   \n",
       "1  I want you to know that there are farmers' mar...   \n",
       "2  I want you to know that me, my brother and sis...   \n",
       "3               I try to share this everywhere I go.   \n",
       "4  Not too long ago, my uncle said that he offere...   \n",
       "\n",
       "                                         non_english  \n",
       "0  Я хочу, щоб ви знали, що я впевнений що діти б...  \n",
       "1  Я хочу, щоб ви знали, що є фермерські ринки як...  \n",
       "2  Я хочу, щоб ви знали, що я, мої брат та сестра...  \n",
       "3  Я намагаюся поділитися цим всюди, куди б я не ...  \n",
       "4  Не так давно, мій дядько сказав, що він запроп...  "
      ]
     },
     "execution_count": 29,
     "metadata": {},
     "output_type": "execute_result"
    }
   ],
   "source": [
    "train_df.head()"
   ]
  },
  {
   "cell_type": "code",
   "execution_count": 30,
   "id": "786b16b4-6410-477d-9469-76cfedc6feff",
   "metadata": {},
   "outputs": [],
   "source": [
    "eval_dataset = dataset['dev']\n",
    "eval_dataset.set_format(type='pandas')\n",
    "eval_df = eval_dataset[:]"
   ]
  },
  {
   "cell_type": "code",
   "execution_count": 31,
   "id": "e8213831-fcb0-4e11-ba9c-0d8bb4a2e13a",
   "metadata": {},
   "outputs": [
    {
     "name": "stdout",
     "output_type": "stream",
     "text": [
      "<class 'pandas.core.frame.DataFrame'>\n",
      "RangeIndex: 993 entries, 0 to 992\n",
      "Data columns (total 2 columns):\n",
      " #   Column       Non-Null Count  Dtype \n",
      "---  ------       --------------  ----- \n",
      " 0   english      993 non-null    object\n",
      " 1   non_english  993 non-null    object\n",
      "dtypes: object(2)\n",
      "memory usage: 15.6+ KB\n"
     ]
    }
   ],
   "source": [
    "eval_df.info()"
   ]
  },
  {
   "cell_type": "code",
   "execution_count": 32,
   "id": "3ed62878-8d30-4c07-a1f2-fc162847d8c7",
   "metadata": {},
   "outputs": [
    {
     "data": {
      "text/html": [
       "<div>\n",
       "<style scoped>\n",
       "    .dataframe tbody tr th:only-of-type {\n",
       "        vertical-align: middle;\n",
       "    }\n",
       "\n",
       "    .dataframe tbody tr th {\n",
       "        vertical-align: top;\n",
       "    }\n",
       "\n",
       "    .dataframe thead th {\n",
       "        text-align: right;\n",
       "    }\n",
       "</style>\n",
       "<table border=\"1\" class=\"dataframe\">\n",
       "  <thead>\n",
       "    <tr style=\"text-align: right;\">\n",
       "      <th></th>\n",
       "      <th>english</th>\n",
       "      <th>non_english</th>\n",
       "    </tr>\n",
       "  </thead>\n",
       "  <tbody>\n",
       "    <tr>\n",
       "      <th>0</th>\n",
       "      <td>Thank you so much, Chris.</td>\n",
       "      <td>Дуже дякую, Кріс!</td>\n",
       "    </tr>\n",
       "    <tr>\n",
       "      <th>1</th>\n",
       "      <td>And it's truly a great honor to have the oppor...</td>\n",
       "      <td>Справді, для мене це велика честь мати можливі...</td>\n",
       "    </tr>\n",
       "    <tr>\n",
       "      <th>2</th>\n",
       "      <td>I have been blown away by this conference, and...</td>\n",
       "      <td>Я в захваті від цієї конференції, і я хочу под...</td>\n",
       "    </tr>\n",
       "    <tr>\n",
       "      <th>3</th>\n",
       "      <td>And I say that sincerely, partly because (Mock...</td>\n",
       "      <td>І, щиро кажучи, частково тому що – (Схлипує) –...</td>\n",
       "    </tr>\n",
       "    <tr>\n",
       "      <th>4</th>\n",
       "      <td>(Laughter) Put yourselves in my position.</td>\n",
       "      <td>(Сміх) Поставте себе на моє місце!</td>\n",
       "    </tr>\n",
       "  </tbody>\n",
       "</table>\n",
       "</div>"
      ],
      "text/plain": [
       "                                             english  \\\n",
       "0                          Thank you so much, Chris.   \n",
       "1  And it's truly a great honor to have the oppor...   \n",
       "2  I have been blown away by this conference, and...   \n",
       "3  And I say that sincerely, partly because (Mock...   \n",
       "4          (Laughter) Put yourselves in my position.   \n",
       "\n",
       "                                         non_english  \n",
       "0                                  Дуже дякую, Кріс!  \n",
       "1  Справді, для мене це велика честь мати можливі...  \n",
       "2  Я в захваті від цієї конференції, і я хочу под...  \n",
       "3  І, щиро кажучи, частково тому що – (Схлипує) –...  \n",
       "4                 (Сміх) Поставте себе на моє місце!  "
      ]
     },
     "execution_count": 32,
     "metadata": {},
     "output_type": "execute_result"
    }
   ],
   "source": [
    "eval_df.head()"
   ]
  },
  {
   "cell_type": "code",
   "execution_count": null,
   "id": "a5e59ee6-a4f7-482b-b6b4-898e2984a916",
   "metadata": {},
   "outputs": [],
   "source": []
  }
 ],
 "metadata": {
  "kernelspec": {
   "display_name": "embed_ua_base",
   "language": "python",
   "name": "embed_ua_base"
  },
  "language_info": {
   "codemirror_mode": {
    "name": "ipython",
    "version": 3
   },
   "file_extension": ".py",
   "mimetype": "text/x-python",
   "name": "python",
   "nbconvert_exporter": "python",
   "pygments_lexer": "ipython3",
   "version": "3.9.21"
  }
 },
 "nbformat": 4,
 "nbformat_minor": 5
}
