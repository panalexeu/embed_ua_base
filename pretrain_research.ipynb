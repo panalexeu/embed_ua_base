{
 "cells": [
  {
   "cell_type": "code",
   "execution_count": 2,
   "id": "71bd3ec5-e738-437b-a325-32e29ae9d3ab",
   "metadata": {},
   "outputs": [
    {
     "name": "stdout",
     "output_type": "stream",
     "text": [
      "Work in progress...\n"
     ]
    }
   ],
   "source": [
    "print('Work in progress...')"
   ]
  },
  {
   "cell_type": "code",
   "execution_count": null,
   "id": "7eda97e9-ecfa-455e-a7af-131773fdf10a",
   "metadata": {},
   "outputs": [],
   "source": []
  }
 ],
 "metadata": {
  "kernelspec": {
   "display_name": "embed_ua_base",
   "language": "python",
   "name": "embed_ua_base"
  },
  "language_info": {
   "codemirror_mode": {
    "name": "ipython",
    "version": 3
   },
   "file_extension": ".py",
   "mimetype": "text/x-python",
   "name": "python",
   "nbconvert_exporter": "python",
   "pygments_lexer": "ipython3",
   "version": "3.9.21"
  }
 },
 "nbformat": 4,
 "nbformat_minor": 5
}
