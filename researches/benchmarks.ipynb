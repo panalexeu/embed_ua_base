{
 "cells": [
  {
   "cell_type": "code",
   "execution_count": 1,
   "id": "525e7ec4-a479-48ce-80c6-58422aa2444c",
   "metadata": {},
   "outputs": [],
   "source": [
    "!uv pip install -q mteb\n",
    "!uv pip install -q sentence-transformers\n",
    "!uv pip install -q pandas\n",
    "!uv pip install -q rich"
   ]
  },
  {
   "cell_type": "markdown",
   "id": "720cff8d-3fb2-4579-a769-c4baf093a660",
   "metadata": {},
   "source": [
    "### Post-train Research\n",
    "\n",
    "In this notebook, some inference tests and benchmarking of the fine-tuned and original models are performed. \n",
    "\n",
    "One of the benchmarks is STS-17 in the following configurations: en-en, en-ua (machine translated), ua-ua (machine translated). \n",
    "\n",
    "The machine translation of the STS-17 benchmark to the Ukrainian language was performed in this [notebook](../dataset_translation.ipynb)."
   ]
  },
  {
   "cell_type": "markdown",
   "id": "5c2dd1c9-bb66-4d12-afbf-0f527fcca7aa",
   "metadata": {},
   "source": [
    "#### Loading the models "
   ]
  },
  {
   "cell_type": "code",
   "execution_count": 2,
   "id": "4eb03e91-d904-4ed5-8c24-f31b2c95b3c2",
   "metadata": {},
   "outputs": [
    {
     "name": "stderr",
     "output_type": "stream",
     "text": [
      "No sentence-transformers model found with name FacebookAI/xlm-roberta-base. Creating a new one with mean pooling.\n"
     ]
    },
    {
     "data": {
      "text/plain": [
       "SentenceTransformer(\n",
       "  (0): Transformer({'max_seq_length': 512, 'do_lower_case': False}) with Transformer model: XLMRobertaModel \n",
       "  (1): Pooling({'word_embedding_dimension': 768, 'pooling_mode_cls_token': False, 'pooling_mode_mean_tokens': True, 'pooling_mode_max_tokens': False, 'pooling_mode_mean_sqrt_len_tokens': False, 'pooling_mode_weightedmean_tokens': False, 'pooling_mode_lasttoken': False, 'include_prompt': True})\n",
       ")"
      ]
     },
     "execution_count": 2,
     "metadata": {},
     "output_type": "execute_result"
    }
   ],
   "source": [
    "from sentence_transformers import SentenceTransformer \n",
    "\n",
    "# original \n",
    "xlm_roberta = SentenceTransformer('FacebookAI/xlm-roberta-base')\n",
    "xlm_roberta"
   ]
  },
  {
   "cell_type": "code",
   "execution_count": 3,
   "id": "92453756-b328-47bc-9014-1e10a6af9d34",
   "metadata": {},
   "outputs": [
    {
     "data": {
      "text/plain": [
       "SentenceTransformer(\n",
       "  (0): Transformer({'max_seq_length': 512, 'do_lower_case': False}) with Transformer model: XLMRobertaModel \n",
       "  (1): Pooling({'word_embedding_dimension': 768, 'pooling_mode_cls_token': False, 'pooling_mode_mean_tokens': True, 'pooling_mode_max_tokens': False, 'pooling_mode_mean_sqrt_len_tokens': False, 'pooling_mode_weightedmean_tokens': False, 'pooling_mode_lasttoken': False, 'include_prompt': True})\n",
       ")"
      ]
     },
     "execution_count": 3,
     "metadata": {},
     "output_type": "execute_result"
    }
   ],
   "source": [
    "# fine-tuned \n",
    "xlm_roberta_ua_distilled = SentenceTransformer('panalexeu/xlm-roberta-ua-distilled')\n",
    "xlm_roberta_ua_distilled"
   ]
  },
  {
   "cell_type": "code",
   "execution_count": 4,
   "id": "09c6cf02-cdce-43ae-acc9-61c700ba7229",
   "metadata": {},
   "outputs": [],
   "source": [
    "# assure that the models have identical configurations \n",
    "assert xlm_roberta[0].get_config_dict() == xlm_roberta_ua_distilled[0].get_config_dict()\n",
    "assert xlm_roberta[1].get_config_dict() == xlm_roberta_ua_distilled[1].get_config_dict()"
   ]
  },
  {
   "cell_type": "code",
   "execution_count": 5,
   "id": "4467d423-d56e-4bd3-aabb-d9cf3991ff37",
   "metadata": {},
   "outputs": [
    {
     "data": {
      "text/plain": [
       "SentenceTransformer(\n",
       "  (0): Transformer({'max_seq_length': 256, 'do_lower_case': False}) with Transformer model: BertModel \n",
       "  (1): Pooling({'word_embedding_dimension': 384, 'pooling_mode_cls_token': False, 'pooling_mode_mean_tokens': True, 'pooling_mode_max_tokens': False, 'pooling_mode_mean_sqrt_len_tokens': False, 'pooling_mode_weightedmean_tokens': False, 'pooling_mode_lasttoken': False, 'include_prompt': True})\n",
       "  (2): Normalize()\n",
       ")"
      ]
     },
     "execution_count": 5,
     "metadata": {},
     "output_type": "execute_result"
    }
   ],
   "source": [
    "# popular monolingual embedding model, with minimal memory consumption\n",
    "all_mini_l6 = SentenceTransformer('sentence-transformers/all-MiniLM-L6-v2')\n",
    "all_mini_l6"
   ]
  },
  {
   "cell_type": "markdown",
   "id": "5c8502c9-c755-4e5b-bd96-6d679f7695de",
   "metadata": {},
   "source": [
    "#### STS-17 Evaluation"
   ]
  },
  {
   "cell_type": "code",
   "execution_count": 6,
   "id": "761730af-db2b-4e3f-be6f-553e985542fe",
   "metadata": {},
   "outputs": [],
   "source": [
    "from datasets import load_dataset\n",
    "from sentence_transformers.evaluation import EmbeddingSimilarityEvaluator, SequentialEvaluator \n",
    "\n",
    "# STS Benchmark (Semantic Textual Similarity Benchmark)\n",
    "en_en_dataset = load_dataset('mteb/sts17-crosslingual-sts', 'en-en', split='test')\n",
    "en_ua_dataset = load_dataset('csv', data_files='../datasets/sts17-en-ua-gpt-4o.csv', split='train') # when loading from csv by default train split is assigned\n",
    "ua_ua_dataset = load_dataset('csv', data_files='../datasets/sts17-ua-ua-gpt-4o.csv', split='train')  # when loading from csv by default train split is assigned\n",
    "\n",
    "# From documentation: Evaluate a model based on the similarity of the embeddings by calculating the Spearman and Pearson rank correlation in comparison to the gold standard labels. \n",
    "en_en_eval = EmbeddingSimilarityEvaluator(\n",
    "    sentences1=en_en_dataset['sentence1'],\n",
    "    sentences2=en_en_dataset['sentence2'],\n",
    "    scores=[score / 5.0 for score in en_en_dataset['score']],  # normalizing to score from to 1\n",
    "    show_progress_bar=False,\n",
    "    name='sts17-en-en',\n",
    "    batch_size=16\n",
    ")\n",
    "\n",
    "en_ua_eval = EmbeddingSimilarityEvaluator(\n",
    "    sentences1=en_ua_dataset['sentence1'],\n",
    "    sentences2=en_ua_dataset['sentence2'],\n",
    "    scores=[score / 5.0 for score in en_ua_dataset['score']],\n",
    "    show_progress_bar=False,\n",
    "    name='sts17-en-ua',\n",
    "    batch_size=16\n",
    ")\n",
    "\n",
    "ua_ua_eval = EmbeddingSimilarityEvaluator(\n",
    "    sentences1=ua_ua_dataset['sentence1'],\n",
    "    sentences2=ua_ua_dataset['sentence2'],\n",
    "    scores=[score / 5.0 for score in ua_ua_dataset['score']],\n",
    "    show_progress_bar=False,\n",
    "    name='sts17-ua-ua',\n",
    "    batch_size=16\n",
    ")\n",
    "\n",
    "# Composing evaluators in one chain! \n",
    "evaluator = SequentialEvaluator([en_en_eval, en_ua_eval, ua_ua_eval]) "
   ]
  },
  {
   "cell_type": "markdown",
   "id": "f206a3a6-e662-4715-9afe-189efc3bd092",
   "metadata": {},
   "source": [
    "**Original** "
   ]
  },
  {
   "cell_type": "code",
   "execution_count": 7,
   "id": "8121c4c4-d1a7-4a9f-8f0a-df157093037d",
   "metadata": {},
   "outputs": [
    {
     "data": {
      "text/html": [
       "<pre style=\"white-space:pre;overflow-x:auto;line-height:normal;font-family:Menlo,'DejaVu Sans Mono',consolas,'Courier New',monospace\"><span style=\"font-weight: bold\">{</span>\n",
       "    <span style=\"color: #008000; text-decoration-color: #008000\">'eval_model_preparation_time'</span>: <span style=\"color: #008080; text-decoration-color: #008080; font-weight: bold\">0.002</span>,\n",
       "    <span style=\"color: #008000; text-decoration-color: #008000\">'eval_sts17-en-en_pearson_cosine'</span>: <span style=\"color: #008080; text-decoration-color: #008080; font-weight: bold\">0.36110322291820246</span>,\n",
       "    <span style=\"color: #008000; text-decoration-color: #008000\">'eval_sts17-en-en_spearman_cosine'</span>: <span style=\"color: #008080; text-decoration-color: #008080; font-weight: bold\">0.5217129934278466</span>,\n",
       "    <span style=\"color: #008000; text-decoration-color: #008000\">'eval_sts17-en-ua_pearson_cosine'</span>: <span style=\"color: #008080; text-decoration-color: #008080; font-weight: bold\">0.12805525703810633</span>,\n",
       "    <span style=\"color: #008000; text-decoration-color: #008000\">'eval_sts17-en-ua_spearman_cosine'</span>: <span style=\"color: #008080; text-decoration-color: #008080; font-weight: bold\">0.13454840278964744</span>,\n",
       "    <span style=\"color: #008000; text-decoration-color: #008000\">'eval_sts17-ua-ua_pearson_cosine'</span>: <span style=\"color: #008080; text-decoration-color: #008080; font-weight: bold\">0.302438933599461</span>,\n",
       "    <span style=\"color: #008000; text-decoration-color: #008000\">'eval_sts17-ua-ua_spearman_cosine'</span>: <span style=\"color: #008080; text-decoration-color: #008080; font-weight: bold\">0.4151725913805182</span>,\n",
       "    <span style=\"color: #008000; text-decoration-color: #008000\">'eval_sequential_score'</span>: <span style=\"color: #008080; text-decoration-color: #008080; font-weight: bold\">0.4151725913805182</span>,\n",
       "    <span style=\"color: #008000; text-decoration-color: #008000\">'eval_runtime'</span>: <span style=\"color: #008080; text-decoration-color: #008080; font-weight: bold\">1.9782</span>,\n",
       "    <span style=\"color: #008000; text-decoration-color: #008000\">'eval_samples_per_second'</span>: <span style=\"color: #008080; text-decoration-color: #008080; font-weight: bold\">0.0</span>,\n",
       "    <span style=\"color: #008000; text-decoration-color: #008000\">'eval_steps_per_second'</span>: <span style=\"color: #008080; text-decoration-color: #008080; font-weight: bold\">0.0</span>\n",
       "<span style=\"font-weight: bold\">}</span>\n",
       "</pre>\n"
      ],
      "text/plain": [
       "\u001b[1m{\u001b[0m\n",
       "    \u001b[32m'eval_model_preparation_time'\u001b[0m: \u001b[1;36m0.002\u001b[0m,\n",
       "    \u001b[32m'eval_sts17-en-en_pearson_cosine'\u001b[0m: \u001b[1;36m0.36110322291820246\u001b[0m,\n",
       "    \u001b[32m'eval_sts17-en-en_spearman_cosine'\u001b[0m: \u001b[1;36m0.5217129934278466\u001b[0m,\n",
       "    \u001b[32m'eval_sts17-en-ua_pearson_cosine'\u001b[0m: \u001b[1;36m0.12805525703810633\u001b[0m,\n",
       "    \u001b[32m'eval_sts17-en-ua_spearman_cosine'\u001b[0m: \u001b[1;36m0.13454840278964744\u001b[0m,\n",
       "    \u001b[32m'eval_sts17-ua-ua_pearson_cosine'\u001b[0m: \u001b[1;36m0.302438933599461\u001b[0m,\n",
       "    \u001b[32m'eval_sts17-ua-ua_spearman_cosine'\u001b[0m: \u001b[1;36m0.4151725913805182\u001b[0m,\n",
       "    \u001b[32m'eval_sequential_score'\u001b[0m: \u001b[1;36m0.4151725913805182\u001b[0m,\n",
       "    \u001b[32m'eval_runtime'\u001b[0m: \u001b[1;36m1.9782\u001b[0m,\n",
       "    \u001b[32m'eval_samples_per_second'\u001b[0m: \u001b[1;36m0.0\u001b[0m,\n",
       "    \u001b[32m'eval_steps_per_second'\u001b[0m: \u001b[1;36m0.0\u001b[0m\n",
       "\u001b[1m}\u001b[0m\n"
      ]
     },
     "metadata": {},
     "output_type": "display_data"
    }
   ],
   "source": [
    "from rich import print \n",
    "from sentence_transformers import SentenceTransformerTrainer \n",
    "\n",
    "res = SentenceTransformerTrainer(\n",
    "    model=xlm_roberta,\n",
    "    evaluator=evaluator\n",
    ").evaluate()\n",
    "\n",
    "print(res)"
   ]
  },
  {
   "cell_type": "markdown",
   "id": "9eb427c7-b582-49e8-8e8e-9a25d768bc77",
   "metadata": {},
   "source": [
    "**Fine-tuned** "
   ]
  },
  {
   "cell_type": "code",
   "execution_count": 8,
   "id": "f99fdbe8-9090-4127-9b78-e20e435bbf4b",
   "metadata": {},
   "outputs": [
    {
     "data": {
      "text/html": [
       "<pre style=\"white-space:pre;overflow-x:auto;line-height:normal;font-family:Menlo,'DejaVu Sans Mono',consolas,'Courier New',monospace\"><span style=\"font-weight: bold\">{</span>\n",
       "    <span style=\"color: #008000; text-decoration-color: #008000\">'eval_model_preparation_time'</span>: <span style=\"color: #008080; text-decoration-color: #008080; font-weight: bold\">0.0018</span>,\n",
       "    <span style=\"color: #008000; text-decoration-color: #008000\">'eval_sts17-en-en_pearson_cosine'</span>: <span style=\"color: #008080; text-decoration-color: #008080; font-weight: bold\">0.6784819681712645</span>,\n",
       "    <span style=\"color: #008000; text-decoration-color: #008000\">'eval_sts17-en-en_spearman_cosine'</span>: <span style=\"color: #008080; text-decoration-color: #008080; font-weight: bold\">0.7308493185913256</span>,\n",
       "    <span style=\"color: #008000; text-decoration-color: #008000\">'eval_sts17-en-ua_pearson_cosine'</span>: <span style=\"color: #008080; text-decoration-color: #008080; font-weight: bold\">0.5925553586829718</span>,\n",
       "    <span style=\"color: #008000; text-decoration-color: #008000\">'eval_sts17-en-ua_spearman_cosine'</span>: <span style=\"color: #008080; text-decoration-color: #008080; font-weight: bold\">0.6197606373137193</span>,\n",
       "    <span style=\"color: #008000; text-decoration-color: #008000\">'eval_sts17-ua-ua_pearson_cosine'</span>: <span style=\"color: #008080; text-decoration-color: #008080; font-weight: bold\">0.6158998600027094</span>,\n",
       "    <span style=\"color: #008000; text-decoration-color: #008000\">'eval_sts17-ua-ua_spearman_cosine'</span>: <span style=\"color: #008080; text-decoration-color: #008080; font-weight: bold\">0.6445750755380512</span>,\n",
       "    <span style=\"color: #008000; text-decoration-color: #008000\">'eval_sequential_score'</span>: <span style=\"color: #008080; text-decoration-color: #008080; font-weight: bold\">0.6445750755380512</span>,\n",
       "    <span style=\"color: #008000; text-decoration-color: #008000\">'eval_runtime'</span>: <span style=\"color: #008080; text-decoration-color: #008080; font-weight: bold\">1.8192</span>,\n",
       "    <span style=\"color: #008000; text-decoration-color: #008000\">'eval_samples_per_second'</span>: <span style=\"color: #008080; text-decoration-color: #008080; font-weight: bold\">0.0</span>,\n",
       "    <span style=\"color: #008000; text-decoration-color: #008000\">'eval_steps_per_second'</span>: <span style=\"color: #008080; text-decoration-color: #008080; font-weight: bold\">0.0</span>\n",
       "<span style=\"font-weight: bold\">}</span>\n",
       "</pre>\n"
      ],
      "text/plain": [
       "\u001b[1m{\u001b[0m\n",
       "    \u001b[32m'eval_model_preparation_time'\u001b[0m: \u001b[1;36m0.0018\u001b[0m,\n",
       "    \u001b[32m'eval_sts17-en-en_pearson_cosine'\u001b[0m: \u001b[1;36m0.6784819681712645\u001b[0m,\n",
       "    \u001b[32m'eval_sts17-en-en_spearman_cosine'\u001b[0m: \u001b[1;36m0.7308493185913256\u001b[0m,\n",
       "    \u001b[32m'eval_sts17-en-ua_pearson_cosine'\u001b[0m: \u001b[1;36m0.5925553586829718\u001b[0m,\n",
       "    \u001b[32m'eval_sts17-en-ua_spearman_cosine'\u001b[0m: \u001b[1;36m0.6197606373137193\u001b[0m,\n",
       "    \u001b[32m'eval_sts17-ua-ua_pearson_cosine'\u001b[0m: \u001b[1;36m0.6158998600027094\u001b[0m,\n",
       "    \u001b[32m'eval_sts17-ua-ua_spearman_cosine'\u001b[0m: \u001b[1;36m0.6445750755380512\u001b[0m,\n",
       "    \u001b[32m'eval_sequential_score'\u001b[0m: \u001b[1;36m0.6445750755380512\u001b[0m,\n",
       "    \u001b[32m'eval_runtime'\u001b[0m: \u001b[1;36m1.8192\u001b[0m,\n",
       "    \u001b[32m'eval_samples_per_second'\u001b[0m: \u001b[1;36m0.0\u001b[0m,\n",
       "    \u001b[32m'eval_steps_per_second'\u001b[0m: \u001b[1;36m0.0\u001b[0m\n",
       "\u001b[1m}\u001b[0m\n"
      ]
     },
     "metadata": {},
     "output_type": "display_data"
    }
   ],
   "source": [
    "import pandas as pd \n",
    "from sentence_transformers import SentenceTransformerTrainer \n",
    "\n",
    "res = SentenceTransformerTrainer(\n",
    "    model=xlm_roberta_ua_distilled,\n",
    "    evaluator=evaluator\n",
    ").evaluate()\n",
    "\n",
    "print(res)"
   ]
  },
  {
   "cell_type": "markdown",
   "id": "294309f7-15bb-4b76-b138-33a4abe1e8d9",
   "metadata": {},
   "source": [
    "**all-MiniLM-L6-v2** "
   ]
  },
  {
   "cell_type": "code",
   "execution_count": 9,
   "id": "9c874ed1-5005-4209-8eac-b6bb2206b0cc",
   "metadata": {},
   "outputs": [
    {
     "data": {
      "text/html": [
       "<pre style=\"white-space:pre;overflow-x:auto;line-height:normal;font-family:Menlo,'DejaVu Sans Mono',consolas,'Courier New',monospace\"><span style=\"font-weight: bold\">{</span>\n",
       "    <span style=\"color: #008000; text-decoration-color: #008000\">'eval_model_preparation_time'</span>: <span style=\"color: #008080; text-decoration-color: #008080; font-weight: bold\">0.0012</span>,\n",
       "    <span style=\"color: #008000; text-decoration-color: #008000\">'eval_sts17-en-en_pearson_cosine'</span>: <span style=\"color: #008080; text-decoration-color: #008080; font-weight: bold\">0.8802366516183165</span>,\n",
       "    <span style=\"color: #008000; text-decoration-color: #008000\">'eval_sts17-en-en_spearman_cosine'</span>: <span style=\"color: #008080; text-decoration-color: #008080; font-weight: bold\">0.8758779089494525</span>,\n",
       "    <span style=\"color: #008000; text-decoration-color: #008000\">'eval_sts17-en-ua_pearson_cosine'</span>: <span style=\"color: #008080; text-decoration-color: #008080; font-weight: bold\">-0.02414178138910443</span>,\n",
       "    <span style=\"color: #008000; text-decoration-color: #008000\">'eval_sts17-en-ua_spearman_cosine'</span>: <span style=\"color: #008080; text-decoration-color: #008080; font-weight: bold\">-0.028786688916823417</span>,\n",
       "    <span style=\"color: #008000; text-decoration-color: #008000\">'eval_sts17-ua-ua_pearson_cosine'</span>: <span style=\"color: #008080; text-decoration-color: #008080; font-weight: bold\">0.6433998214171945</span>,\n",
       "    <span style=\"color: #008000; text-decoration-color: #008000\">'eval_sts17-ua-ua_spearman_cosine'</span>: <span style=\"color: #008080; text-decoration-color: #008080; font-weight: bold\">0.6478593817413917</span>,\n",
       "    <span style=\"color: #008000; text-decoration-color: #008000\">'eval_sequential_score'</span>: <span style=\"color: #008080; text-decoration-color: #008080; font-weight: bold\">0.6478593817413917</span>,\n",
       "    <span style=\"color: #008000; text-decoration-color: #008000\">'eval_runtime'</span>: <span style=\"color: #008080; text-decoration-color: #008080; font-weight: bold\">0.5727</span>,\n",
       "    <span style=\"color: #008000; text-decoration-color: #008000\">'eval_samples_per_second'</span>: <span style=\"color: #008080; text-decoration-color: #008080; font-weight: bold\">0.0</span>,\n",
       "    <span style=\"color: #008000; text-decoration-color: #008000\">'eval_steps_per_second'</span>: <span style=\"color: #008080; text-decoration-color: #008080; font-weight: bold\">0.0</span>\n",
       "<span style=\"font-weight: bold\">}</span>\n",
       "</pre>\n"
      ],
      "text/plain": [
       "\u001b[1m{\u001b[0m\n",
       "    \u001b[32m'eval_model_preparation_time'\u001b[0m: \u001b[1;36m0.0012\u001b[0m,\n",
       "    \u001b[32m'eval_sts17-en-en_pearson_cosine'\u001b[0m: \u001b[1;36m0.8802366516183165\u001b[0m,\n",
       "    \u001b[32m'eval_sts17-en-en_spearman_cosine'\u001b[0m: \u001b[1;36m0.8758779089494525\u001b[0m,\n",
       "    \u001b[32m'eval_sts17-en-ua_pearson_cosine'\u001b[0m: \u001b[1;36m-0.02414178138910443\u001b[0m,\n",
       "    \u001b[32m'eval_sts17-en-ua_spearman_cosine'\u001b[0m: \u001b[1;36m-0.028786688916823417\u001b[0m,\n",
       "    \u001b[32m'eval_sts17-ua-ua_pearson_cosine'\u001b[0m: \u001b[1;36m0.6433998214171945\u001b[0m,\n",
       "    \u001b[32m'eval_sts17-ua-ua_spearman_cosine'\u001b[0m: \u001b[1;36m0.6478593817413917\u001b[0m,\n",
       "    \u001b[32m'eval_sequential_score'\u001b[0m: \u001b[1;36m0.6478593817413917\u001b[0m,\n",
       "    \u001b[32m'eval_runtime'\u001b[0m: \u001b[1;36m0.5727\u001b[0m,\n",
       "    \u001b[32m'eval_samples_per_second'\u001b[0m: \u001b[1;36m0.0\u001b[0m,\n",
       "    \u001b[32m'eval_steps_per_second'\u001b[0m: \u001b[1;36m0.0\u001b[0m\n",
       "\u001b[1m}\u001b[0m\n"
      ]
     },
     "metadata": {},
     "output_type": "display_data"
    }
   ],
   "source": [
    "import pandas as pd \n",
    "from sentence_transformers import SentenceTransformerTrainer \n",
    "\n",
    "res = SentenceTransformerTrainer(\n",
    "    model=all_mini_l6,\n",
    "    evaluator=evaluator\n",
    ").evaluate()\n",
    "\n",
    "print(res)"
   ]
  },
  {
   "cell_type": "markdown",
   "id": "7cf37e42-15ef-42b4-9d97-ec7bf1bb631d",
   "metadata": {},
   "source": [
    "#### MTEB"
   ]
  },
  {
   "cell_type": "code",
   "execution_count": 10,
   "id": "876f6a12-feeb-4877-b508-255c33ebf991",
   "metadata": {},
   "outputs": [
    {
     "data": {
      "text/plain": [
       "MTEBTasks(WebFAQRetrieval(name='WebFAQRetrieval', languages=['ukr']),)"
      ]
     },
     "execution_count": 10,
     "metadata": {},
     "output_type": "execute_result"
    }
   ],
   "source": [
    "import mteb\n",
    "tasks = mteb.get_tasks(tasks=['WebFAQRetrieval'], languages=['ukr'])  # mteb.get_tasks(task_types=['Retrieval'], languages=['ukr'])\n",
    "evaluation = mteb.MTEB(tasks=tasks)\n",
    "tasks"
   ]
  },
  {
   "cell_type": "markdown",
   "id": "2f451e4c-6480-437a-81c1-1af0742eea24",
   "metadata": {},
   "source": [
    "**Original model**"
   ]
  },
  {
   "cell_type": "code",
   "execution_count": 11,
   "id": "6f427b5e-dbe8-4493-844b-25bb277743be",
   "metadata": {},
   "outputs": [
    {
     "data": {
      "text/html": [
       "<pre style=\"white-space:pre;overflow-x:auto;line-height:normal;font-family:Menlo,'DejaVu Sans Mono',consolas,'Courier New',monospace\"><span style=\"color: #262626; text-decoration-color: #262626\">───────────────────────────────────────────────── </span><span style=\"font-weight: bold\">Selected tasks </span><span style=\"color: #262626; text-decoration-color: #262626\"> ─────────────────────────────────────────────────</span>\n",
       "</pre>\n"
      ],
      "text/plain": [
       "\u001b[38;5;235m───────────────────────────────────────────────── \u001b[0m\u001b[1mSelected tasks \u001b[0m\u001b[38;5;235m ─────────────────────────────────────────────────\u001b[0m\n"
      ]
     },
     "metadata": {},
     "output_type": "display_data"
    },
    {
     "data": {
      "text/html": [
       "<pre style=\"white-space:pre;overflow-x:auto;line-height:normal;font-family:Menlo,'DejaVu Sans Mono',consolas,'Courier New',monospace\"><span style=\"font-weight: bold\">Retrieval</span>\n",
       "</pre>\n"
      ],
      "text/plain": [
       "\u001b[1mRetrieval\u001b[0m\n"
      ]
     },
     "metadata": {},
     "output_type": "display_data"
    },
    {
     "data": {
      "text/html": [
       "<pre style=\"white-space:pre;overflow-x:auto;line-height:normal;font-family:Menlo,'DejaVu Sans Mono',consolas,'Courier New',monospace\">    - WebFAQRetrieval, <span style=\"color: #626262; text-decoration-color: #626262; font-style: italic\">s2p</span>, <span style=\"color: #800000; text-decoration-color: #800000; font-style: italic\">multilingual </span><span style=\"color: #800000; text-decoration-color: #800000; font-weight: bold; font-style: italic\">1</span><span style=\"color: #800000; text-decoration-color: #800000; font-style: italic\"> / </span><span style=\"color: #800000; text-decoration-color: #800000; font-weight: bold; font-style: italic\">49</span><span style=\"color: #800000; text-decoration-color: #800000; font-style: italic\"> Subsets</span>\n",
       "</pre>\n"
      ],
      "text/plain": [
       "    - WebFAQRetrieval, \u001b[3;38;5;241ms2p\u001b[0m, \u001b[3;31mmultilingual \u001b[0m\u001b[1;3;31m1\u001b[0m\u001b[3;31m \u001b[0m\u001b[3;31m/\u001b[0m\u001b[3;31m \u001b[0m\u001b[1;3;31m49\u001b[0m\u001b[3;31m Subsets\u001b[0m\n"
      ]
     },
     "metadata": {},
     "output_type": "display_data"
    },
    {
     "data": {
      "text/html": [
       "<pre style=\"white-space:pre;overflow-x:auto;line-height:normal;font-family:Menlo,'DejaVu Sans Mono',consolas,'Courier New',monospace\">\n",
       "\n",
       "</pre>\n"
      ],
      "text/plain": [
       "\n",
       "\n"
      ]
     },
     "metadata": {},
     "output_type": "display_data"
    },
    {
     "data": {
      "application/vnd.jupyter.widget-view+json": {
       "model_id": "0d053a1ea9364f6f82cb81c545bf3190",
       "version_major": 2,
       "version_minor": 0
      },
      "text/plain": [
       "Batches:   0%|          | 0/215 [00:00<?, ?it/s]"
      ]
     },
     "metadata": {},
     "output_type": "display_data"
    },
    {
     "data": {
      "application/vnd.jupyter.widget-view+json": {
       "model_id": "3490d26184384641bb1fd03e1363db4f",
       "version_major": 2,
       "version_minor": 0
      },
      "text/plain": [
       "Batches:   0%|          | 0/1563 [00:00<?, ?it/s]"
      ]
     },
     "metadata": {},
     "output_type": "display_data"
    },
    {
     "data": {
      "application/vnd.jupyter.widget-view+json": {
       "model_id": "280b6b8b54af4592995472324036d2b2",
       "version_major": 2,
       "version_minor": 0
      },
      "text/plain": [
       "Batches:   0%|          | 0/579 [00:00<?, ?it/s]"
      ]
     },
     "metadata": {},
     "output_type": "display_data"
    },
    {
     "data": {
      "text/plain": [
       "[TaskResult(task_name=WebFAQRetrieval, scores=...)]"
      ]
     },
     "execution_count": 11,
     "metadata": {},
     "output_type": "execute_result"
    }
   ],
   "source": [
    "evaluation.run(xlm_roberta, encode_kwargs={\"batch_size\": 32})"
   ]
  },
  {
   "cell_type": "markdown",
   "id": "e4592ce0-048b-4238-9b3c-7ef132b1f5f7",
   "metadata": {},
   "source": [
    "**Fine-tuned** "
   ]
  },
  {
   "cell_type": "code",
   "execution_count": 12,
   "id": "14a82a86-fef1-4a78-afa2-283e16fcce04",
   "metadata": {},
   "outputs": [
    {
     "data": {
      "text/html": [
       "<pre style=\"white-space:pre;overflow-x:auto;line-height:normal;font-family:Menlo,'DejaVu Sans Mono',consolas,'Courier New',monospace\"><span style=\"color: #262626; text-decoration-color: #262626\">───────────────────────────────────────────────── </span><span style=\"font-weight: bold\">Selected tasks </span><span style=\"color: #262626; text-decoration-color: #262626\"> ─────────────────────────────────────────────────</span>\n",
       "</pre>\n"
      ],
      "text/plain": [
       "\u001b[38;5;235m───────────────────────────────────────────────── \u001b[0m\u001b[1mSelected tasks \u001b[0m\u001b[38;5;235m ─────────────────────────────────────────────────\u001b[0m\n"
      ]
     },
     "metadata": {},
     "output_type": "display_data"
    },
    {
     "data": {
      "text/html": [
       "<pre style=\"white-space:pre;overflow-x:auto;line-height:normal;font-family:Menlo,'DejaVu Sans Mono',consolas,'Courier New',monospace\"><span style=\"font-weight: bold\">Retrieval</span>\n",
       "</pre>\n"
      ],
      "text/plain": [
       "\u001b[1mRetrieval\u001b[0m\n"
      ]
     },
     "metadata": {},
     "output_type": "display_data"
    },
    {
     "data": {
      "text/html": [
       "<pre style=\"white-space:pre;overflow-x:auto;line-height:normal;font-family:Menlo,'DejaVu Sans Mono',consolas,'Courier New',monospace\">    - WebFAQRetrieval, <span style=\"color: #626262; text-decoration-color: #626262; font-style: italic\">s2p</span>, <span style=\"color: #800000; text-decoration-color: #800000; font-style: italic\">multilingual </span><span style=\"color: #800000; text-decoration-color: #800000; font-weight: bold; font-style: italic\">1</span><span style=\"color: #800000; text-decoration-color: #800000; font-style: italic\"> / </span><span style=\"color: #800000; text-decoration-color: #800000; font-weight: bold; font-style: italic\">49</span><span style=\"color: #800000; text-decoration-color: #800000; font-style: italic\"> Subsets</span>\n",
       "</pre>\n"
      ],
      "text/plain": [
       "    - WebFAQRetrieval, \u001b[3;38;5;241ms2p\u001b[0m, \u001b[3;31mmultilingual \u001b[0m\u001b[1;3;31m1\u001b[0m\u001b[3;31m \u001b[0m\u001b[3;31m/\u001b[0m\u001b[3;31m \u001b[0m\u001b[1;3;31m49\u001b[0m\u001b[3;31m Subsets\u001b[0m\n"
      ]
     },
     "metadata": {},
     "output_type": "display_data"
    },
    {
     "data": {
      "text/html": [
       "<pre style=\"white-space:pre;overflow-x:auto;line-height:normal;font-family:Menlo,'DejaVu Sans Mono',consolas,'Courier New',monospace\">\n",
       "\n",
       "</pre>\n"
      ],
      "text/plain": [
       "\n",
       "\n"
      ]
     },
     "metadata": {},
     "output_type": "display_data"
    },
    {
     "data": {
      "application/vnd.jupyter.widget-view+json": {
       "model_id": "77a6f47b87a24177ba1ba5772f5f2c30",
       "version_major": 2,
       "version_minor": 0
      },
      "text/plain": [
       "Batches:   0%|          | 0/215 [00:00<?, ?it/s]"
      ]
     },
     "metadata": {},
     "output_type": "display_data"
    },
    {
     "data": {
      "application/vnd.jupyter.widget-view+json": {
       "model_id": "3e997569dbe6413bb01f88eda619772a",
       "version_major": 2,
       "version_minor": 0
      },
      "text/plain": [
       "Batches:   0%|          | 0/1563 [00:00<?, ?it/s]"
      ]
     },
     "metadata": {},
     "output_type": "display_data"
    },
    {
     "data": {
      "application/vnd.jupyter.widget-view+json": {
       "model_id": "c872b6d554a84c23a5254840abe5ca06",
       "version_major": 2,
       "version_minor": 0
      },
      "text/plain": [
       "Batches:   0%|          | 0/579 [00:00<?, ?it/s]"
      ]
     },
     "metadata": {},
     "output_type": "display_data"
    },
    {
     "data": {
      "text/plain": [
       "[TaskResult(task_name=WebFAQRetrieval, scores=...)]"
      ]
     },
     "execution_count": 12,
     "metadata": {},
     "output_type": "execute_result"
    }
   ],
   "source": [
    "evaluation.run(xlm_roberta_ua_distilled, encode_kwargs={\"batch_size\": 32})"
   ]
  },
  {
   "cell_type": "markdown",
   "id": "8ca63b9c-0212-4d11-b7fd-afd427a8ebb4",
   "metadata": {},
   "source": [
    "**all-MiniLM-L6-v2** "
   ]
  },
  {
   "cell_type": "code",
   "execution_count": 21,
   "id": "fe4a5384-8b41-4ae3-91cc-00c15ef5e3ea",
   "metadata": {},
   "outputs": [
    {
     "data": {
      "text/html": [
       "<pre style=\"white-space:pre;overflow-x:auto;line-height:normal;font-family:Menlo,'DejaVu Sans Mono',consolas,'Courier New',monospace\"><span style=\"color: #262626; text-decoration-color: #262626\">───────────────────────────────────────────────── </span><span style=\"font-weight: bold\">Selected tasks </span><span style=\"color: #262626; text-decoration-color: #262626\"> ─────────────────────────────────────────────────</span>\n",
       "</pre>\n"
      ],
      "text/plain": [
       "\u001b[38;5;235m───────────────────────────────────────────────── \u001b[0m\u001b[1mSelected tasks \u001b[0m\u001b[38;5;235m ─────────────────────────────────────────────────\u001b[0m\n"
      ]
     },
     "metadata": {},
     "output_type": "display_data"
    },
    {
     "data": {
      "text/html": [
       "<pre style=\"white-space:pre;overflow-x:auto;line-height:normal;font-family:Menlo,'DejaVu Sans Mono',consolas,'Courier New',monospace\"><span style=\"font-weight: bold\">Retrieval</span>\n",
       "</pre>\n"
      ],
      "text/plain": [
       "\u001b[1mRetrieval\u001b[0m\n"
      ]
     },
     "metadata": {},
     "output_type": "display_data"
    },
    {
     "data": {
      "text/html": [
       "<pre style=\"white-space:pre;overflow-x:auto;line-height:normal;font-family:Menlo,'DejaVu Sans Mono',consolas,'Courier New',monospace\">    - WebFAQRetrieval, <span style=\"color: #626262; text-decoration-color: #626262; font-style: italic\">s2p</span>, <span style=\"color: #800000; text-decoration-color: #800000; font-style: italic\">multilingual </span><span style=\"color: #800000; text-decoration-color: #800000; font-weight: bold; font-style: italic\">1</span><span style=\"color: #800000; text-decoration-color: #800000; font-style: italic\"> / </span><span style=\"color: #800000; text-decoration-color: #800000; font-weight: bold; font-style: italic\">49</span><span style=\"color: #800000; text-decoration-color: #800000; font-style: italic\"> Subsets</span>\n",
       "</pre>\n"
      ],
      "text/plain": [
       "    - WebFAQRetrieval, \u001b[3;38;5;241ms2p\u001b[0m, \u001b[3;31mmultilingual \u001b[0m\u001b[1;3;31m1\u001b[0m\u001b[3;31m \u001b[0m\u001b[3;31m/\u001b[0m\u001b[3;31m \u001b[0m\u001b[1;3;31m49\u001b[0m\u001b[3;31m Subsets\u001b[0m\n"
      ]
     },
     "metadata": {},
     "output_type": "display_data"
    },
    {
     "data": {
      "text/html": [
       "<pre style=\"white-space:pre;overflow-x:auto;line-height:normal;font-family:Menlo,'DejaVu Sans Mono',consolas,'Courier New',monospace\">\n",
       "\n",
       "</pre>\n"
      ],
      "text/plain": [
       "\n",
       "\n"
      ]
     },
     "metadata": {},
     "output_type": "display_data"
    },
    {
     "data": {
      "text/plain": [
       "[TaskResult(task_name=WebFAQRetrieval, scores=...)]"
      ]
     },
     "execution_count": 21,
     "metadata": {},
     "output_type": "execute_result"
    }
   ],
   "source": [
    "evaluation.run(all_mini_l6, encode_kwargs={\"batch_size\": 32})"
   ]
  },
  {
   "cell_type": "markdown",
   "id": "bbc4afff-9996-44ea-9435-40b04916beb8",
   "metadata": {},
   "source": [
    "#### Minimal test on quotes"
   ]
  },
  {
   "cell_type": "code",
   "execution_count": 22,
   "id": "0cce7ada-bf00-4fed-99d3-e55b9db9eb12",
   "metadata": {},
   "outputs": [],
   "source": [
    "quotes = [\n",
    "    \"An idiot admires complexity, a genius admires simplicity.\",          # English\n",
    "    \"Ідіот захоплюється складністю, геній — простотою.\",                  # Ukrainian\n",
    "]\n",
    "\n",
    "quotes_antonyms = [\n",
    "    \"Hello, World!\",\n",
    "    \"Прощавай, Місяць.\"\n",
    "]\n",
    "\n",
    "# to check zero-shot crosslingual transfer effect \n",
    "quotes_extended = quotes + [\n",
    "    \"Идиот восхищается сложностью, гений — простотой.\",                   # Russian\n",
    "    \"Ідыёт захапляецца складанасцю, геній — прастатой.\",                  # Belarusian\n",
    "    \"Идиот се възхищава на сложността, гений — на простотата.\"            # Bulgarian\n",
    "]\n",
    "# P.S. I love Terry Davis."
   ]
  },
  {
   "cell_type": "markdown",
   "id": "c03a4b48-90aa-459c-945b-bf2801c32b12",
   "metadata": {},
   "source": [
    "**Close quotes**"
   ]
  },
  {
   "cell_type": "code",
   "execution_count": 23,
   "id": "34e16f14-964d-4ca8-8a15-c25ecd648ede",
   "metadata": {},
   "outputs": [
    {
     "data": {
      "text/plain": [
       "tensor([[1.0000, 0.9967],\n",
       "        [0.9967, 1.0000]])"
      ]
     },
     "execution_count": 23,
     "metadata": {},
     "output_type": "execute_result"
    }
   ],
   "source": [
    "embeds = xlm_roberta.encode(quotes)\n",
    "xlm_roberta.similarity(embeds, embeds)"
   ]
  },
  {
   "cell_type": "code",
   "execution_count": 24,
   "id": "5a64b4f5-6959-4dba-a090-368ecf75f053",
   "metadata": {},
   "outputs": [
    {
     "data": {
      "text/plain": [
       "tensor([[1.0000, 0.9446],\n",
       "        [0.9446, 1.0000]])"
      ]
     },
     "execution_count": 24,
     "metadata": {},
     "output_type": "execute_result"
    }
   ],
   "source": [
    "embeds = xlm_roberta_ua_distilled.encode(quotes)\n",
    "xlm_roberta_ua_distilled.similarity(embeds, embeds)"
   ]
  },
  {
   "cell_type": "markdown",
   "id": "33e7b445-5c78-455a-affe-9447a6ce7dc8",
   "metadata": {},
   "source": [
    "**Antonyms**"
   ]
  },
  {
   "cell_type": "code",
   "execution_count": 25,
   "id": "b3f406ee-1022-4762-bd0c-2f0377d2691e",
   "metadata": {},
   "outputs": [
    {
     "data": {
      "text/plain": [
       "tensor([[1.0000, 0.9867],\n",
       "        [0.9867, 1.0000]])"
      ]
     },
     "execution_count": 25,
     "metadata": {},
     "output_type": "execute_result"
    }
   ],
   "source": [
    "embeds = xlm_roberta.encode(quotes_antonyms)\n",
    "xlm_roberta.similarity(embeds, embeds)"
   ]
  },
  {
   "cell_type": "code",
   "execution_count": 26,
   "id": "320aeadb-fba2-4567-b336-41559dfbebf4",
   "metadata": {},
   "outputs": [
    {
     "data": {
      "text/plain": [
       "tensor([[1.0000, 0.7311],\n",
       "        [0.7311, 1.0000]])"
      ]
     },
     "execution_count": 26,
     "metadata": {},
     "output_type": "execute_result"
    }
   ],
   "source": [
    "embeds = xlm_roberta_ua_distilled.encode(quotes_antonyms)\n",
    "xlm_roberta_ua_distilled.similarity(embeds, embeds) "
   ]
  },
  {
   "cell_type": "markdown",
   "id": "7ee9e7fb-debd-496b-9640-43351acc6d89",
   "metadata": {},
   "source": [
    "**Zero-shot cross-lingual transfer**"
   ]
  },
  {
   "cell_type": "code",
   "execution_count": 27,
   "id": "e2dd7577-ff74-431a-a28d-57fbbeccf675",
   "metadata": {},
   "outputs": [
    {
     "data": {
      "text/plain": [
       "tensor([[1.0000, 0.9967, 0.9970, 0.9958, 0.9964],\n",
       "        [0.9967, 1.0000, 0.9983, 0.9971, 0.9978],\n",
       "        [0.9970, 0.9983, 1.0000, 0.9970, 0.9987],\n",
       "        [0.9958, 0.9971, 0.9970, 1.0000, 0.9964],\n",
       "        [0.9964, 0.9978, 0.9987, 0.9964, 1.0000]])"
      ]
     },
     "execution_count": 27,
     "metadata": {},
     "output_type": "execute_result"
    }
   ],
   "source": [
    "embeds = xlm_roberta.encode(quotes_extended)\n",
    "xlm_roberta.similarity(embeds, embeds)"
   ]
  },
  {
   "cell_type": "code",
   "execution_count": 28,
   "id": "54608e64-d595-4c4a-a66e-56460a90f651",
   "metadata": {},
   "outputs": [
    {
     "data": {
      "text/plain": [
       "tensor([[1.0000, 0.9446, 0.9264, 0.9150, 0.9338],\n",
       "        [0.9446, 1.0000, 0.9342, 0.9505, 0.9434],\n",
       "        [0.9264, 0.9342, 1.0000, 0.9301, 0.9913],\n",
       "        [0.9150, 0.9505, 0.9301, 1.0000, 0.9309],\n",
       "        [0.9338, 0.9434, 0.9913, 0.9309, 1.0000]])"
      ]
     },
     "execution_count": 28,
     "metadata": {},
     "output_type": "execute_result"
    }
   ],
   "source": [
    "embeds = xlm_roberta_ua_distilled.encode(quotes_extended)\n",
    "xlm_roberta_ua_distilled.similarity(embeds, embeds)"
   ]
  }
 ],
 "metadata": {
  "kernelspec": {
   "display_name": "embed_ua_base",
   "language": "python",
   "name": "embed_ua_base"
  },
  "language_info": {
   "codemirror_mode": {
    "name": "ipython",
    "version": 3
   },
   "file_extension": ".py",
   "mimetype": "text/x-python",
   "name": "python",
   "nbconvert_exporter": "python",
   "pygments_lexer": "ipython3",
   "version": "3.9.21"
  }
 },
 "nbformat": 4,
 "nbformat_minor": 5
}
