{
 "cells": [
  {
   "cell_type": "markdown",
   "id": "8a837128-7b99-4991-a14e-e199f93f3dec",
   "metadata": {},
   "source": [
    "#### Evaluating teacher and student models before training distillation"
   ]
  },
  {
   "cell_type": "code",
   "execution_count": 1,
   "id": "bdcf87ca-ad03-4a67-bad1-aa5e351c509b",
   "metadata": {},
   "outputs": [],
   "source": [
    "!uv pip install -qU sentence-transformers\n",
    "!uv pip install -q transformers\n",
    "!uv pip install -q datasets \n",
    "!uv pip install -q ipywidgets\n",
    "!uv pip install -q pandas \n",
    "!uv pip install -q 'accelerate>=0.26.0'"
   ]
  },
  {
   "cell_type": "code",
   "execution_count": 2,
   "id": "f24fb2dd-f83c-41b9-90fe-6d943f6fb82a",
   "metadata": {},
   "outputs": [
    {
     "data": {
      "text/plain": [
       "Dataset({\n",
       "    features: ['sentence1', 'sentence2', 'score', 'lang'],\n",
       "    num_rows: 250\n",
       "})"
      ]
     },
     "execution_count": 2,
     "metadata": {},
     "output_type": "execute_result"
    }
   ],
   "source": [
    "from datasets import load_dataset\n",
    "\n",
    "eval_dataset = load_dataset('mteb/sts17-crosslingual-sts', 'en-en', split='test')\n",
    "eval_dataset"
   ]
  },
  {
   "cell_type": "code",
   "execution_count": 3,
   "id": "92b8c65a-c8d3-41ad-8b90-74e8e20f1a67",
   "metadata": {},
   "outputs": [
    {
     "name": "stdout",
     "output_type": "stream",
     "text": [
      "<class 'pandas.core.frame.DataFrame'>\n",
      "RangeIndex: 250 entries, 0 to 249\n",
      "Data columns (total 4 columns):\n",
      " #   Column     Non-Null Count  Dtype  \n",
      "---  ------     --------------  -----  \n",
      " 0   sentence1  250 non-null    object \n",
      " 1   sentence2  250 non-null    object \n",
      " 2   score      250 non-null    float64\n",
      " 3   lang       250 non-null    object \n",
      "dtypes: float64(1), object(3)\n",
      "memory usage: 7.9+ KB\n"
     ]
    }
   ],
   "source": [
    "eval_dataset.set_format(type='pandas')\n",
    "eval_df = eval_dataset[:]\n",
    "eval_df.info()"
   ]
  },
  {
   "cell_type": "code",
   "execution_count": 4,
   "id": "fef6607d-71b6-4139-88fd-0ef7a7293e4d",
   "metadata": {},
   "outputs": [
    {
     "data": {
      "text/html": [
       "<div>\n",
       "<style scoped>\n",
       "    .dataframe tbody tr th:only-of-type {\n",
       "        vertical-align: middle;\n",
       "    }\n",
       "\n",
       "    .dataframe tbody tr th {\n",
       "        vertical-align: top;\n",
       "    }\n",
       "\n",
       "    .dataframe thead th {\n",
       "        text-align: right;\n",
       "    }\n",
       "</style>\n",
       "<table border=\"1\" class=\"dataframe\">\n",
       "  <thead>\n",
       "    <tr style=\"text-align: right;\">\n",
       "      <th></th>\n",
       "      <th>sentence1</th>\n",
       "      <th>sentence2</th>\n",
       "      <th>score</th>\n",
       "      <th>lang</th>\n",
       "    </tr>\n",
       "  </thead>\n",
       "  <tbody>\n",
       "    <tr>\n",
       "      <th>0</th>\n",
       "      <td>A person is on a baseball team.</td>\n",
       "      <td>A person is playing basketball on a team.</td>\n",
       "      <td>2.4</td>\n",
       "      <td>en-en</td>\n",
       "    </tr>\n",
       "    <tr>\n",
       "      <th>1</th>\n",
       "      <td>Our current vehicles will be in museums when e...</td>\n",
       "      <td>The car needs to some work</td>\n",
       "      <td>0.2</td>\n",
       "      <td>en-en</td>\n",
       "    </tr>\n",
       "    <tr>\n",
       "      <th>2</th>\n",
       "      <td>A woman supervisor is instructing the male wor...</td>\n",
       "      <td>A woman is working as a nurse.</td>\n",
       "      <td>1.0</td>\n",
       "      <td>en-en</td>\n",
       "    </tr>\n",
       "    <tr>\n",
       "      <th>3</th>\n",
       "      <td>A bike is next to a couple women.</td>\n",
       "      <td>A child next to a bike.</td>\n",
       "      <td>2.0</td>\n",
       "      <td>en-en</td>\n",
       "    </tr>\n",
       "    <tr>\n",
       "      <th>4</th>\n",
       "      <td>The group is eating while taking in a breathta...</td>\n",
       "      <td>A group of people take a look at an unusual tree.</td>\n",
       "      <td>2.2</td>\n",
       "      <td>en-en</td>\n",
       "    </tr>\n",
       "  </tbody>\n",
       "</table>\n",
       "</div>"
      ],
      "text/plain": [
       "                                           sentence1  \\\n",
       "0                    A person is on a baseball team.   \n",
       "1  Our current vehicles will be in museums when e...   \n",
       "2  A woman supervisor is instructing the male wor...   \n",
       "3                  A bike is next to a couple women.   \n",
       "4  The group is eating while taking in a breathta...   \n",
       "\n",
       "                                           sentence2  score   lang  \n",
       "0          A person is playing basketball on a team.    2.4  en-en  \n",
       "1                         The car needs to some work    0.2  en-en  \n",
       "2                     A woman is working as a nurse.    1.0  en-en  \n",
       "3                            A child next to a bike.    2.0  en-en  \n",
       "4  A group of people take a look at an unusual tree.    2.2  en-en  "
      ]
     },
     "execution_count": 4,
     "metadata": {},
     "output_type": "execute_result"
    }
   ],
   "source": [
    "eval_df.head() "
   ]
  },
  {
   "cell_type": "markdown",
   "id": "1ad8b13d-3ca2-4c09-9c4d-f05cb5f5edab",
   "metadata": {},
   "source": [
    "#### Student model "
   ]
  },
  {
   "cell_type": "code",
   "execution_count": 5,
   "id": "9a1679fa-3f1e-401f-ba60-932a3359df29",
   "metadata": {},
   "outputs": [
    {
     "data": {
      "text/plain": [
       "SentenceTransformer(\n",
       "  (0): Transformer({'max_seq_length': 512, 'do_lower_case': False}) with Transformer model: XLMRobertaModel \n",
       "  (1): Pooling({'word_embedding_dimension': 768, 'pooling_mode_cls_token': False, 'pooling_mode_mean_tokens': True, 'pooling_mode_max_tokens': False, 'pooling_mode_mean_sqrt_len_tokens': False, 'pooling_mode_weightedmean_tokens': False, 'pooling_mode_lasttoken': False, 'include_prompt': True})\n",
       ")"
      ]
     },
     "execution_count": 5,
     "metadata": {},
     "output_type": "execute_result"
    }
   ],
   "source": [
    "import torch \n",
    "from sentence_transformers import SentenceTransformer\n",
    "from sentence_transformers.models import Transformer, Pooling \n",
    "\n",
    "student_model_id = 'FacebookAI/xlm-roberta-base'\n",
    "transformer_module = Transformer(student_model_id, model_args=dict(torch_dtype=torch.float16))\n",
    "pooling_module = Pooling(\n",
    "    word_embedding_dimension=transformer_module.get_word_embedding_dimension(),\n",
    "    pooling_mode_cls_token=False,\n",
    "    pooling_mode_mean_tokens=True\n",
    ")\n",
    "student_model = SentenceTransformer(modules=[transformer_module, pooling_module])\n",
    "student_model.to('cuda')\n",
    "student_model"
   ]
  },
  {
   "cell_type": "code",
   "execution_count": 6,
   "id": "e5a56721-dddf-4313-9ce8-847997cf5376",
   "metadata": {},
   "outputs": [
    {
     "data": {
      "text/plain": [
       "torch.float16"
      ]
     },
     "execution_count": 6,
     "metadata": {},
     "output_type": "execute_result"
    }
   ],
   "source": [
    "student_model[0].auto_model.dtype "
   ]
  },
  {
   "cell_type": "markdown",
   "id": "004a95e5-a8f2-40bd-a9d0-5600aca3cb05",
   "metadata": {},
   "source": [
    "#### Teacher model "
   ]
  },
  {
   "cell_type": "code",
   "execution_count": 7,
   "id": "b90bfeb8-298f-425c-8fb7-93b2de8cbf3b",
   "metadata": {},
   "outputs": [
    {
     "data": {
      "text/plain": [
       "SentenceTransformer(\n",
       "  (0): Transformer({'max_seq_length': 512, 'do_lower_case': False}) with Transformer model: MPNetModel \n",
       "  (1): Pooling({'word_embedding_dimension': 768, 'pooling_mode_cls_token': True, 'pooling_mode_mean_tokens': False, 'pooling_mode_max_tokens': False, 'pooling_mode_mean_sqrt_len_tokens': False, 'pooling_mode_weightedmean_tokens': False, 'pooling_mode_lasttoken': False, 'include_prompt': True})\n",
       ")"
      ]
     },
     "execution_count": 7,
     "metadata": {},
     "output_type": "execute_result"
    }
   ],
   "source": [
    "from sentence_transformers import SentenceTransformer\n",
    "\n",
    "teacher_model_id = 'sentence-transformers/multi-qa-mpnet-base-dot-v1'\n",
    "transformer_module = Transformer(teacher_model_id, model_args=dict(torch_dtype=torch.float16))\n",
    "pooling_module = Pooling(\n",
    "    word_embedding_dimension=transformer_module.get_word_embedding_dimension(),\n",
    "    pooling_mode_cls_token=True,\n",
    "    pooling_mode_mean_tokens=False\n",
    ")\n",
    "teacher_model = SentenceTransformer(modules=[transformer_module, pooling_module])\n",
    "teacher_model.to('cuda')\n",
    "teacher_model "
   ]
  },
  {
   "cell_type": "code",
   "execution_count": 8,
   "id": "8a7e258d-839e-485a-91c7-deab8eb0972b",
   "metadata": {},
   "outputs": [
    {
     "data": {
      "text/plain": [
       "torch.float16"
      ]
     },
     "execution_count": 8,
     "metadata": {},
     "output_type": "execute_result"
    }
   ],
   "source": [
    "teacher_model[0].auto_model.dtype "
   ]
  },
  {
   "cell_type": "markdown",
   "id": "e142897b-d152-4aac-bfb1-c64dcd48bc91",
   "metadata": {},
   "source": [
    "#### Defining evaluator "
   ]
  },
  {
   "cell_type": "code",
   "execution_count": 9,
   "id": "6a64f93e-978e-4a85-b33e-8c6a4ff305f9",
   "metadata": {},
   "outputs": [],
   "source": [
    "from sentence_transformers.evaluation import EmbeddingSimilarityEvaluator\n",
    "\n",
    "embed_sim_eval = EmbeddingSimilarityEvaluator(\n",
    "    sentences1=eval_dataset['sentence1'],\n",
    "    sentences2=eval_dataset['sentence2'],\n",
    "    scores=[score / 5.0 for score in eval_dataset['score']],\n",
    "    name=f'en-en-test',\n",
    "    show_progress_bar=False\n",
    ")"
   ]
  },
  {
   "cell_type": "code",
   "execution_count": 10,
   "id": "5c3fe72f-5e1d-456d-af6a-f0e4f4b88412",
   "metadata": {},
   "outputs": [],
   "source": [
    "model = teacher_model # student/teacher "
   ]
  },
  {
   "cell_type": "code",
   "execution_count": 11,
   "id": "ed204dcf-1ee9-46ef-bab2-06a21477a8a5",
   "metadata": {},
   "outputs": [
    {
     "data": {
      "text/plain": [
       "{'eval_model_preparation_time': 0.0019,\n",
       " 'eval_en-en-test_pearson_cosine': 0.7372142557329914,\n",
       " 'eval_en-en-test_spearman_cosine': 0.7581291730279394,\n",
       " 'eval_runtime': 0.5112,\n",
       " 'eval_samples_per_second': 0.0,\n",
       " 'eval_steps_per_second': 0.0}"
      ]
     },
     "execution_count": 11,
     "metadata": {},
     "output_type": "execute_result"
    }
   ],
   "source": [
    "from sentence_transformers import SentenceTransformerTrainer \n",
    "\n",
    "trainer = SentenceTransformerTrainer(\n",
    "    model=model,\n",
    "    evaluator=embed_sim_eval\n",
    ") \n",
    "trainer.evaluate()"
   ]
  },
  {
   "cell_type": "markdown",
   "id": "26610386-2e4d-4428-96a1-d06a084d0ba4",
   "metadata": {},
   "source": [
    "#### Results \n",
    "\n",
    "The performance is measured using Spearman correlation between the predicted similarity score and the gold score for different model configurations.\n",
    "\n",
    "| Model                                               | En - En | En - Ua | Ua - Ua | \n",
    "| --------------------------------------------------- | ------- | ------- | ------- |\n",
    "| XLM-RoBERTa (mean pooling, float 32)                |  52.2   | - | - |\n",
    "| XLM-RoBERTa (mean pooling, float 16)                |  52.2   |- | - |\n",
    "| XLM-RoBERTa (cls token, float 32)                   |  5.8    |- | - |\n",
    "| multi-qa-mpnet-base-dot-v1 (cls token, float 32)    |  76.8   |- | - |\n",
    "| multi-qa-mpnet-base-dot-v1 (cls token, float 16)    |  76.7   |- | - |\n",
    "| multi-qa-mpnet-base-dot-v1 (mean pooling, float 32) |  76.0   |- | - |\n",
    " "
   ]
  },
  {
   "cell_type": "markdown",
   "id": "9d3e7bf2-f116-408f-a472-c614e803cb5f",
   "metadata": {},
   "source": [
    "#### Conclusions\n",
    "\n",
    "Loading models with lower `fp16` precision doesn't change the results.\n",
    "\n",
    "`multi-qa-mpnet-base-dot-v1` (a monolingual model) achieves better performance on the STS Benchmark (Semantic Textual Similarity Benchmark) for `en-en` pairs.\n",
    "\n",
    "Changing the pooling strategy for XLM-RoBERTa (initially loaded with mean pooling) to CLS token results in a significant performance decrease.\n",
    "\n",
    "In contrast, changing the pooling strategy for `multi-qa-mpnet-base-dot-v1` to mean (initially loaded with CLS) results in only a minor decrease.\n"
   ]
  },
  {
   "cell_type": "code",
   "execution_count": null,
   "id": "7c2ae921-d94a-40e3-9dde-65418923eed3",
   "metadata": {},
   "outputs": [],
   "source": []
  }
 ],
 "metadata": {
  "kernelspec": {
   "display_name": "embed_ua_base",
   "language": "python",
   "name": "embed_ua_base"
  },
  "language_info": {
   "codemirror_mode": {
    "name": "ipython",
    "version": 3
   },
   "file_extension": ".py",
   "mimetype": "text/x-python",
   "name": "python",
   "nbconvert_exporter": "python",
   "pygments_lexer": "ipython3",
   "version": "3.9.21"
  }
 },
 "nbformat": 4,
 "nbformat_minor": 5
}
