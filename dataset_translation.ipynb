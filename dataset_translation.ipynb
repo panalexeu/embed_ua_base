{
 "cells": [
  {
   "cell_type": "code",
   "execution_count": 10,
   "id": "42198c13-d113-4d50-8f20-3604c87de43c",
   "metadata": {},
   "outputs": [],
   "source": [
    "!uv pip install -qU sentence-transformers\n",
    "!uv pip install -q transformers\n",
    "!uv pip install -q datasets \n",
    "!uv pip install -q ipywidgets\n",
    "!uv pip install -q pandas \n",
    "!uv pip install -q 'accelerate>=0.26.0'\n",
    "!uv pip install -q openai\n",
    "!uv pip install -q python-dotenv"
   ]
  },
  {
   "cell_type": "markdown",
   "id": "95c9819b-d702-4a34-a8ef-8d4bde2fe882",
   "metadata": {},
   "source": [
    "#### Translating mteb/sts17-crosslingual-sts"
   ]
  },
  {
   "cell_type": "markdown",
   "id": "fb22abc4-e626-45e2-9ce7-e3f6993865e3",
   "metadata": {},
   "source": [
    "We will use OpenAI's `gpt-4o-mini` and `gpt-4o` to machinely translate `en-en` pairs to include `ua-ua` and `en-ua` pairs. For additional research, the benchmark may also be translated into languages that are close or similar to Ukrainian.\n"
   ]
  },
  {
   "cell_type": "markdown",
   "id": "b893ca0b-779a-41de-af94-3634cdddf7a0",
   "metadata": {},
   "source": [
    "#### Define OpenAI client and test API key "
   ]
  },
  {
   "cell_type": "code",
   "execution_count": 35,
   "id": "78f77d7f-0312-4f2e-97ce-d19d26748f9b",
   "metadata": {},
   "outputs": [],
   "source": [
    "import os \n",
    "\n",
    "from openai import AsyncOpenAI\n",
    "from dotenv import load_dotenv\n",
    "\n",
    "load_dotenv()\n",
    "client = AsyncOpenAI()"
   ]
  },
  {
   "cell_type": "code",
   "execution_count": 30,
   "id": "4b67e586-c544-41fd-8ef4-0f0ac9023370",
   "metadata": {},
   "outputs": [
    {
     "data": {
      "text/plain": [
       "'Odessa is a major port city on the Black Sea in southern Ukraine. It is known for its rich history, diverse culture, and significant role in trade and shipping. Odessa is also famous for its architecture, including the Potemkin Stairs, and its vibrant arts scene.'"
      ]
     },
     "execution_count": 30,
     "metadata": {},
     "output_type": "execute_result"
    }
   ],
   "source": [
    "res = await client.responses.create(\n",
    "    model='gpt-4o-mini',\n",
    "    instructions='You are a helpful AI assistant.',\n",
    "    input='Briefly answer: \"What is Odessa?\"'\n",
    ")\n",
    "res.output_text"
   ]
  },
  {
   "cell_type": "markdown",
   "id": "d094ccd3-c9d8-4fef-8001-66a3b7e73fd8",
   "metadata": {},
   "source": [
    "#### Load dataset"
   ]
  },
  {
   "cell_type": "code",
   "execution_count": 31,
   "id": "8ae8c58a-18b5-44f7-b1b9-be12fc417ca0",
   "metadata": {},
   "outputs": [
    {
     "name": "stdout",
     "output_type": "stream",
     "text": [
      "<class 'pandas.core.frame.DataFrame'>\n",
      "RangeIndex: 250 entries, 0 to 249\n",
      "Data columns (total 4 columns):\n",
      " #   Column     Non-Null Count  Dtype  \n",
      "---  ------     --------------  -----  \n",
      " 0   sentence1  250 non-null    object \n",
      " 1   sentence2  250 non-null    object \n",
      " 2   score      250 non-null    float64\n",
      " 3   lang       250 non-null    object \n",
      "dtypes: float64(1), object(3)\n",
      "memory usage: 7.9+ KB\n"
     ]
    }
   ],
   "source": [
    "from datasets import load_dataset\n",
    "\n",
    "dataset = load_dataset('mteb/sts17-crosslingual-sts', 'en-en', split='test')\n",
    "dataset.set_format(type='pandas')\n",
    "df = dataset[:]\n",
    "df.info()"
   ]
  },
  {
   "cell_type": "code",
   "execution_count": 19,
   "id": "25030046-180b-4099-a46c-699076a874e2",
   "metadata": {},
   "outputs": [
    {
     "data": {
      "text/html": [
       "<div>\n",
       "<style scoped>\n",
       "    .dataframe tbody tr th:only-of-type {\n",
       "        vertical-align: middle;\n",
       "    }\n",
       "\n",
       "    .dataframe tbody tr th {\n",
       "        vertical-align: top;\n",
       "    }\n",
       "\n",
       "    .dataframe thead th {\n",
       "        text-align: right;\n",
       "    }\n",
       "</style>\n",
       "<table border=\"1\" class=\"dataframe\">\n",
       "  <thead>\n",
       "    <tr style=\"text-align: right;\">\n",
       "      <th></th>\n",
       "      <th>sentence1</th>\n",
       "      <th>sentence2</th>\n",
       "      <th>score</th>\n",
       "      <th>lang</th>\n",
       "    </tr>\n",
       "  </thead>\n",
       "  <tbody>\n",
       "    <tr>\n",
       "      <th>0</th>\n",
       "      <td>A person is on a baseball team.</td>\n",
       "      <td>A person is playing basketball on a team.</td>\n",
       "      <td>2.4</td>\n",
       "      <td>en-en</td>\n",
       "    </tr>\n",
       "    <tr>\n",
       "      <th>1</th>\n",
       "      <td>Our current vehicles will be in museums when e...</td>\n",
       "      <td>The car needs to some work</td>\n",
       "      <td>0.2</td>\n",
       "      <td>en-en</td>\n",
       "    </tr>\n",
       "    <tr>\n",
       "      <th>2</th>\n",
       "      <td>A woman supervisor is instructing the male wor...</td>\n",
       "      <td>A woman is working as a nurse.</td>\n",
       "      <td>1.0</td>\n",
       "      <td>en-en</td>\n",
       "    </tr>\n",
       "    <tr>\n",
       "      <th>3</th>\n",
       "      <td>A bike is next to a couple women.</td>\n",
       "      <td>A child next to a bike.</td>\n",
       "      <td>2.0</td>\n",
       "      <td>en-en</td>\n",
       "    </tr>\n",
       "    <tr>\n",
       "      <th>4</th>\n",
       "      <td>The group is eating while taking in a breathta...</td>\n",
       "      <td>A group of people take a look at an unusual tree.</td>\n",
       "      <td>2.2</td>\n",
       "      <td>en-en</td>\n",
       "    </tr>\n",
       "  </tbody>\n",
       "</table>\n",
       "</div>"
      ],
      "text/plain": [
       "                                           sentence1  \\\n",
       "0                    A person is on a baseball team.   \n",
       "1  Our current vehicles will be in museums when e...   \n",
       "2  A woman supervisor is instructing the male wor...   \n",
       "3                  A bike is next to a couple women.   \n",
       "4  The group is eating while taking in a breathta...   \n",
       "\n",
       "                                           sentence2  score   lang  \n",
       "0          A person is playing basketball on a team.    2.4  en-en  \n",
       "1                         The car needs to some work    0.2  en-en  \n",
       "2                     A woman is working as a nurse.    1.0  en-en  \n",
       "3                            A child next to a bike.    2.0  en-en  \n",
       "4  A group of people take a look at an unusual tree.    2.2  en-en  "
      ]
     },
     "execution_count": 19,
     "metadata": {},
     "output_type": "execute_result"
    }
   ],
   "source": [
    "df.head()"
   ]
  },
  {
   "cell_type": "markdown",
   "id": "01ef1a48-7998-4c8c-8147-46921a123c6d",
   "metadata": {},
   "source": [
    "#### Translation "
   ]
  },
  {
   "cell_type": "code",
   "execution_count": 70,
   "id": "0fc925e1-b5f8-4687-951c-9a3c1bdfeb5b",
   "metadata": {},
   "outputs": [],
   "source": [
    "async def translate(client: AsyncOpenAI, sentence: str, language: str) -> str:\n",
    "    res = await client.responses.create(\n",
    "        model='gpt-4o',\n",
    "        instructions=f'''\n",
    "You are a helpful AI assistant. Please translate the following sentence into {language} language, \n",
    "using the most natural and fluent wording a native speaker would use.''',\n",
    "        input=sentence\n",
    "    )\n",
    "    return res.output_text\n"
   ]
  },
  {
   "cell_type": "code",
   "execution_count": 71,
   "id": "2b0fed6c-393f-433d-be88-76c58c738120",
   "metadata": {},
   "outputs": [],
   "source": [
    "LANGUAGE = 'Ukrainian'"
   ]
  },
  {
   "cell_type": "markdown",
   "id": "20bd4994-10bf-4d2a-b0d8-ca84738508e7",
   "metadata": {},
   "source": [
    "**Translate `sentence1` column asynchronously**"
   ]
  },
  {
   "cell_type": "code",
   "execution_count": 72,
   "id": "f42560f0-7bec-438c-8271-3e8de14cbcc2",
   "metadata": {},
   "outputs": [
    {
     "data": {
      "text/plain": [
       "250"
      ]
     },
     "execution_count": 72,
     "metadata": {},
     "output_type": "execute_result"
    }
   ],
   "source": [
    "# gathering asynchronous tasks \n",
    "tasks = []\n",
    "for sentence in df['sentence1']:\n",
    "    tasks.append(\n",
    "        translate(\n",
    "            client,\n",
    "            sentence,\n",
    "            LANGUAGE,\n",
    "        )\n",
    "    )\n",
    "len(tasks)"
   ]
  },
  {
   "cell_type": "code",
   "execution_count": 73,
   "id": "d1c75901-9185-49a8-9ab3-1e401c46ac28",
   "metadata": {},
   "outputs": [
    {
     "name": "stdout",
     "output_type": "stream",
     "text": [
      "Translation complete in: 8.631850481033325\n"
     ]
    }
   ],
   "source": [
    "import time \n",
    "import asyncio \n",
    "\n",
    "# asynchronously translate 250 sentences!\n",
    "start = time.time()\n",
    "sentence1 = await asyncio.gather(*tasks)\n",
    "end = time.time()\n",
    "\n",
    "print(f'Translation complete in: {end - start}')"
   ]
  },
  {
   "cell_type": "code",
   "execution_count": 74,
   "id": "22371e5b-1e04-45fc-8154-9d2839c55d88",
   "metadata": {},
   "outputs": [
    {
     "name": "stdout",
     "output_type": "stream",
     "text": [
      "250\n"
     ]
    },
    {
     "data": {
      "text/plain": [
       "['Людина є членом бейсбольної команди.',\n",
       " 'Наші теперішні автомобілі будуть в музеях, коли у кожного буде свій власний літальний апарат.',\n",
       " 'Жінка-керівник керує чоловіками-працівниками.']"
      ]
     },
     "execution_count": 74,
     "metadata": {},
     "output_type": "execute_result"
    }
   ],
   "source": [
    "print(len(sentence1))\n",
    "sentence1[:3]"
   ]
  },
  {
   "cell_type": "markdown",
   "id": "a724c735-02cb-4e1b-a1e1-68e2bc61b58a",
   "metadata": {},
   "source": [
    "**Translate `sentence2` column asynchronously**"
   ]
  },
  {
   "cell_type": "code",
   "execution_count": 75,
   "id": "6736b34e-3065-4288-a7bc-e6a63393fce1",
   "metadata": {},
   "outputs": [
    {
     "data": {
      "text/plain": [
       "250"
      ]
     },
     "execution_count": 75,
     "metadata": {},
     "output_type": "execute_result"
    }
   ],
   "source": [
    "# gathering asynchronous tasks \n",
    "tasks = []\n",
    "for sentence in df['sentence2']:\n",
    "    tasks.append(\n",
    "        translate(\n",
    "            client,\n",
    "            sentence,\n",
    "            LANGUAGE,\n",
    "        )\n",
    "    )\n",
    "len(tasks)"
   ]
  },
  {
   "cell_type": "code",
   "execution_count": 76,
   "id": "9c241148-7086-4390-97ec-9af18363d688",
   "metadata": {},
   "outputs": [
    {
     "name": "stdout",
     "output_type": "stream",
     "text": [
      "Translation complete in: 9.55114197731018\n"
     ]
    }
   ],
   "source": [
    "import time \n",
    "import asyncio \n",
    "\n",
    "# asynchronously translate 250 sentences!\n",
    "start = time.time()\n",
    "sentence2 = await asyncio.gather(*tasks)\n",
    "end = time.time()\n",
    "\n",
    "print(f'Translation complete in: {end - start}')"
   ]
  },
  {
   "cell_type": "code",
   "execution_count": 77,
   "id": "125e957b-7f86-4306-9f0c-7781f9e166bd",
   "metadata": {},
   "outputs": [
    {
     "name": "stdout",
     "output_type": "stream",
     "text": [
      "250\n"
     ]
    },
    {
     "data": {
      "text/plain": [
       "['Одна людина грає в баскетбол у команді.',\n",
       " 'Автомобіль потребує ремонту.',\n",
       " 'Жінка працює медсестрою.']"
      ]
     },
     "execution_count": 77,
     "metadata": {},
     "output_type": "execute_result"
    }
   ],
   "source": [
    "print(len(sentence2))\n",
    "sentence2[:3]"
   ]
  },
  {
   "cell_type": "markdown",
   "id": "737c854d-1db2-49bb-87da-804c6d9cfb5b",
   "metadata": {},
   "source": [
    "#### Update dataframes"
   ]
  },
  {
   "cell_type": "code",
   "execution_count": 78,
   "id": "29423d5c-cac9-49af-afa1-698f459be422",
   "metadata": {},
   "outputs": [
    {
     "data": {
      "text/html": [
       "<div>\n",
       "<style scoped>\n",
       "    .dataframe tbody tr th:only-of-type {\n",
       "        vertical-align: middle;\n",
       "    }\n",
       "\n",
       "    .dataframe tbody tr th {\n",
       "        vertical-align: top;\n",
       "    }\n",
       "\n",
       "    .dataframe thead th {\n",
       "        text-align: right;\n",
       "    }\n",
       "</style>\n",
       "<table border=\"1\" class=\"dataframe\">\n",
       "  <thead>\n",
       "    <tr style=\"text-align: right;\">\n",
       "      <th></th>\n",
       "      <th>score</th>\n",
       "      <th>sentence1</th>\n",
       "      <th>sentence2</th>\n",
       "      <th>lang</th>\n",
       "    </tr>\n",
       "  </thead>\n",
       "  <tbody>\n",
       "    <tr>\n",
       "      <th>0</th>\n",
       "      <td>2.4</td>\n",
       "      <td>Людина є членом бейсбольної команди.</td>\n",
       "      <td>Одна людина грає в баскетбол у команді.</td>\n",
       "      <td>ua-ua</td>\n",
       "    </tr>\n",
       "    <tr>\n",
       "      <th>1</th>\n",
       "      <td>0.2</td>\n",
       "      <td>Наші теперішні автомобілі будуть в музеях, кол...</td>\n",
       "      <td>Автомобіль потребує ремонту.</td>\n",
       "      <td>ua-ua</td>\n",
       "    </tr>\n",
       "    <tr>\n",
       "      <th>2</th>\n",
       "      <td>1.0</td>\n",
       "      <td>Жінка-керівник керує чоловіками-працівниками.</td>\n",
       "      <td>Жінка працює медсестрою.</td>\n",
       "      <td>ua-ua</td>\n",
       "    </tr>\n",
       "    <tr>\n",
       "      <th>3</th>\n",
       "      <td>2.0</td>\n",
       "      <td>Велосипед стоїть поруч із кількома жінками.</td>\n",
       "      <td>Дитина поруч із велосипедом.</td>\n",
       "      <td>ua-ua</td>\n",
       "    </tr>\n",
       "    <tr>\n",
       "      <th>4</th>\n",
       "      <td>2.2</td>\n",
       "      <td>Група їсть, насолоджуючись захоплюючим краєвидом.</td>\n",
       "      <td>Група людей оглядає незвичне дерево.</td>\n",
       "      <td>ua-ua</td>\n",
       "    </tr>\n",
       "  </tbody>\n",
       "</table>\n",
       "</div>"
      ],
      "text/plain": [
       "   score                                          sentence1  \\\n",
       "0    2.4               Людина є членом бейсбольної команди.   \n",
       "1    0.2  Наші теперішні автомобілі будуть в музеях, кол...   \n",
       "2    1.0      Жінка-керівник керує чоловіками-працівниками.   \n",
       "3    2.0        Велосипед стоїть поруч із кількома жінками.   \n",
       "4    2.2  Група їсть, насолоджуючись захоплюючим краєвидом.   \n",
       "\n",
       "                                 sentence2   lang  \n",
       "0  Одна людина грає в баскетбол у команді.  ua-ua  \n",
       "1             Автомобіль потребує ремонту.  ua-ua  \n",
       "2                 Жінка працює медсестрою.  ua-ua  \n",
       "3             Дитина поруч із велосипедом.  ua-ua  \n",
       "4     Група людей оглядає незвичне дерево.  ua-ua  "
      ]
     },
     "execution_count": 78,
     "metadata": {},
     "output_type": "execute_result"
    }
   ],
   "source": [
    "import pandas as pd\n",
    "\n",
    "# ua-ua\n",
    "ua_ua_df = pd.DataFrame() \n",
    "ua_ua_df['score'] = df['score']\n",
    "ua_ua_df['sentence1'] = sentence1\n",
    "ua_ua_df['sentence2'] = sentence2\n",
    "ua_ua_df['lang'] = ['ua-ua'] * len(df)\n",
    "\n",
    "ua_ua_df.head()"
   ]
  },
  {
   "cell_type": "code",
   "execution_count": 79,
   "id": "fd68dd56-2863-46ab-b5bc-4ab936dd0b4a",
   "metadata": {},
   "outputs": [
    {
     "data": {
      "text/html": [
       "<div>\n",
       "<style scoped>\n",
       "    .dataframe tbody tr th:only-of-type {\n",
       "        vertical-align: middle;\n",
       "    }\n",
       "\n",
       "    .dataframe tbody tr th {\n",
       "        vertical-align: top;\n",
       "    }\n",
       "\n",
       "    .dataframe thead th {\n",
       "        text-align: right;\n",
       "    }\n",
       "</style>\n",
       "<table border=\"1\" class=\"dataframe\">\n",
       "  <thead>\n",
       "    <tr style=\"text-align: right;\">\n",
       "      <th></th>\n",
       "      <th>score</th>\n",
       "      <th>sentence1</th>\n",
       "      <th>sentence2</th>\n",
       "      <th>lang</th>\n",
       "    </tr>\n",
       "  </thead>\n",
       "  <tbody>\n",
       "    <tr>\n",
       "      <th>0</th>\n",
       "      <td>2.4</td>\n",
       "      <td>A person is on a baseball team.</td>\n",
       "      <td>Одна людина грає в баскетбол у команді.</td>\n",
       "      <td>en-ua</td>\n",
       "    </tr>\n",
       "    <tr>\n",
       "      <th>1</th>\n",
       "      <td>0.2</td>\n",
       "      <td>Our current vehicles will be in museums when e...</td>\n",
       "      <td>Автомобіль потребує ремонту.</td>\n",
       "      <td>en-ua</td>\n",
       "    </tr>\n",
       "    <tr>\n",
       "      <th>2</th>\n",
       "      <td>1.0</td>\n",
       "      <td>A woman supervisor is instructing the male wor...</td>\n",
       "      <td>Жінка працює медсестрою.</td>\n",
       "      <td>en-ua</td>\n",
       "    </tr>\n",
       "    <tr>\n",
       "      <th>3</th>\n",
       "      <td>2.0</td>\n",
       "      <td>A bike is next to a couple women.</td>\n",
       "      <td>Дитина поруч із велосипедом.</td>\n",
       "      <td>en-ua</td>\n",
       "    </tr>\n",
       "    <tr>\n",
       "      <th>4</th>\n",
       "      <td>2.2</td>\n",
       "      <td>The group is eating while taking in a breathta...</td>\n",
       "      <td>Група людей оглядає незвичне дерево.</td>\n",
       "      <td>en-ua</td>\n",
       "    </tr>\n",
       "  </tbody>\n",
       "</table>\n",
       "</div>"
      ],
      "text/plain": [
       "   score                                          sentence1  \\\n",
       "0    2.4                    A person is on a baseball team.   \n",
       "1    0.2  Our current vehicles will be in museums when e...   \n",
       "2    1.0  A woman supervisor is instructing the male wor...   \n",
       "3    2.0                  A bike is next to a couple women.   \n",
       "4    2.2  The group is eating while taking in a breathta...   \n",
       "\n",
       "                                 sentence2   lang  \n",
       "0  Одна людина грає в баскетбол у команді.  en-ua  \n",
       "1             Автомобіль потребує ремонту.  en-ua  \n",
       "2                 Жінка працює медсестрою.  en-ua  \n",
       "3             Дитина поруч із велосипедом.  en-ua  \n",
       "4     Група людей оглядає незвичне дерево.  en-ua  "
      ]
     },
     "execution_count": 79,
     "metadata": {},
     "output_type": "execute_result"
    }
   ],
   "source": [
    "# en-ua \n",
    "\n",
    "en_ua_df = pd.DataFrame() \n",
    "en_ua_df['score'] = df['score']\n",
    "en_ua_df['sentence1'] = df['sentence1'] # en \n",
    "en_ua_df['sentence2'] = sentence2 # ua\n",
    "en_ua_df['lang'] = ['en-ua'] * len(df)\n",
    "\n",
    "en_ua_df.head()"
   ]
  },
  {
   "cell_type": "markdown",
   "id": "a86539ef-c5f3-427e-b75b-479a9b21624b",
   "metadata": {},
   "source": [
    "#### Save translated datasets"
   ]
  },
  {
   "cell_type": "code",
   "execution_count": 80,
   "id": "597c6b74-69ce-4667-a882-1fc75dc0e18a",
   "metadata": {},
   "outputs": [],
   "source": [
    "en_ua_df.to_csv('./datasets/sts17-en-ua-gpt-4o.csv', index=False)\n",
    "ua_ua_df.to_csv('./datasets/sts17-ua-ua-gpt-4o.csv', index=False)"
   ]
  },
  {
   "cell_type": "code",
   "execution_count": null,
   "id": "0a73ef25-ca6b-4802-bba2-ad30ff3dbde5",
   "metadata": {},
   "outputs": [],
   "source": []
  }
 ],
 "metadata": {
  "kernelspec": {
   "display_name": "embed_ua_base",
   "language": "python",
   "name": "embed_ua_base"
  },
  "language_info": {
   "codemirror_mode": {
    "name": "ipython",
    "version": 3
   },
   "file_extension": ".py",
   "mimetype": "text/x-python",
   "name": "python",
   "nbconvert_exporter": "python",
   "pygments_lexer": "ipython3",
   "version": "3.9.21"
  }
 },
 "nbformat": 4,
 "nbformat_minor": 5
}
