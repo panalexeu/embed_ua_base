{
 "cells": [
  {
   "cell_type": "markdown",
   "id": "95c9819b-d702-4a34-a8ef-8d4bde2fe882",
   "metadata": {},
   "source": [
    "#### Translating mteb/sts17-crosslingual-sts"
   ]
  },
  {
   "cell_type": "markdown",
   "id": "fb22abc4-e626-45e2-9ce7-e3f6993865e3",
   "metadata": {},
   "source": [
    "We will use OpenAI's `GPT-4o-mini` to machinely translate `en-en` pairs to include `ua-ua` and `ua-en` pairs. For additional research, the benchmark may also be translated into languages that are close or similar to Ukrainian.\n"
   ]
  },
  {
   "cell_type": "code",
   "execution_count": null,
   "id": "78f77d7f-0312-4f2e-97ce-d19d26748f9b",
   "metadata": {},
   "outputs": [],
   "source": []
  }
 ],
 "metadata": {
  "kernelspec": {
   "display_name": "embed_ua_base",
   "language": "python",
   "name": "embed_ua_base"
  },
  "language_info": {
   "codemirror_mode": {
    "name": "ipython",
    "version": 3
   },
   "file_extension": ".py",
   "mimetype": "text/x-python",
   "name": "python",
   "nbconvert_exporter": "python",
   "pygments_lexer": "ipython3",
   "version": "3.9.21"
  }
 },
 "nbformat": 4,
 "nbformat_minor": 5
}
