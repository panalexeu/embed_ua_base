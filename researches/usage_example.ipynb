{
 "cells": [
  {
   "cell_type": "code",
   "execution_count": 1,
   "id": "43581865-b61c-4b92-b37d-f8f505a3e0a2",
   "metadata": {},
   "outputs": [],
   "source": [
    "!uv pip install -q sentence-transformers  # remove \"uv\" if you are using just pip as the package manager"
   ]
  },
  {
   "cell_type": "code",
   "execution_count": 2,
   "id": "96c36e33-2a79-4682-9629-771c1656a03d",
   "metadata": {},
   "outputs": [],
   "source": [
    "from sentence_transformers import SentenceTransformer\n",
    "\n",
    "model = SentenceTransformer('panalexeu/xlm-roberta-ua-distilled')\n",
    "\n",
    "sentences = [\n",
    "    'I love coffee!',\n",
    "    'Я люблю каву!',\n",
    "    'C is a compiled programming language known for its speed and low-level memory access.',  \n",
    "    'Python — це інтерпретована мова програмування, що цінується за простоту та читабельність.'\n",
    "]"
   ]
  },
  {
   "cell_type": "code",
   "execution_count": 3,
   "id": "90a9a948-31ef-4fef-b054-2eecfa3a6acc",
   "metadata": {},
   "outputs": [
    {
     "data": {
      "text/plain": [
       "(4, 768)"
      ]
     },
     "execution_count": 3,
     "metadata": {},
     "output_type": "execute_result"
    }
   ],
   "source": [
    "embeds = model.encode(sentences)\n",
    "embeds.shape"
   ]
  },
  {
   "cell_type": "code",
   "execution_count": 4,
   "id": "d423ce05-c49f-41fa-add5-59636d97ce53",
   "metadata": {},
   "outputs": [
    {
     "data": {
      "text/plain": [
       "tensor([[1.0000, 0.9907, 0.3557, 0.3706],\n",
       "        [0.9907, 1.0000, 0.3653, 0.3757],\n",
       "        [0.3557, 0.3653, 1.0000, 0.7821],\n",
       "        [0.3706, 0.3757, 0.7821, 1.0000]])"
      ]
     },
     "execution_count": 4,
     "metadata": {},
     "output_type": "execute_result"
    }
   ],
   "source": [
    "model.similarity(embeds, embeds)"
   ]
  }
 ],
 "metadata": {
  "kernelspec": {
   "display_name": "embed_ua_base",
   "language": "python",
   "name": "embed_ua_base"
  },
  "language_info": {
   "codemirror_mode": {
    "name": "ipython",
    "version": 3
   },
   "file_extension": ".py",
   "mimetype": "text/x-python",
   "name": "python",
   "nbconvert_exporter": "python",
   "pygments_lexer": "ipython3",
   "version": "3.9.21"
  }
 },
 "nbformat": 4,
 "nbformat_minor": 5
}
